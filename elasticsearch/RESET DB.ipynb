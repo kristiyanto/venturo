{
 "cells": [
  {
   "cell_type": "code",
   "execution_count": 141,
   "metadata": {
    "collapsed": false
   },
   "outputs": [],
   "source": [
    "from elasticsearch import Elasticsearch\n",
    "es = Elasticsearch(['ip-172-31-0-107', 'ip-172-31-0-100', ' ip-172-31-0-105', 'ip-172-31-0-106'], port=9200)\n",
    "\n",
    "driver_mapping = {\n",
    "  'settings' : {\n",
    "        'number_of_shards' : 20,\n",
    "        'number_of_replicas' : 2\n",
    "  },\n",
    "  'mappings': {\n",
    "    'rolling': {\n",
    "      'properties': {\n",
    "        'city': {'type': 'string',  \"include_in_all\": \"false\"},\n",
    "        'id': {'type': 'string'},\n",
    "        'status': {'type': 'string'},\n",
    "        'location': {'type': 'geo_point', 'lat_lon': 'true', \"include_in_all\": \"false\"},\n",
    "        'ctime': {'type': 'date'},\n",
    "        'p1': {'type': 'string', \"include_in_all\": \"false\"},\n",
    "        'p2': {'type': 'string', \"include_in_all\": \"false\"},\n",
    "        'destination': {'type': 'geo_point', 'lat_lon': 'true', \"include_in_all\": \"false\"},\n",
    "        'destinationid':{'type': 'string', \"include_in_all\": \"false\"},\n",
    "        'origin': {'type': 'geo_point', 'lat_lon': 'true', \"include_in_all\": \"false\"},\n",
    "      }\n",
    "    }\n",
    "  }\n",
    "}\n",
    "\n",
    "\n",
    "pass_mapping = {\n",
    "  'settings' : {\n",
    "        'number_of_shards' : 20,\n",
    "        'number_of_replicas' : 2\n",
    "    },  \n",
    "  'mappings': {\n",
    "    'rolling': {\n",
    "      'properties': {\n",
    "        'city': {'type': 'string',  \"include_in_all\": \"false\"},\n",
    "        'id': {'type': 'string'},\n",
    "        'status': {'type': 'string'},\n",
    "        'match': {'type': 'string', \"include_in_all\": \"false\"},                \n",
    "        'location': {'type': 'geo_point', 'lat_lon': 'true'},\n",
    "        'ctime': {'type': 'date'},\n",
    "        'ptime': {'type': 'integer', \"include_in_all\": \"false\"},\n",
    "        'atime': {'type': 'date', \"include_in_all\": \"false\"},\n",
    "        'driver': {'type': 'string', \"include_in_all\": \"false\"},\n",
    "        'destination': {'type': 'geo_point', 'lat_lon': 'true', \"include_in_all\": \"false\"},\n",
    "        'destinationid':{'type': 'string', \"include_in_all\": \"false\"},                \n",
    "        'altdest1': {'type': 'geo_point', 'lat_lon': 'true', \"include_in_all\": \"false\"},\n",
    "        'altdestid1':{'type': 'string', \"include_in_all\": \"false\"},                    \n",
    "        'altdest2': {'type': 'geo_point', 'lat_lon': 'true', \"include_in_all\": \"false\"},\n",
    "        'altdestid2':{'type': 'string', \"include_in_all\": \"false\"}, \n",
    "        'origin': {'type': 'geo_point', 'lat_lon': 'true', \"include_in_all\": \"false\"},\n",
    "        'path': {'type': 'string', \"include_in_all\": \"false\"}\n",
    "      }\n",
    "    }\n",
    "  }\n",
    "}\n",
    "\n",
    "\n"
   ]
  },
  {
   "cell_type": "code",
   "execution_count": 142,
   "metadata": {
    "collapsed": false
   },
   "outputs": [
    {
     "data": {
      "text/plain": [
       "{u'acknowledged': True}"
      ]
     },
     "execution_count": 142,
     "metadata": {},
     "output_type": "execute_result"
    }
   ],
   "source": [
    "es.indices.delete(index='driver', ignore=[400, 404])\n",
    "es.indices.delete(index='passenger', ignore=[400, 404])\n"
   ]
  },
  {
   "cell_type": "code",
   "execution_count": 143,
   "metadata": {
    "collapsed": false
   },
   "outputs": [
    {
     "data": {
      "text/plain": [
       "{u'acknowledged': True}"
      ]
     },
     "execution_count": 143,
     "metadata": {},
     "output_type": "execute_result"
    }
   ],
   "source": [
    "es.indices.create(index='driver', body=driver_mapping, ignore=400)\n",
    "es.indices.create(index='passenger', body=pass_mapping, ignore=400)"
   ]
  },
  {
   "cell_type": "code",
   "execution_count": null,
   "metadata": {
    "collapsed": true
   },
   "outputs": [],
   "source": []
  },
  {
   "cell_type": "code",
   "execution_count": null,
   "metadata": {
    "collapsed": true
   },
   "outputs": [],
   "source": []
  }
 ],
 "metadata": {
  "kernelspec": {
   "display_name": "Python 2",
   "language": "python",
   "name": "python2"
  },
  "language_info": {
   "codemirror_mode": {
    "name": "ipython",
    "version": 2
   },
   "file_extension": ".py",
   "mimetype": "text/x-python",
   "name": "python",
   "nbconvert_exporter": "python",
   "pygments_lexer": "ipython2",
   "version": "2.7.6"
  }
 },
 "nbformat": 4,
 "nbformat_minor": 0
}
