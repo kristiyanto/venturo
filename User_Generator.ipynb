{
 "cells": [
  {
   "cell_type": "code",
   "execution_count": 77,
   "metadata": {
    "collapsed": false
   },
   "outputs": [
    {
     "name": "stdout",
     "output_type": "stream",
     "text": [
      "{'Metropolitan Opera House': {'40.7727': ['73.9842']}, 'The Metropolitan Museum of Art': {'40.7794': ['73.9632']}, 'Intrepid Sea, Air & Space Museum': {'40.7644': ['73.9993']}, 'Solomon R. Guggenheim Museum': {'40.7831': ['73.9592']}, '9/11 Memorial & Museum': {'40.7114': ['74.0125']}, 'Empire Building': {'40.748817': ['-73.985428']}, 'American Museum of Natural History': {'40.780829': ['-73.974004']}, 'Times Square': {'40.758896': ['-73.98513']}}\n"
     ]
    }
   ],
   "source": [
    "# This is the script to generate users data \n",
    "# {passanger_id, current lat, current long, touristDestination1, touristDestination2, touristDestination3} \n",
    "# for the stream. Ideally, this would come from User.\n",
    "# Boundaries.csv contains information about the location boundaries for the generation.\n",
    "\n",
    "\n",
    "# Once generated, the request then sent to Kafka.\n",
    "\n",
    "import csv\n",
    "import random\n",
    "\n",
    "### Global \n",
    "boundaries_file = \"boundaries.csv\"\n",
    "tourist_attraction = \"destinations.csv\"\n",
    "last_UID = 0\n",
    "\n",
    "def loadBoundaries(boundaries_file):\n",
    "    boundaries = {}\n",
    "    with open(csv_file, 'r') as f:\n",
    "        reader = csv.reader(f, delimiter = ',')\n",
    "        for row in reader:\n",
    "            city = row[0]\n",
    "            fence = row[1:] \n",
    "            boundaries.update({city:fence})\n",
    "    return boundaries\n",
    "\n",
    "def loadTattraction(tourist_attraction):\n",
    "    attr = {}\n",
    "    with open(tourist_attraction, 'r') as f:\n",
    "        reader = csv.reader(f, delimiter = ',')\n",
    "        for row in reader:\n",
    "            city = row[0]\n",
    "            name = row[1]\n",
    "            loc = row[2:]\n",
    "            attr.update({city:{name:loc}})\n",
    "    print(attr)\n",
    "    return attr\n",
    "\n",
    "def genRandomRequest(city):\n",
    "    global last_UID\n",
    "    bnd = bound[city]\n",
    "    uid = last_UID + 1\n",
    "    curr_lat = random.uniform(float(bnd[0]), float(bnd[2]))\n",
    "    curr_long = random.uniform(float(bnd[1]),float(bnd[3])) \n",
    "    last_UID = uid\n",
    "    return{'passanger':uid, 'curr_lat': curr_lat, 'curr_long': curr_long}\n",
    "\n",
    "\n",
    "bound = loadBoundaries(csv_file)\n",
    "attrct = loadTattraction(tourist_attraction)\n",
    "u = genRandomRequest('NYC')"
   ]
  },
  {
   "cell_type": "code",
   "execution_count": null,
   "metadata": {
    "collapsed": false
   },
   "outputs": [],
   "source": []
  },
  {
   "cell_type": "code",
   "execution_count": null,
   "metadata": {
    "collapsed": true
   },
   "outputs": [],
   "source": []
  }
 ],
 "metadata": {
  "kernelspec": {
   "display_name": "Python 2",
   "language": "python",
   "name": "python2"
  },
  "language_info": {
   "codemirror_mode": {
    "name": "ipython",
    "version": 2
   },
   "file_extension": ".py",
   "mimetype": "text/x-python",
   "name": "python",
   "nbconvert_exporter": "python",
   "pygments_lexer": "ipython2",
   "version": "2.7.6"
  }
 },
 "nbformat": 4,
 "nbformat_minor": 0
}
