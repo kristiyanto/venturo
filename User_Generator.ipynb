{
 "cells": [
  {
   "cell_type": "code",
   "execution_count": 203,
   "metadata": {
    "collapsed": false
   },
   "outputs": [],
   "source": [
    "# This is the script to generate users data \n",
    "# {passanger_id, current lat, current long, touristDestination1, touristDestination2, touristDestination3} \n",
    "# for the stream. Ideally, this would come from User.\n",
    "# Boundaries.csv contains information about the location boundaries for the generation.\n",
    "\n",
    "\n",
    "# Once generated, the request then sent to Kafka.\n",
    "\n",
    "import csv\n",
    "import random\n",
    "from kafka import KafkaClient, KeyedProducer, SimpleConsumer\n",
    "from datetime import datetime\n",
    "import time\n",
    "from json import dumps\n",
    "\n",
    "### Global \n",
    "boundaries_file = \"boundaries.csv\"\n",
    "tourist_attractions = \"destinations.csv\"\n",
    "kafka = KafkaClient('localhost:9092')\n",
    "producer = KeyedProducer(kafka)\n",
    "\n",
    "last_uid = 0\n",
    "\n",
    "def loadBoundaries(boundaries_file):\n",
    "    boundaries = {}\n",
    "    with open(csv_file, 'r') as f:\n",
    "        reader = csv.reader(f, delimiter = ',')\n",
    "        for row in reader:\n",
    "            city = row[0]\n",
    "            fence = row[1:] \n",
    "            boundaries.update({city:fence})\n",
    "    f.close()\n",
    "    return boundaries\n",
    "\n",
    "def loadTattraction(tourist_attractions):\n",
    "    # This chunck of code is to be replaced with Yelp API, or recommender systems\n",
    "    attr = {}\n",
    "    with open(tourist_attractions, 'r') as f:\n",
    "        reader = csv.reader(f, delimiter = ',')\n",
    "        for row in reader:\n",
    "            name = row[1]\n",
    "            loc = (float(row[2]), float(row[3]))\n",
    "            attr.update({name:loc})\n",
    "    f.close()\n",
    "    return attr\n",
    "\n",
    "def genRandomRequest(city):\n",
    "    bnd = bound[city]\n",
    "    global last_uid \n",
    "    last_uid += 1\n",
    "    curr_lat = random.uniform(float(bnd[0]), float(bnd[2]))\n",
    "    curr_long = random.uniform(float(bnd[1]),float(bnd[3])) \n",
    "    att = random.sample(attract.items(),3)\n",
    "    return{'passenger':last_uid, 'curr_lat': curr_lat, 'curr_long': curr_long, 'curr_time': str(datetime.now()),\n",
    "           'dest1': att[0], 'dest2': att[1], 'dest1': att[2]}\n",
    "\n",
    "# Read the boundaries\n",
    "bound = loadBoundaries(csv_file)\n",
    "attract = loadTattraction(tourist_attractions)\n",
    "\n",
    "# Generate users\n",
    "\n",
    "for n in range(10):\n",
    "        user = genRandomRequest('NYC')\n",
    "        u_json = json.dumps(user)\n",
    "        passenger = json.dumps(user['passenger'])\n",
    "        producer.send(b'passenger', passenger, u_json) \n",
    "        time.sleep(2)"
   ]
  },
  {
   "cell_type": "code",
   "execution_count": null,
   "metadata": {
    "collapsed": false
   },
   "outputs": [],
   "source": []
  },
  {
   "cell_type": "code",
   "execution_count": null,
   "metadata": {
    "collapsed": false
   },
   "outputs": [],
   "source": []
  },
  {
   "cell_type": "code",
   "execution_count": null,
   "metadata": {
    "collapsed": true
   },
   "outputs": [],
   "source": []
  }
 ],
 "metadata": {
  "kernelspec": {
   "display_name": "Python 2",
   "language": "python",
   "name": "python2"
  },
  "language_info": {
   "codemirror_mode": {
    "name": "ipython",
    "version": 2
   },
   "file_extension": ".py",
   "mimetype": "text/x-python",
   "name": "python",
   "nbconvert_exporter": "python",
   "pygments_lexer": "ipython2",
   "version": "2.7.6"
  }
 },
 "nbformat": 4,
 "nbformat_minor": 0
}
