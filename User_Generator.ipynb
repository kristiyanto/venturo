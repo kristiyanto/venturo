{
 "cells": [
  {
   "cell_type": "code",
   "execution_count": 10,
   "metadata": {
    "collapsed": false
   },
   "outputs": [
    {
     "name": "stdout",
     "output_type": "stream",
     "text": [
      "[{'NYC': ['-74.021759', '-74.006996', '40.817634', '-73.918419']}]\n"
     ]
    }
   ],
   "source": [
    "# This is the script to generate users data \n",
    "# {passanger_id, current lat, current long, touristDestination1, touristDestination2, touristDestination3} \n",
    "# for the stream. Ideally, this would come from User.\n",
    "# Boundaries.csv contains information about the location boundaries for the generation.\n",
    "\n",
    "import csv\n",
    "\n",
    "csv_file = \"boundaries.csv\"\n",
    "    \n",
    "def getBoundaries(csv_file):\n",
    "    boundaries = []\n",
    "    with open(csv_file, 'r') as f:\n",
    "        reader = csv.reader(f, delimiter = ',')\n",
    "        for row in reader:\n",
    "            city = row[0]\n",
    "            fence = row[1:] \n",
    "            boundaries.append({city:fence})\n",
    "    return boundaries\n",
    "\n",
    "b = getBoundaries(csv_file)\n",
    "print(b)"
   ]
  },
  {
   "cell_type": "code",
   "execution_count": null,
   "metadata": {
    "collapsed": true
   },
   "outputs": [],
   "source": []
  }
 ],
 "metadata": {
  "kernelspec": {
   "display_name": "Python 2",
   "language": "python",
   "name": "python2"
  },
  "language_info": {
   "codemirror_mode": {
    "name": "ipython",
    "version": 2
   },
   "file_extension": ".py",
   "mimetype": "text/x-python",
   "name": "python",
   "nbconvert_exporter": "python",
   "pygments_lexer": "ipython2",
   "version": "2.7.6"
  }
 },
 "nbformat": 4,
 "nbformat_minor": 0
}
