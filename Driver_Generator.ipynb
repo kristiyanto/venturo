{
 "cells": [
  {
   "cell_type": "code",
   "execution_count": 14,
   "metadata": {
    "collapsed": false
   },
   "outputs": [],
   "source": [
    "# This is the script to populate driver's Data\n",
    "# {driver_id, time, curr_lat, curr_long, dest, load}\n",
    "\n",
    "import csv\n",
    "import random\n",
    "from kafka import KafkaClient, KeyedProducer, SimpleConsumer\n",
    "from datetime import datetime\n",
    "import time\n",
    "import json\n",
    "\n",
    "boundaries_file = \"boundaries.csv\"\n",
    "last_uid = 0 \n",
    "kafka = KafkaClient('localhost:9092')\n",
    "producer = KeyedProducer(kafka)\n",
    "\n",
    "\n",
    "def loadBoundaries(boundaries_file):\n",
    "    boundaries = {}\n",
    "    with open(boundaries_file, 'r') as f:\n",
    "        reader = csv.reader(f, delimiter = ',')\n",
    "        for row in reader:\n",
    "            city = row[0]\n",
    "            fence = row[1:] \n",
    "            boundaries.update({city:fence})\n",
    "    f.close()\n",
    "    return boundaries\n",
    "\n",
    "\n",
    "def generateDriver(city):\n",
    "    global last_uid \n",
    "    bnd = bound[city]\n",
    "    last_uid += 1\n",
    "    curr_lat = random.uniform(float(bnd[0]), float(bnd[2]))\n",
    "    curr_long = random.uniform(float(bnd[1]),float(bnd[3])) \n",
    "    return{'driver':last_uid, 'curr_lat': curr_lat, 'curr_long': curr_long, 'curr_time': str(datetime.now())}\n",
    "\n",
    "bound = loadBoundaries(boundaries_file)\n",
    "\n",
    "\n",
    "for n in range(10):\n",
    "        driver = generateDriver('NYC')\n",
    "        u_json = json.dumps(driver)\n",
    "        driver = json.dumps(driver['driver'])\n",
    "        producer.send(b'driver', driver, u_json) \n",
    "        time.sleep(2)"
   ]
  },
  {
   "cell_type": "code",
   "execution_count": 9,
   "metadata": {
    "collapsed": false
   },
   "outputs": [
    {
     "data": {
      "text/plain": [
       "{'curr_lat': 40.79387913157884,\n",
       " 'curr_long': -73.9889113748373,\n",
       " 'curr_time': '2016-09-15 06:31:16.716516',\n",
       " 'driver': 1}"
      ]
     },
     "execution_count": 9,
     "metadata": {},
     "output_type": "execute_result"
    }
   ],
   "source": [
    "driver"
   ]
  },
  {
   "cell_type": "code",
   "execution_count": null,
   "metadata": {
    "collapsed": true
   },
   "outputs": [],
   "source": []
  }
 ],
 "metadata": {
  "kernelspec": {
   "display_name": "Python 2",
   "language": "python",
   "name": "python2"
  },
  "language_info": {
   "codemirror_mode": {
    "name": "ipython",
    "version": 2
   },
   "file_extension": ".py",
   "mimetype": "text/x-python",
   "name": "python",
   "nbconvert_exporter": "python",
   "pygments_lexer": "ipython2",
   "version": "2.7.6"
  }
 },
 "nbformat": 4,
 "nbformat_minor": 0
}
