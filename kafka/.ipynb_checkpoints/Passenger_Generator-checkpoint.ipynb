{
 "cells": [
  {
   "cell_type": "code",
   "execution_count": 5,
   "metadata": {
    "collapsed": false
   },
   "outputs": [
    {
     "name": "stdout",
     "output_type": "stream",
     "text": [
      "{\"status\": \"Wait\", \"location\": [40.785018666419006, -73.96901473619585], \"alt-dest2\": [40.7831, 73.9592], \"alt-dest1\": [40.7794, 73.9632], \"destination\": [40.7727, 73.9842], \"driver\": null, \"id\": 1, \"match\": null, \"ctime\": \"2016-09-20 05:30:02.506037\"}\n",
      "{\"status\": \"Wait\", \"location\": [40.75784513148904, -73.9655939811341], \"alt-dest2\": [40.758896, -73.98513], \"alt-dest1\": [40.7831, 73.9592], \"destination\": [40.748817, -73.985428], \"driver\": null, \"id\": 2, \"match\": null, \"ctime\": \"2016-09-20 05:30:04.513661\"}\n",
      "{\"status\": \"Wait\", \"location\": [40.770724715900876, -74.00345026927965], \"alt-dest2\": [40.7831, 73.9592], \"alt-dest1\": [40.7794, 73.9632], \"destination\": [40.7727, 73.9842], \"driver\": null, \"id\": 3, \"match\": null, \"ctime\": \"2016-09-20 05:30:06.569261\"}\n",
      "{\"status\": \"Wait\", \"location\": [40.776385119546454, -73.94819696728555], \"alt-dest2\": [40.780829, -73.974004], \"alt-dest1\": [40.748817, -73.985428], \"destination\": [40.7727, 73.9842], \"driver\": null, \"id\": 4, \"match\": null, \"ctime\": \"2016-09-20 05:30:08.580649\"}\n",
      "{\"status\": \"Wait\", \"location\": [40.81078089522945, -73.93661181209002], \"alt-dest2\": [40.7727, 73.9842], \"alt-dest1\": [40.7644, 73.9993], \"destination\": [40.7114, 74.0125], \"driver\": null, \"id\": 5, \"match\": null, \"ctime\": \"2016-09-20 05:30:10.587796\"}\n",
      "{\"status\": \"Wait\", \"location\": [40.768520600088166, -73.92674038987711], \"alt-dest2\": [40.758896, -73.98513], \"alt-dest1\": [40.780829, -73.974004], \"destination\": [40.7644, 73.9993], \"driver\": null, \"id\": 6, \"match\": null, \"ctime\": \"2016-09-20 05:30:12.600102\"}\n",
      "{\"status\": \"Wait\", \"location\": [40.77819431192291, -73.97152275165247], \"alt-dest2\": [40.780829, -73.974004], \"alt-dest1\": [40.7831, 73.9592], \"destination\": [40.7727, 73.9842], \"driver\": null, \"id\": 7, \"match\": null, \"ctime\": \"2016-09-20 05:30:14.603834\"}\n",
      "{\"status\": \"Wait\", \"location\": [40.757038513152175, -73.95025051651737], \"alt-dest2\": [40.7831, 73.9592], \"alt-dest1\": [40.780829, -73.974004], \"destination\": [40.7794, 73.9632], \"driver\": null, \"id\": 8, \"match\": null, \"ctime\": \"2016-09-20 05:30:16.612516\"}\n",
      "{\"status\": \"Wait\", \"location\": [40.73492332511417, -73.92301462867292], \"alt-dest2\": [40.7644, 73.9993], \"alt-dest1\": [40.7831, 73.9592], \"destination\": [40.7794, 73.9632], \"driver\": null, \"id\": 9, \"match\": null, \"ctime\": \"2016-09-20 05:30:18.615581\"}\n",
      "{\"status\": \"Wait\", \"location\": [40.78945665844933, -74.00484524447502], \"alt-dest2\": [40.7727, 73.9842], \"alt-dest1\": [40.758896, -73.98513], \"destination\": [40.780829, -73.974004], \"driver\": null, \"id\": 10, \"match\": null, \"ctime\": \"2016-09-20 05:30:20.624636\"}\n"
     ]
    }
   ],
   "source": [
    "# This is the script to populate passenger data \n",
    "# {passenger_id, time, current lat, current long, touristDestination1, touristDestination2, touristDestination3} \n",
    "# for the stream. Ideally, this would come from User.\n",
    "# Boundaries.csv contains information about the location boundaries for the generation.\n",
    "\n",
    "\n",
    "# Once generated, the request then sent to Kafka.\n",
    "\n",
    "import csv\n",
    "import random\n",
    "from kafka import KafkaClient, KeyedProducer, SimpleConsumer\n",
    "from datetime import datetime\n",
    "import time\n",
    "import json\n",
    "\n",
    "### Global \n",
    "boundaries_file = \"boundaries.csv\"\n",
    "tourist_attractions = \"destinations.csv\"\n",
    "kafka = KafkaClient('localhost:9092')\n",
    "producer = KeyedProducer(kafka)\n",
    "\n",
    "last_uid = 0\n",
    "\n",
    "def loadBoundaries(boundaries_file):\n",
    "    boundaries = {}\n",
    "    with open(boundaries_file, 'r') as f:\n",
    "        reader = csv.reader(f, delimiter = ',')\n",
    "        for row in reader:\n",
    "            city = row[0]\n",
    "            fence = row[1:] \n",
    "            boundaries.update({city:fence})\n",
    "    f.close()\n",
    "    return boundaries\n",
    "\n",
    "def loadTattraction(tourist_attractions):\n",
    "    # This chunck of code is to be replaced with Yelp API, or recommender systems\n",
    "    attr = {}\n",
    "    with open(tourist_attractions, 'r') as f:\n",
    "        reader = csv.reader(f, delimiter = ',')\n",
    "        for row in reader:\n",
    "            name = row[1]\n",
    "            loc = (float(row[2]), float(row[3]))\n",
    "            attr.update({name:loc})\n",
    "    f.close()\n",
    "    return attr\n",
    "\n",
    "def generatePassenger(city):\n",
    "    global last_uid \n",
    "    bnd = bound[city]\n",
    "    last_uid += 1\n",
    "    curr_lat = random.uniform(float(bnd[0]), float(bnd[2]))\n",
    "    curr_long = random.uniform(float(bnd[1]),float(bnd[3])) \n",
    "    att = random.sample(attract.values(),3)\n",
    "    pass_mapping = {\n",
    "            'id': last_uid,\n",
    "            'status': 'wait',\n",
    "            'match': None,                \n",
    "            'location': [curr_lat, curr_long],\n",
    "            'ctime': str(datetime.now()),\n",
    "            'driver': None,\n",
    "            'destination': att[0],\n",
    "            'alt-dest1': att[1],\n",
    "            'alt-dest2': att[2],\n",
    "          }\n",
    "    return(pass_mapping)\n",
    "\n",
    "#    return{'passenger':last_uid, 'curr_lat': curr_lat, 'curr_long': curr_long, 'curr_time': ,\n",
    "#           'dest1': att[0], 'dest2': att[1], 'dest1': att[2]}\n",
    "    \n",
    "\n",
    "# Read the boundaries\n",
    "bound = loadBoundaries(boundaries_file)\n",
    "attract = loadTattraction(tourist_attractions)\n",
    "\n",
    "# Generate users\n",
    "\n",
    "for n in range(10):\n",
    "        user = generatePassenger('NYC')\n",
    "        u_json = json.dumps(user)\n",
    "        id = json.dumps(user['id'])\n",
    "        print(u_json)\n",
    "        producer.send(b'passenger', id, u_json) \n",
    "        time.sleep(2)"
   ]
  },
  {
   "cell_type": "code",
   "execution_count": 6,
   "metadata": {
    "collapsed": false
   },
   "outputs": [
    {
     "data": {
      "text/plain": [
       "{'9/11 Memorial & Museum': (40.7114, 74.0125),\n",
       " 'American Museum of Natural History': (40.780829, -73.974004),\n",
       " 'Empire Building': (40.748817, -73.985428),\n",
       " 'Intrepid Sea, Air & Space Museum': (40.7644, 73.9993),\n",
       " 'Metropolitan Opera House': (40.7727, 73.9842),\n",
       " 'Solomon R. Guggenheim Museum': (40.7831, 73.9592),\n",
       " 'The Metropolitan Museum of Art': (40.7794, 73.9632),\n",
       " 'Times Square': (40.758896, -73.98513)}"
      ]
     },
     "execution_count": 6,
     "metadata": {},
     "output_type": "execute_result"
    }
   ],
   "source": [
    "attract"
   ]
  },
  {
   "cell_type": "code",
   "execution_count": null,
   "metadata": {
    "collapsed": true
   },
   "outputs": [],
   "source": []
  }
 ],
 "metadata": {
  "kernelspec": {
   "display_name": "Python 2",
   "language": "python",
   "name": "python2"
  },
  "language_info": {
   "codemirror_mode": {
    "name": "ipython",
    "version": 2
   },
   "file_extension": ".py",
   "mimetype": "text/x-python",
   "name": "python",
   "nbconvert_exporter": "python",
   "pygments_lexer": "ipython2",
   "version": "2.7.6"
  }
 },
 "nbformat": 4,
 "nbformat_minor": 0
}
