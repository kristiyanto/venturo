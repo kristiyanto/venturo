{
 "cells": [
  {
   "cell_type": "code",
   "execution_count": null,
   "metadata": {
    "collapsed": false
   },
   "outputs": [],
   "source": [
    "# This is the script to populate driver's Data\n",
    "# {driver_id, time, curr_lat, curr_long, dest, load}\n",
    "\n",
    "import time\n",
    "import json\n",
    "import random \n",
    "import csv\n",
    "import random\n",
    "\n",
    "from decimal import *\n",
    "from kafka import KeyedProducer, KafkaClient\n",
    "from datetime import datetime\n",
    "from elasticsearch import Elasticsearch\n",
    "\n",
    "\n",
    "boundaries_file = \"boundaries.csv\"\n",
    "last_uid = 0 \n",
    "kafka = KafkaClient('localhost:9092')\n",
    "producer = KeyedProducer(kafka)\n",
    "city = 'NYC'\n",
    "total_drivers = 40\n",
    "sleep = 2\n",
    "step_to_dest = 2\n",
    "\n",
    "es = Elasticsearch(['ip-172-31-0-107', 'ip-172-31-0-100', \\\n",
    "                    ' ip-172-31-0-105', 'ip-172-31-0-106'], \\\n",
    "                   port=9200)\n",
    "\n",
    "\n",
    "\n",
    "def loadBoundaries(boundaries_file):\n",
    "    boundaries = {}\n",
    "    with open(boundaries_file, 'r') as f:\n",
    "        reader = csv.reader(f, delimiter = ',')\n",
    "        for row in reader:\n",
    "            city = row[0]\n",
    "            fence = row[1:] \n",
    "            boundaries.update({city:fence})\n",
    "    f.close()\n",
    "    return boundaries\n",
    "\n",
    "def simulateTrip(id, city):\n",
    "    step = 4\n",
    "    bnd = bound[city]\n",
    "    q = es.get(index='driver', doc_type='rolling', id=id, ignore=[404, 400])\n",
    "    if q['found'] and (q['_source']['status'] in ['ontrip', 'pickup']): \n",
    "        d = q['_source']['destination']\n",
    "        c = q['_source']['location']\n",
    "        return [c[0] + ((c[0] - c[0])/step_to_dest), d[1] + ((d[1] - d[1])/step_to_dest)]\n",
    "    else:\n",
    "        return [random.uniform(float(bnd[0]), float(bnd[2])), \\\n",
    "                random.uniform(float(bnd[1]), float(bnd[3]))]\n",
    "        \n",
    "        \n",
    "def generateDriver(city):\n",
    "    global last_uid \n",
    "    last_uid += 1\n",
    "    d_id = random.randint(1, total_drivers)\n",
    "  \n",
    "    \n",
    "    driver_mapping ={ \n",
    "            'name': 'driver_{}'.format(d_id),\n",
    "            'id': d_id,\n",
    "            'status': 'idle',\n",
    "            'location': simulateTrip(d_id, city),\n",
    "            'ctime': str(datetime.now()),\n",
    "            'p1': None,\n",
    "            'p2': None,\n",
    "            'destination': None,\n",
    "            'destinationid': None,\n",
    "            'altdest1': None,\n",
    "            'altdest1id': None,\n",
    "            'altdest2': None,\n",
    "            'altdest2id': None,\n",
    "        }\n",
    "\n",
    "    q = es.get(index='driver', doc_type='rolling', id=d_id, ignore=[404, 400])\n",
    "    if q['found'] and (q['_source']['status'] in ['ontrip', 'pickup']): \n",
    "        driver_mapping['status'] = q['_source']['status']\n",
    "        driver_mapping['p1'] = q['_source']['p1']\n",
    "        driver_mapping['p2'] = q['_source']['p2']\n",
    "        driver_mapping['destination'] = q['_source']['destination']\n",
    "    return(driver_mapping)\n",
    "\n",
    "bound = loadBoundaries(boundaries_file)\n",
    "for n in range(total_drivers):\n",
    "    driver = generateDriver(city)\n",
    "    u_json = json.dumps(driver).encode('utf-8')\n",
    "    key = json.dumps(city).encode('utf-8')\n",
    "    print('{}'.format(driver))\n",
    "    producer.send(b'driver', key, u_json) \n",
    "    #time.sleep(sleep)\n"
   ]
  },
  {
   "cell_type": "code",
   "execution_count": 7,
   "metadata": {
    "collapsed": false
   },
   "outputs": [],
   "source": [
    "from decimal import *"
   ]
  },
  {
   "cell_type": "code",
   "execution_count": 9,
   "metadata": {
    "collapsed": false
   },
   "outputs": [],
   "source": []
  },
  {
   "cell_type": "code",
   "execution_count": null,
   "metadata": {
    "collapsed": true
   },
   "outputs": [],
   "source": []
  }
 ],
 "metadata": {
  "kernelspec": {
   "display_name": "Python 2",
   "language": "python",
   "name": "python2"
  },
  "language_info": {
   "codemirror_mode": {
    "name": "ipython",
    "version": 2
   },
   "file_extension": ".py",
   "mimetype": "text/x-python",
   "name": "python",
   "nbconvert_exporter": "python",
   "pygments_lexer": "ipython2",
   "version": "2.7.6"
  }
 },
 "nbformat": 4,
 "nbformat_minor": 0
}
