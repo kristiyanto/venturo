{
 "cells": [
  {
   "cell_type": "code",
   "execution_count": 1,
   "metadata": {
    "collapsed": true
   },
   "outputs": [],
   "source": [
    "import os\n",
    "import json\n",
    "import ast\n",
    "from pyspark import SparkContext\n",
    "from pyspark import SparkConf\n",
    "from pyspark.streaming import StreamingContext\n",
    "from pyspark.streaming.kafka import KafkaUtils\n",
    "from elasticsearch import Elasticsearch\n",
    "from datetime import datetime\n",
    "from geopy.distance import vincenty, Point\n",
    "\n",
    "cluster = ['ip-172-31-0-107', 'ip-172-31-0-100', 'ip-172-31-0-105', 'ip-172-31-0-106']\n",
    "\n",
    "sc = SparkContext(appName=\"trip\")\n",
    "sqlContext = SQLContext(sc)\n",
    "ssc = StreamingContext(sc, 3)\n",
    "sc.setLogLevel(\"WARN\")\n",
    "es = Elasticsearch(cluster, port=9200)\n"
   ]
  },
  {
   "cell_type": "code",
   "execution_count": 75,
   "metadata": {
    "collapsed": true
   },
   "outputs": [],
   "source": [
    "driver = sc.textFile(\"test.txt\")\n",
    "D = driver.map(ast.literal_eval)"
   ]
  },
  {
   "cell_type": "code",
   "execution_count": 365,
   "metadata": {
    "collapsed": false
   },
   "outputs": [],
   "source": [
    "def assign(x):\n",
    "    ctime = x['ctime']\n",
    "    location = x['location']\n",
    "    driver = x['id']\n",
    "    name = x['name']\n",
    "    p1 = x['p1']\n",
    "    p2 = x['p2']\n",
    "    try:\n",
    "        tmp = datetime.strptime(\"{}\".format(ctime), '%Y-%m-%d %H:%M:%S.%f')\n",
    "        ctime = tmp.strftime('%Y-%m-%dT%H:%M:%S.%fZ')\n",
    "    except:\n",
    "        pass\n",
    "    \n",
    "    def nearby(ctime, location, driver, name, p1=None, p2=None):\n",
    "        cluster = 'ec2-52-27-127-152.us-west-2.compute.amazonaws.com'\n",
    "        es = Elasticsearch(cluster, port=9200)\n",
    "\n",
    "        geo_query = { \"from\" : 0, \"size\" : 1,\n",
    "              \"query\": {\n",
    "              \"filtered\": {\n",
    "                \"query\" : {\n",
    "                 \"term\" : {\"status\": \"wait\"}},\n",
    "                \"filter\": {\n",
    "                \"geo_distance\": {\n",
    "                    \"distance\": '3km',\n",
    "                    \"distance_type\": \"plane\", \n",
    "                    \"location\": location }}\n",
    "              }}}\n",
    "        \n",
    "        res = es.search(index='passenger', doc_type='rolling', body=geo_query )\n",
    "\n",
    "        if len(res['hits']['hits'])>0: \n",
    "            passenger = res['hits']['hits'][0][\"_source\"]\n",
    "            doc = json.dumps({\"status\": \"pickup\", \"driver\": driver})\n",
    "            q = '{{\"doc\": {}}}'.format(doc)\n",
    "            res = es.update(index='passenger', doc_type='rolling', id=passenger['id'], body=q, ignore=[400,404])\n",
    "            doc = {\"status\": \"pickup\", \"driver\": driver, \"ctime\": ctime, \"location\": location, \\\n",
    "                   'name': name, 'destination': passenger['location'], 'destinationid': passenger['id']}\n",
    "            if not p1:\n",
    "                doc['p1'] = passenger['id']\n",
    "            elif not p2:\n",
    "                doc['p2'] = passenger['id']\n",
    "            else:\n",
    "                pass # It's full!\n",
    "            doc = json.dumps(doc)\n",
    "            q = '{{\"doc\": {}}}, \"doc_as_upsert\":True'.format(doc)\n",
    "            res = es.update(index='driver', doc_type='rolling', id=passenger['id'], \\\n",
    "                            body=q, ignore=[400,404])\n",
    "            return res\n",
    "        else:\n",
    "            res = 'none'\n",
    "        return res\n",
    "    res = nearby(ctime, location, driver, name, p1, p2)\n",
    "    return res"
   ]
  },
  {
   "cell_type": "code",
   "execution_count": 403,
   "metadata": {
    "collapsed": false
   },
   "outputs": [],
   "source": [
    "idle = D.filter(lambda x: x['status']=='idle')\n",
    "if idle.count() > 1: idle.map(assign).count()"
   ]
  },
  {
   "cell_type": "code",
   "execution_count": 394,
   "metadata": {
    "collapsed": false
   },
   "outputs": [],
   "source": [
    "def pickup(x):\n",
    "    if not x: return \"Hey!\"\n",
    "    ctime = x['ctime']\n",
    "    location = x['location']\n",
    "    driver = x['id']\n",
    "    name = x['name']\n",
    "    p1 = x['p1']\n",
    "    p2 = x['p2']\n",
    "    try:\n",
    "        tmp = datetime.strptime(\"{}\".format(ctime), '%Y-%m-%d %H:%M:%S.%f')\n",
    "        ctime = tmp.strftime('%Y-%m-%dT%H:%M:%S.%fZ')\n",
    "    except:\n",
    "        pass\n",
    "    \n",
    "    def hopOn(ctime, location, driver, name, p1=None, p2=None):\n",
    "        passenger = p2 if p2 else p1\n",
    "        p = es.get(index='passenger', doc_type='rolling', id=passenger, ignore=[404, 400])['_source']\n",
    "        if (vincenty(Point(location), Point(p['location'])).meters < 300):\n",
    "            doc = {\"status\": \"ontrip\", \"ctime\": ctime, \"location\": location,\\\n",
    "                   'destination': passenger['destination'], 'destinationid': passenger['destinationid']}\n",
    "            doc = json.dumps(doc)\n",
    "            q = '{{\"doc\": {}}}'.format(doc)\n",
    "            res = es.update(index='driver', doc_type='rolling', id=driver, \\\n",
    "                        body=q, ignore=[400,404])\n",
    "\n",
    "            ## For the sake of demo only, so that the dots are not overlaps on the map\n",
    "            newLoc = [round(location[0] - 0.0001,4), round(location[1] - 0.0001,4)]\n",
    "            if p2: newLoc_ = [round(location[0] + 0.0001,4), round(location[1] + 0.0001,4)]\n",
    "\n",
    "            doc = json.dumps({\"status\": \"ontrip\", \"ctime\": ctime, \"location\": newLoc})\n",
    "            if p2:\n",
    "                doc_ = json.dumps({\"status\": \"ontrip\", \"ctime\": ctime, \"location\": newLoc_, match: p1})\n",
    "                doc['match'] = p2\n",
    "                q_ = '{{\"doc\": {}}}'.format(doc_)\n",
    "                res = es.update(index='passenger', doc_type='rolling', id=p2, body=q_, ignore=[400,404])\n",
    "\n",
    "            q = '{{\"doc\": {}}}'.format(doc)\n",
    "            res = es.update(index='passenger', doc_type='rolling', id=p1, body=q, ignore=[400,404])\n",
    "        else:\n",
    "            res = False\n",
    "        return res\n",
    "    result = hopOn(ctime, location, driver, name, p1, p2)\n",
    "    return result"
   ]
  },
  {
   "cell_type": "code",
   "execution_count": 405,
   "metadata": {
    "collapsed": false,
    "scrolled": false
   },
   "outputs": [],
   "source": [
    "pickup = D.filter(lambda x: x['status']=='pickup')\n",
    "if pickup.count() > 1: idle.map(pickup).count()"
   ]
  },
  {
   "cell_type": "code",
   "execution_count": 400,
   "metadata": {
    "collapsed": false
   },
   "outputs": [
    {
     "data": {
      "text/plain": [
       "<function list.count>"
      ]
     },
     "execution_count": 400,
     "metadata": {},
     "output_type": "execute_result"
    }
   ],
   "source": [
    "idle.count"
   ]
  },
  {
   "cell_type": "code",
   "execution_count": 316,
   "metadata": {
    "collapsed": false
   },
   "outputs": [],
   "source": [
    "geo_query = { \"from\" : 0, \"size\" : 1,\n",
    "          \"query\": {\n",
    "          \"filtered\": {\n",
    "            \"query\" : {\n",
    "             \"term\" : {\"status\": \"wait\"}},\n",
    "            \"filter\": {\n",
    "            \"geo_distance\": {\n",
    "                \"distance\": '3km',\n",
    "                \"distance_type\": \"plane\", \n",
    "                \"location\": [40.8083, -73.924] }}\n",
    "          }}}\n",
    "\n",
    "res = es.search(index='passenger', doc_type='rolling', body=geo_query )\n",
    "passenger = res['hits']['hits'][0]['_source']\n"
   ]
  },
  {
   "cell_type": "code",
   "execution_count": 370,
   "metadata": {
    "collapsed": false,
    "scrolled": true
   },
   "outputs": [],
   "source": [
    "res = es.get(index='passenger', doc_type='rolling', id=1, ignore=[404, 400])"
   ]
  },
  {
   "cell_type": "code",
   "execution_count": 371,
   "metadata": {
    "collapsed": false
   },
   "outputs": [
    {
     "data": {
      "text/plain": [
       "{'_id': '1',\n",
       " '_index': 'passenger',\n",
       " '_source': {'altdest1': [40.7808, -73.974],\n",
       "  'altdest1id': 'American Museum of Natural History',\n",
       "  'altdest2': [40.7114, -74.0125],\n",
       "  'altdest2id': '9/11 Memorial & Museum',\n",
       "  'ctime': '2016-09-28T07:16:28.041507Z',\n",
       "  'destination': [40.7588, -73.9851],\n",
       "  'destinationid': 'Times Square',\n",
       "  'driver': 6,\n",
       "  'id': 1,\n",
       "  'location': [40.717, -73.9695],\n",
       "  'match': None,\n",
       "  'name': 'driver_6',\n",
       "  'origin': [40.7274, -73.9707],\n",
       "  'p1': 1,\n",
       "  'status': 'pickup'},\n",
       " '_type': 'rolling',\n",
       " '_version': 10,\n",
       " 'found': True}"
      ]
     },
     "execution_count": 371,
     "metadata": {},
     "output_type": "execute_result"
    }
   ],
   "source": [
    "res"
   ]
  },
  {
   "cell_type": "code",
   "execution_count": 373,
   "metadata": {
    "collapsed": false
   },
   "outputs": [],
   "source": [
    "x = [40.717, -73.9695]"
   ]
  },
  {
   "cell_type": "code",
   "execution_count": 377,
   "metadata": {
    "collapsed": false
   },
   "outputs": [
    {
     "data": {
      "text/plain": [
       "-73.9696"
      ]
     },
     "execution_count": 377,
     "metadata": {},
     "output_type": "execute_result"
    }
   ],
   "source": [
    "round(x[0] - 0.0001,4)\n",
    "round(x[1] - 0.0001,4)\n"
   ]
  },
  {
   "cell_type": "code",
   "execution_count": null,
   "metadata": {
    "collapsed": true
   },
   "outputs": [],
   "source": []
  }
 ],
 "metadata": {
  "kernelspec": {
   "display_name": "Python 3",
   "language": "python",
   "name": "python3"
  },
  "language_info": {
   "codemirror_mode": {
    "name": "ipython",
    "version": 3
   },
   "file_extension": ".py",
   "mimetype": "text/x-python",
   "name": "python",
   "nbconvert_exporter": "python",
   "pygments_lexer": "ipython3",
   "version": "3.5.2"
  }
 },
 "nbformat": 4,
 "nbformat_minor": 0
}
