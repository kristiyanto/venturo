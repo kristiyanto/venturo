{
 "cells": [
  {
   "cell_type": "code",
   "execution_count": 34,
   "metadata": {
    "collapsed": false
   },
   "outputs": [
    {
     "ename": "IOError",
     "evalue": "[Errno 2] No such file or directory: 'boundaries.csv'",
     "output_type": "error",
     "traceback": [
      "\u001b[1;31m---------------------------------------------------------------------------\u001b[0m",
      "\u001b[1;31mIOError\u001b[0m                                   Traceback (most recent call last)",
      "\u001b[1;32m<ipython-input-34-dd26de568138>\u001b[0m in \u001b[0;36m<module>\u001b[1;34m()\u001b[0m\n\u001b[0;32m     68\u001b[0m     \u001b[1;32mreturn\u001b[0m\u001b[1;33m(\u001b[0m\u001b[0mdriver_mapping\u001b[0m\u001b[1;33m)\u001b[0m\u001b[1;33m\u001b[0m\u001b[0m\n\u001b[0;32m     69\u001b[0m \u001b[1;33m\u001b[0m\u001b[0m\n\u001b[1;32m---> 70\u001b[1;33m \u001b[0mbound\u001b[0m \u001b[1;33m=\u001b[0m \u001b[0mloadBoundaries\u001b[0m\u001b[1;33m(\u001b[0m\u001b[0mboundaries_file\u001b[0m\u001b[1;33m)\u001b[0m\u001b[1;33m\u001b[0m\u001b[0m\n\u001b[0m\u001b[0;32m     71\u001b[0m \u001b[1;32mfor\u001b[0m \u001b[0mn\u001b[0m \u001b[1;32min\u001b[0m \u001b[0mrange\u001b[0m\u001b[1;33m(\u001b[0m\u001b[1;36m20\u001b[0m\u001b[1;33m)\u001b[0m\u001b[1;33m:\u001b[0m\u001b[1;33m\u001b[0m\u001b[0m\n\u001b[0;32m     72\u001b[0m     \u001b[0mdriver\u001b[0m \u001b[1;33m=\u001b[0m \u001b[0mgenerateDriver\u001b[0m\u001b[1;33m(\u001b[0m\u001b[0mcity\u001b[0m\u001b[1;33m)\u001b[0m\u001b[1;33m\u001b[0m\u001b[0m\n",
      "\u001b[1;32m<ipython-input-34-dd26de568138>\u001b[0m in \u001b[0;36mloadBoundaries\u001b[1;34m(boundaries_file)\u001b[0m\n\u001b[0;32m     23\u001b[0m \u001b[1;32mdef\u001b[0m \u001b[0mloadBoundaries\u001b[0m\u001b[1;33m(\u001b[0m\u001b[0mboundaries_file\u001b[0m\u001b[1;33m)\u001b[0m\u001b[1;33m:\u001b[0m\u001b[1;33m\u001b[0m\u001b[0m\n\u001b[0;32m     24\u001b[0m     \u001b[0mboundaries\u001b[0m \u001b[1;33m=\u001b[0m \u001b[1;33m{\u001b[0m\u001b[1;33m}\u001b[0m\u001b[1;33m\u001b[0m\u001b[0m\n\u001b[1;32m---> 25\u001b[1;33m     \u001b[1;32mwith\u001b[0m \u001b[0mopen\u001b[0m\u001b[1;33m(\u001b[0m\u001b[0mboundaries_file\u001b[0m\u001b[1;33m,\u001b[0m \u001b[1;34m'r'\u001b[0m\u001b[1;33m)\u001b[0m \u001b[1;32mas\u001b[0m \u001b[0mf\u001b[0m\u001b[1;33m:\u001b[0m\u001b[1;33m\u001b[0m\u001b[0m\n\u001b[0m\u001b[0;32m     26\u001b[0m         \u001b[0mreader\u001b[0m \u001b[1;33m=\u001b[0m \u001b[0mcsv\u001b[0m\u001b[1;33m.\u001b[0m\u001b[0mreader\u001b[0m\u001b[1;33m(\u001b[0m\u001b[0mf\u001b[0m\u001b[1;33m,\u001b[0m \u001b[0mdelimiter\u001b[0m \u001b[1;33m=\u001b[0m \u001b[1;34m','\u001b[0m\u001b[1;33m)\u001b[0m\u001b[1;33m\u001b[0m\u001b[0m\n\u001b[0;32m     27\u001b[0m         \u001b[1;32mfor\u001b[0m \u001b[0mrow\u001b[0m \u001b[1;32min\u001b[0m \u001b[0mreader\u001b[0m\u001b[1;33m:\u001b[0m\u001b[1;33m\u001b[0m\u001b[0m\n",
      "\u001b[1;31mIOError\u001b[0m: [Errno 2] No such file or directory: 'boundaries.csv'"
     ]
    }
   ],
   "source": [
    "# This is the script to populate driver's Data\n",
    "# {driver_id, time, curr_lat, curr_long, dest, load}\n",
    "\n",
    "import csv\n",
    "import random\n",
    "from kafka import KeyedProducer, KafkaClient\n",
    "from datetime import datetime\n",
    "import time\n",
    "import json\n",
    "import random \n",
    "from elasticsearch import Elasticsearch\n",
    "\n",
    "boundaries_file = \"boundaries.csv\"\n",
    "last_uid = 0 \n",
    "kafka = KafkaClient('localhost:9092')\n",
    "producer = KeyedProducer(kafka)\n",
    "city = 'NYC'\n",
    "\n",
    "es = Elasticsearch(['ip-172-31-0-107', 'ip-172-31-0-100', \\\n",
    "                    ' ip-172-31-0-105', 'ip-172-31-0-106'], \\\n",
    "                   port=9200)\n",
    "\n",
    "\n",
    "\n",
    "def loadBoundaries(boundaries_file):\n",
    "    boundaries = {}\n",
    "    with open(boundaries_file, 'r') as f:\n",
    "        reader = csv.reader(f, delimiter = ',')\n",
    "        for row in reader:\n",
    "            city = row[0]\n",
    "            fence = row[1:] \n",
    "            boundaries.update({city:fence})\n",
    "    f.close()\n",
    "    return boundaries\n",
    "\n",
    "def simulateTrip(id, c):\n",
    "    step = 4\n",
    "    q = es.get(index='driver', doc_type='rolling', id=id, ignore=[404, 400])\n",
    "    if q['found'] and (q['_source']['status'] in ['ontrip', 'pickup']): \n",
    "        d = q['_source']['destination']\n",
    "        c = q['_source']['location']\n",
    "        return [c[0] + ((c[0] - d[0])/step), c[1] + ((c[1] - d[1])/step)]\n",
    "    else:\n",
    "        return [random.uniform(float(bnd[0]), float(bnd[2])), \\\n",
    "                random.uniform(float(bnd[1]),float(bnd[3]))]\n",
    "        \n",
    "        \n",
    "def generateDriver(city):\n",
    "    global last_uid \n",
    "    bnd = bound[city]\n",
    "    last_uid += 1\n",
    "    curr_lat = random.uniform(float(bnd[0]), float(bnd[2]))\n",
    "    curr_long = random.uniform(float(bnd[1]),float(bnd[3]))\n",
    "    \n",
    "    driver_mapping ={ \n",
    "            'name': 'driver_{}'.format(last_uid),\n",
    "            'id': random.randint(1, 20),\n",
    "            'status': 'idle',\n",
    "            'location': simulateTrip(),\n",
    "            'ctime': str(datetime.now()),\n",
    "            'p1': None,\n",
    "            'p2': None,\n",
    "            'destination': None,\n",
    "            'destinationid': None,\n",
    "            'altdest1': None,\n",
    "            'altdest1id': None,\n",
    "            'altdest2': None,\n",
    "            'altdest2id': None,\n",
    "        }\n",
    "\n",
    "    return(driver_mapping)\n",
    "\n",
    "bound = loadBoundaries(boundaries_file)\n",
    "for n in range(20):\n",
    "    driver = generateDriver(city)\n",
    "    u_json = json.dumps(driver).encode('utf-8')\n",
    "    key = json.dumps(city).encode('utf-8')\n",
    "    print('{}'.format(driver))\n",
    "    producer.send(b'driver', key, u_json) \n",
    "    time.sleep(2)\n"
   ]
  },
  {
   "cell_type": "code",
   "execution_count": 35,
   "metadata": {
    "collapsed": false
   },
   "outputs": [],
   "source": [
    "\n",
    "import csv\n",
    "import random\n",
    "from kafka import KeyedProducer, KafkaClient\n",
    "from datetime import datetime\n",
    "import time\n",
    "import json\n",
    "import random \n",
    "from elasticsearch import Elasticsearch\n",
    "\n",
    "boundaries_file = \"boundaries.csv\"\n",
    "last_uid = 0 \n",
    "kafka = KafkaClient('localhost:9092')\n",
    "producer = KeyedProducer(kafka)\n",
    "city = 'NYC'\n",
    "\n",
    "es = Elasticsearch(['ip-172-31-0-107', 'ip-172-31-0-100', ' ip-172-31-0-105', 'ip-172-31-0-106'], port=9200)\n",
    "\n"
   ]
  },
  {
   "cell_type": "code",
   "execution_count": 37,
   "metadata": {
    "collapsed": false
   },
   "outputs": [],
   "source": [
    "    q = es.get(index='driver', doc_type='rolling', id=5, ignore=[404, 400])\n"
   ]
  },
  {
   "cell_type": "code",
   "execution_count": 38,
   "metadata": {
    "collapsed": false
   },
   "outputs": [],
   "source": [
    "if q['found'] and (q['_source']['status'] in ['ontrip', 'pickup']): \n",
    "        d = q['_source']['destination']\n",
    "        c = q['_source']['location']\n",
    "        print [c[0] + ((c[0] - d[0])/step_to_dest), d[1] + ((d[1] - d[1])/step_to_dest)]"
   ]
  },
  {
   "cell_type": "code",
   "execution_count": 16,
   "metadata": {
    "collapsed": false
   },
   "outputs": [],
   "source": [
    "\n",
    "#from pyspark import SparkContext\n",
    "#from pyspark import SparkConf\n",
    "#from pyspark.streaming import StreamingContext\n",
    "#from pyspark.streaming.kafka import KafkaUtils\n",
    "\n",
    "from kafka import KafkaConsumer\n",
    "from elasticsearch import Elasticsearch\n",
    "import os\n",
    "import json\n",
    "from datetime import datetime\n",
    "\n",
    "\n",
    "#sc = SparkContext(appName=\"trip\")\n",
    "#ssc = StreamingContext(sc, 4)\n",
    "es = Elasticsearch(['ip-172-31-0-107', 'ip-172-31-0-100', ' ip-172-31-0-105', 'ip-172-31-0-106'], port=9200)\n",
    "\n",
    "class driver(object):\n",
    "    def __init__(self, *arg, **kwargs):\n",
    "        for item in arg:\n",
    "            for key in item:\n",
    "                setattr(self, key, item[key])\n",
    "        for key in kwargs:\n",
    "            setattr(self, key, kwargs[key])\n",
    "        try:\n",
    "            res = datetime.strptime(\"{}\".format(unicode(self.ctime)), '%Y-%m-%d %H:%M:%S.%f')\n",
    "            self.ctime = res.strftime('%Y-%m-%dT%H:%M:%S.%fZ')\n",
    "        except:\n",
    "            pass\n",
    "    def jsonFormat(self):\n",
    "        return(json.dumps(self.__dict__))\n",
    "    def isKnown(self):\n",
    "        res = es.get(index='driver', doc_type='rolling', id=self.id, ignore=[404, 400])\n",
    "        return(res['found'])\n",
    "    def store(self):\n",
    "        res = es.create(index='driver', doc_type='rolling', id=self.id, body=self.jsonFormat())\n",
    "        return(res['created'])\n",
    "    def update(self):\n",
    "        q = '{{\"doc\": {}}}'.format(self.jsonFormat())\n",
    "        res = es.update(index='driver', doc_type='rolling', id=self.id, body=q)\n",
    "        return(res['_version'])\n",
    "    def nearbyPassengers(self):\n",
    "        geo_query = geoQuery(self.location, \"5km\")\n",
    "        res = es.search(index='passenger', doc_type='rolling', body=geo_query )\n",
    "        nearby = []\n",
    "        for i in (res['hits']['hits']):\n",
    "            nearby.append(i['_id'])\n",
    "        return(nearby)\n",
    "    \n",
    "    def assignPassenger(self):\n",
    "        if len(self.nearbyPassengers())>0: \n",
    "            p = getPassenger(self.nearbyPassengers()[0]) \n",
    "            p.status = 'pickup'\n",
    "            self.status = 'pickup'\n",
    "            p.driver = self.id\n",
    "            self.destination = p.location\n",
    "            self.destinationid = p.id\n",
    "            p.update()\n",
    "            self.update()\n",
    "            return True\n",
    "        else:\n",
    "            return False\n",
    "\n",
    "    def loadPassenger(self, p):\n",
    "        if self.p1 == None: \n",
    "            self.p1 = p.id\n",
    "            p.status = 'ontrip'\n",
    "            self.status = 'ontrip'\n",
    "            \n",
    "        elif self.p2 == None:\n",
    "            self.p2 = p.id\n",
    "            p1 = getPassenger(self.p1)\n",
    "            p1.match = p.id\n",
    "            p.match = p1.id\n",
    "            p1.status = 'match'\n",
    "            p.status = 'match'\n",
    "            self.status = 'full'\n",
    "            p1.update()\n",
    "        else:\n",
    "            print('Cab is full')\n",
    "            return False\n",
    "        p.driver = self.id\n",
    "        self.destination = p.destination\n",
    "        self.destinationid = p.destinationid\n",
    "        p.update()\n",
    "        self.update()\n",
    "        return True\n",
    "\n",
    "    \n",
    "\n",
    "class passenger(object):\n",
    "    def __init__(self, *arg, **kwargs):\n",
    "        for item in arg:\n",
    "            for key in item:\n",
    "                setattr(self, key, item[key])\n",
    "        for key in kwargs:\n",
    "            setattr(self, key, kwargs[key])\n",
    "        try:\n",
    "            res = datetime.strptime(\"{}\".format(unicode(self.ctime)), '%Y-%m-%d %H:%M:%S.%f')\n",
    "            self.ctime = res.strftime('%Y-%m-%dT%H:%M:%S.%fZ')\n",
    "        except:\n",
    "            pass\n",
    "    def jsonFormat(self):\n",
    "        return(json.dumps(self.__dict__))\n",
    "    def isKnown(self):\n",
    "        res = es.get(index='passenger', doc_type='rolling', id=self.id, ignore=[404, 400])\n",
    "        return(res['found'])\n",
    "    def store(self):\n",
    "        res = es.create(index='passenger', doc_type='rolling', id=self.id, body=self.jsonFormat())\n",
    "        return(res['created'])\n",
    "    def update(self):\n",
    "        q = '{{\"doc\": {}}}'.format(self.jsonFormat())        \n",
    "        res = es.update(index='passenger', doc_type='rolling', id=self.id, body=q)\n",
    "        return(res['_version'])\n",
    "\n",
    "def geoQuery(location, distance):\n",
    "    geo_query = { \"from\" : 0, \"size\" : 3,\n",
    "                 \"_source\":{\"include\": [ \"_id\" ]},\n",
    "                 \"query\": {\n",
    "            \"filtered\": {\n",
    "                \"query\" : {\n",
    "                    \"term\" : {\"status\": \"wait\"}\n",
    "                },\n",
    "                \"filter\": {\n",
    "                    \"geo_distance\": {\n",
    "                        \"distance\":      distance,\n",
    "                        \"distance_type\": \"plane\", \n",
    "                        \"location\": location }\n",
    "                           }\n",
    "                         }\n",
    "                           }\n",
    "                }\n",
    "\n",
    "    return(geo_query)\n",
    "\n",
    "def getPassenger(p_id):\n",
    "    res = es.get(index='passenger', doc_type='rolling', id=p_id, ignore=404)\n",
    "    return(passenger(res['_source'])) if res['found'] else res['found']\n",
    "\n",
    "def getDriver(p_id):\n",
    "    res = es.get(index='driver', doc_type='rolling', id=p_id, ignore=404)\n",
    "    return(driver(res['_source'])) if res['found'] else res['found']\n",
    "    \n",
    "def sanityCheck(driver):\n",
    "    if driver.isKnown():\n",
    "        driverRecord = getDriverRecord(driver.id)\n",
    "        return(driver.time > driverRecord.time)\n",
    "    else:\n",
    "        return(True)    \n",
    "\n",
    "def updateLocation(self):\n",
    "    if isinstance(self, 'driver'):\n",
    "        obj_ = getDriver(self.id)\n",
    "    elif isinstance(self, 'passenger'):\n",
    "        obj_ = getPassenger(self.id)    \n",
    "    else:\n",
    "        return(False)\n",
    "    obj_.location = self.location\n",
    "    obj_.update()\n",
    "    return(True)\n",
    "\n",
    "def arrived(d):\n",
    "    p = getPassenger(d.p1)\n",
    "    d.p1 == None\n",
    "    d.p2 == None\n",
    "    d.destination == None\n",
    "    d.destinationid == None\n",
    "    d.status == 'idle'\n",
    "    p.status = 'arrived'\n",
    "    self.update()\n",
    "    p.update()\n",
    "    if d.p2: \n",
    "        p2 = getPassenger(d.p2)\n",
    "        p2.status == 'arrived'\n",
    "        p2.update()\n",
    "    return(True)\n",
    "\n",
    "\n",
    "'''\n",
    "    Driver:\n",
    "    1. Check if timestamp make sense\n",
    "    2. Check if driver exists in DB, if doesn't exists, create\n",
    "    3. If cab's capacity is not zero, look for nearby requests\n",
    "        1. If passenger request matched:\n",
    "            1. Change status from idle to on trip (if necessary)\n",
    "            2. Re-route / Set destination to passenger\n",
    "            3. Save information to ElasticSearch\n",
    "        2. If no nearby passenger:\n",
    "            1. Update current location\n",
    "    4. If cab's capacity is zero:\n",
    "        Check if current location matches with destination:\n",
    "        1. If matched, empty the cab and mark to idle\n",
    "            1. Update number of trip\n",
    "            2. Send trip info to kafka (for archive)\n",
    "        2. If not matched, update current location\n",
    "'''\n",
    "def pipe(x):\n",
    "    d = driver(x)\n",
    "    if d.isKnown():\n",
    "        if d.status in ['idle']:\n",
    "            d.assignPassenger()\n",
    "        elif d.status in ['pickup']:\n",
    "            if not d.location == d.destination:\n",
    "                d.update()\n",
    "            else:\n",
    "                p = getPassenger(d.p2) if d.p2 else getPassenger(d.p1)\n",
    "                d.loadPassenger(d, p)\n",
    "\n",
    "        elif d.status in ['ontrip']:\n",
    "            if d.location == d.destination:\n",
    "                arrived(d)\n",
    "            elif not d.p2: \n",
    "                p = getPassenger(d.p1)\n",
    "                p.location = d.location\n",
    "                p.update()\n",
    "                d.assignPassenger()\n",
    "            else:\n",
    "                p = getPassenger(d.p1)\n",
    "                p.location = d.location\n",
    "                p2 = getPassenger(d.p2)\n",
    "                p2.location = d.location\n",
    "                p.update()\n",
    "                p2.update()\n",
    "    else:\n",
    "        d.store()\n",
    "\n"
   ]
  },
  {
   "cell_type": "code",
   "execution_count": 5,
   "metadata": {
    "collapsed": false
   },
   "outputs": [
    {
     "data": {
      "text/plain": [
       "[u'25', u'29', u'24']"
      ]
     },
     "execution_count": 5,
     "metadata": {},
     "output_type": "execute_result"
    }
   ],
   "source": [
    "d = getDriver(5)\n",
    "d.nearbyPassengers()"
   ]
  },
  {
   "cell_type": "code",
   "execution_count": 22,
   "metadata": {
    "collapsed": false
   },
   "outputs": [],
   "source": [
    "# This is the script to populate driver's Data\n",
    "# {driver_id, time, curr_lat, curr_long, dest, load}\n",
    "\n",
    "import csv\n",
    "import random\n",
    "from kafka import KeyedProducer, KafkaClient\n",
    "from datetime import datetime\n",
    "import time\n",
    "import json\n",
    "import random \n",
    "from elasticsearch import Elasticsearch\n",
    "\n",
    "boundaries_file = \"../kafka/boundaries.csv\"\n",
    "last_uid = 0 \n",
    "kafka = KafkaClient('localhost:9092')\n",
    "producer = KeyedProducer(kafka)\n",
    "city = 'NYC'\n",
    "total_drivers = 20\n",
    "sleep = 2\n",
    "step_to_dest = 4\n",
    "\n",
    "es = Elasticsearch(['ip-172-31-0-107', 'ip-172-31-0-100', \\\n",
    "                    ' ip-172-31-0-105', 'ip-172-31-0-106'], \\\n",
    "                   port=9200)\n",
    "\n",
    "\n",
    "\n",
    "def loadBoundaries(boundaries_file):\n",
    "    boundaries = {}\n",
    "    with open(boundaries_file, 'r') as f:\n",
    "        reader = csv.reader(f, delimiter = ',')\n",
    "        for row in reader:\n",
    "            city = row[0]\n",
    "            fence = row[1:] \n",
    "            boundaries.update({city:fence})\n",
    "    f.close()\n",
    "    return boundaries\n",
    "\n",
    "def simulateTrip(id, city):\n",
    "    step = 4\n",
    "    bnd = bound[city]\n",
    "    q = es.get(index='driver', doc_type='rolling', id=id, ignore=[404, 400])\n",
    "    if q['found'] and (q['_source']['status'] in ['ontrip', 'pickup']): \n",
    "        d = q['_source']['destination']\n",
    "        c = q['_source']['location']\n",
    "        return [c[0] + ((c[0] - d[0])/step_to_dest), d[1] + ((d[1] - d[1])/step_to_dest)]\n",
    "    else:\n",
    "        return [random.uniform(float(bnd[0]), float(bnd[2])), \\\n",
    "                random.uniform(float(bnd[1]),float(bnd[3]))]\n",
    "        \n",
    "        \n",
    "def generateDriver(city):\n",
    "    global last_uid \n",
    "    last_uid += 1\n",
    "    d_id = random.randint(1, total_drivers)\n",
    "    d_id = 6\n",
    "    \n",
    "    driver_mapping ={ \n",
    "            'name': 'driver_{}'.format(d_id),\n",
    "            'id': d_id,\n",
    "            'status': 'idle',\n",
    "            'location': simulateTrip(d_id, city),\n",
    "            'ctime': str(datetime.now()),\n",
    "            'p1': None,\n",
    "            'p2': None,\n",
    "            'destination': None,\n",
    "            'destinationid': None,\n",
    "            'altdest1': None,\n",
    "            'altdest1id': None,\n",
    "            'altdest2': None,\n",
    "            'altdest2id': None,\n",
    "        }\n",
    "\n",
    "    q = es.get(index='driver', doc_type='rolling', id=d_id, ignore=[404, 400])\n",
    "    if q['found'] and (q['_source']['status'] in ['ontrip', 'pickup']): \n",
    "        driver_mapping['status'] = q['_source']['status']\n",
    "        driver_mapping['p1'] = q['_source']['p1']\n",
    "        driver_mapping['p2'] = q['_source']['p2']\n",
    "        driver_mapping['destination'] = q['_source']['destination']\n",
    "    return(driver_mapping)\n",
    "\n"
   ]
  },
  {
   "cell_type": "code",
   "execution_count": 14,
   "metadata": {
    "collapsed": false
   },
   "outputs": [
    {
     "name": "stdout",
     "output_type": "stream",
     "text": [
      "{'status': 'idle', 'altdest2id': None, 'altdest2': None, 'altdest1': None, 'id': 19, 'name': 'driver_19', 'p2': None, 'p1': None, 'ctime': '2016-09-23 18:40:41.999492', 'altdest1id': None, 'destination': None, 'destinationid': None, 'location': [40.816152881233066, -73.99157309722851]}\n",
      "{'status': 'idle', 'altdest2id': None, 'altdest2': None, 'altdest1': None, 'id': 10, 'name': 'driver_10', 'p2': None, 'p1': None, 'ctime': '2016-09-23 18:40:42.092792', 'altdest1id': None, 'destination': None, 'destinationid': None, 'location': [40.73355967958459, -73.96829113433932]}\n",
      "{'status': 'idle', 'altdest2id': None, 'altdest2': None, 'altdest1': None, 'id': 7, 'name': 'driver_7', 'p2': None, 'p1': None, 'ctime': '2016-09-23 18:40:42.098255', 'altdest1id': None, 'destination': None, 'destinationid': None, 'location': [40.79516697383348, -73.93150323963204]}\n",
      "{'status': 'idle', 'altdest2id': None, 'altdest2': None, 'altdest1': None, 'id': 10, 'name': 'driver_10', 'p2': None, 'p1': None, 'ctime': '2016-09-23 18:40:42.118207', 'altdest1id': None, 'destination': None, 'destinationid': None, 'location': [40.77027318666709, -73.9308872238155]}\n",
      "{'status': 'idle', 'altdest2id': None, 'altdest2': None, 'altdest1': None, 'id': 12, 'name': 'driver_12', 'p2': None, 'p1': None, 'ctime': '2016-09-23 18:40:42.121320', 'altdest1id': None, 'destination': None, 'destinationid': None, 'location': [40.785915343130625, -73.99950000510059]}\n",
      "{'status': 'idle', 'altdest2id': None, 'altdest2': None, 'altdest1': None, 'id': 3, 'name': 'driver_3', 'p2': None, 'p1': None, 'ctime': '2016-09-23 18:40:42.125665', 'altdest1id': None, 'destination': None, 'destinationid': None, 'location': [40.782467279686195, -73.97586917699776]}\n",
      "{'status': 'idle', 'altdest2id': None, 'altdest2': None, 'altdest1': None, 'id': 7, 'name': 'driver_7', 'p2': None, 'p1': None, 'ctime': '2016-09-23 18:40:42.129265', 'altdest1id': None, 'destination': None, 'destinationid': None, 'location': [40.767456540456465, -73.94688290633512]}\n",
      "{'status': 'idle', 'altdest2id': None, 'altdest2': None, 'altdest1': None, 'id': 6, 'name': 'driver_6', 'p2': None, 'p1': None, 'ctime': '2016-09-23 18:40:42.132581', 'altdest1id': None, 'destination': None, 'destinationid': None, 'location': [40.78937666538412, -73.95772845022117]}\n",
      "{'status': 'idle', 'altdest2id': None, 'altdest2': None, 'altdest1': None, 'id': 2, 'name': 'driver_2', 'p2': None, 'p1': None, 'ctime': '2016-09-23 18:40:42.135335', 'altdest1id': None, 'destination': None, 'destinationid': None, 'location': [40.73240660604351, -73.97826745054279]}\n",
      "{'status': 'idle', 'altdest2id': None, 'altdest2': None, 'altdest1': None, 'id': 17, 'name': 'driver_17', 'p2': None, 'p1': None, 'ctime': '2016-09-23 18:40:42.146551', 'altdest1id': None, 'destination': None, 'destinationid': None, 'location': [40.7945411708564, -73.95441495558305]}\n",
      "{'status': 'idle', 'altdest2id': None, 'altdest2': None, 'altdest1': None, 'id': 12, 'name': 'driver_12', 'p2': None, 'p1': None, 'ctime': '2016-09-23 18:40:42.150040', 'altdest1id': None, 'destination': None, 'destinationid': None, 'location': [40.72008342515699, -73.92536713723634]}\n",
      "{'status': 'idle', 'altdest2id': None, 'altdest2': None, 'altdest1': None, 'id': 19, 'name': 'driver_19', 'p2': None, 'p1': None, 'ctime': '2016-09-23 18:40:42.153114', 'altdest1id': None, 'destination': None, 'destinationid': None, 'location': [40.7713970011948, -74.0022412666838]}\n",
      "{'status': 'idle', 'altdest2id': None, 'altdest2': None, 'altdest1': None, 'id': 10, 'name': 'driver_10', 'p2': None, 'p1': None, 'ctime': '2016-09-23 18:40:42.156884', 'altdest1id': None, 'destination': None, 'destinationid': None, 'location': [40.74541548516842, -73.95841878313698]}\n",
      "{'status': 'idle', 'altdest2id': None, 'altdest2': None, 'altdest1': None, 'id': 20, 'name': 'driver_20', 'p2': None, 'p1': None, 'ctime': '2016-09-23 18:40:42.160992', 'altdest1id': None, 'destination': None, 'destinationid': None, 'location': [40.71958379059661, -73.96695065371092]}\n",
      "{'status': 'idle', 'altdest2id': None, 'altdest2': None, 'altdest1': None, 'id': 5, 'name': 'driver_5', 'p2': None, 'p1': None, 'ctime': '2016-09-23 18:40:42.164222', 'altdest1id': None, 'destination': None, 'destinationid': None, 'location': [40.72398472734053, -73.97963655138672]}\n",
      "{'status': 'idle', 'altdest2id': None, 'altdest2': None, 'altdest1': None, 'id': 7, 'name': 'driver_7', 'p2': None, 'p1': None, 'ctime': '2016-09-23 18:40:42.174924', 'altdest1id': None, 'destination': None, 'destinationid': None, 'location': [40.71738726733922, -73.96046008465281]}\n",
      "{'status': 'idle', 'altdest2id': None, 'altdest2': None, 'altdest1': None, 'id': 13, 'name': 'driver_13', 'p2': None, 'p1': None, 'ctime': '2016-09-23 18:40:42.177966', 'altdest1id': None, 'destination': None, 'destinationid': None, 'location': [40.77074511276206, -73.96445856480918]}\n",
      "{'status': 'idle', 'altdest2id': None, 'altdest2': None, 'altdest1': None, 'id': 11, 'name': 'driver_11', 'p2': None, 'p1': None, 'ctime': '2016-09-23 18:40:42.181038', 'altdest1id': None, 'destination': None, 'destinationid': None, 'location': [40.817441016785374, -73.95595520341033]}\n",
      "{'status': 'idle', 'altdest2id': None, 'altdest2': None, 'altdest1': None, 'id': 14, 'name': 'driver_14', 'p2': None, 'p1': None, 'ctime': '2016-09-23 18:40:42.184478', 'altdest1id': None, 'destination': None, 'destinationid': None, 'location': [40.71581319796436, -73.92625947697633]}\n",
      "{'status': 'idle', 'altdest2id': None, 'altdest2': None, 'altdest1': None, 'id': 6, 'name': 'driver_6', 'p2': None, 'p1': None, 'ctime': '2016-09-23 18:40:42.187966', 'altdest1id': None, 'destination': None, 'destinationid': None, 'location': [40.81675394374734, -73.96305387428464]}\n"
     ]
    }
   ],
   "source": [
    "bound = loadBoundaries(boundaries_file)\n",
    "for n in range(total_drivers):\n",
    "    driver = generateDriver(city)\n",
    "    u_json = json.dumps(driver).encode('utf-8')\n",
    "    key = json.dumps(city).encode('utf-8')\n",
    "    print('{}'.format(driver))\n",
    "    producer.send(b'driver', key, u_json) \n",
    "    #time.sleep(sleep)\n"
   ]
  },
  {
   "cell_type": "code",
   "execution_count": 36,
   "metadata": {
    "collapsed": false
   },
   "outputs": [],
   "source": [
    "d = getDriver(6)"
   ]
  },
  {
   "cell_type": "code",
   "execution_count": 19,
   "metadata": {
    "collapsed": false
   },
   "outputs": [
    {
     "data": {
      "text/plain": [
       "[u'14', u'29', u'19']"
      ]
     },
     "execution_count": 19,
     "metadata": {},
     "output_type": "execute_result"
    }
   ],
   "source": [
    "d.nearbyPassengers()"
   ]
  },
  {
   "cell_type": "code",
   "execution_count": 31,
   "metadata": {
    "collapsed": true
   },
   "outputs": [],
   "source": [
    "e = generateDriver('NYC')"
   ]
  },
  {
   "cell_type": "code",
   "execution_count": 24,
   "metadata": {
    "collapsed": false
   },
   "outputs": [
    {
     "data": {
      "text/plain": [
       "{'altdest1': None,\n",
       " 'altdest1id': None,\n",
       " 'altdest2': None,\n",
       " 'altdest2id': None,\n",
       " 'ctime': '2016-09-23 18:43:20.743131',\n",
       " 'destination': None,\n",
       " 'destinationid': None,\n",
       " 'id': 6,\n",
       " 'location': [40.80066864010821, -73.97037331255055],\n",
       " 'name': 'driver_6',\n",
       " 'p1': None,\n",
       " 'p2': None,\n",
       " 'status': 'idle'}"
      ]
     },
     "execution_count": 24,
     "metadata": {},
     "output_type": "execute_result"
    }
   ],
   "source": [
    "\n",
    "\n",
    "    q = es.get(index='driver', doc_type='rolling', id=d_id, ignore=[404, 400])\n",
    "    if q['found'] and (q['_source']['status'] in ['ontrip', 'pickup']): \n",
    "        driver_mapping['status'] = q['_source']['status']\n",
    "        driver_mapping['p1'] = q['_source']['p1']\n",
    "        driver_mapping['p2'] = q['_source']['p2']\n",
    "        driver_mapping['destination'] = q['_source']['destination']"
   ]
  },
  {
   "cell_type": "code",
   "execution_count": 27,
   "metadata": {
    "collapsed": false
   },
   "outputs": [],
   "source": [
    "d_id = 6\n",
    "    \n",
    "driver_mapping ={ \n",
    "        'name': 'driver_{}'.format(d_id),\n",
    "        'id': d_id,\n",
    "        'status': 'idle',\n",
    "        'location': simulateTrip(d_id, city),\n",
    "        'ctime': str(datetime.now()),\n",
    "        'p1': None,\n",
    "        'p2': None,\n",
    "        'destination': None,\n",
    "        'destinationid': None,\n",
    "        'altdest1': None,\n",
    "        'altdest1id': None,\n",
    "        'altdest2': None,\n",
    "        'altdest2id': None,\n",
    "    }\n"
   ]
  },
  {
   "cell_type": "code",
   "execution_count": 41,
   "metadata": {
    "collapsed": false
   },
   "outputs": [
    {
     "data": {
      "text/plain": [
       "{u'_id': u'6',\n",
       " u'_index': u'driver',\n",
       " u'_source': {u'altdest1': None,\n",
       "  u'altdest1id': None,\n",
       "  u'altdest2': None,\n",
       "  u'altdest2id': None,\n",
       "  u'ctime': u'2016-09-23T10:32:23.633292Z',\n",
       "  u'destination': [40.727432567366876, -73.9232224915341],\n",
       "  u'destinationid': 14,\n",
       "  u'id': 6,\n",
       "  u'location': [40.73730956705426, -73.95249180322936],\n",
       "  u'name': u'driver_6',\n",
       "  u'p1': None,\n",
       "  u'p2': None,\n",
       "  u'status': u'pickup'},\n",
       " u'_type': u'rolling',\n",
       " u'_version': 2,\n",
       " u'found': True}"
      ]
     },
     "execution_count": 41,
     "metadata": {},
     "output_type": "execute_result"
    }
   ],
   "source": [
    "q = es.get(index='driver', doc_type='rolling', id=d_id, ignore=[404, 400])\n",
    "q"
   ]
  },
  {
   "cell_type": "code",
   "execution_count": 29,
   "metadata": {
    "collapsed": false
   },
   "outputs": [
    {
     "data": {
      "text/plain": [
       "True"
      ]
     },
     "execution_count": 29,
     "metadata": {},
     "output_type": "execute_result"
    }
   ],
   "source": [
    "d.assignPassenger()"
   ]
  },
  {
   "cell_type": "code",
   "execution_count": 32,
   "metadata": {
    "collapsed": false
   },
   "outputs": [
    {
     "data": {
      "text/plain": [
       "{'altdest1': None,\n",
       " 'altdest1id': None,\n",
       " 'altdest2': None,\n",
       " 'altdest2id': None,\n",
       " 'ctime': '2016-09-23 18:45:37.283579',\n",
       " 'destination': [40.727432567366876, -73.9232224915341],\n",
       " 'destinationid': None,\n",
       " 'id': 6,\n",
       " 'location': [40.739778816976106, -73.9232224915341],\n",
       " 'name': 'driver_6',\n",
       " 'p1': None,\n",
       " 'p2': None,\n",
       " 'status': u'pickup'}"
      ]
     },
     "execution_count": 32,
     "metadata": {},
     "output_type": "execute_result"
    }
   ],
   "source": [
    "e"
   ]
  },
  {
   "cell_type": "code",
   "execution_count": 39,
   "metadata": {
    "collapsed": true
   },
   "outputs": [],
   "source": [
    "f = getPassenger(14)"
   ]
  },
  {
   "cell_type": "code",
   "execution_count": 40,
   "metadata": {
    "collapsed": false
   },
   "outputs": [
    {
     "data": {
      "text/plain": [
       "'{\"status\": \"pickup\", \"altdest2id\": \"Solomon R. Guggenheim Museum\", \"altdest2\": [40.7831, -73.9592], \"altdest1\": [40.7114, -74.0125], \"altdest1id\": \"9/11 Memorial & Museum\", \"destination\": [40.758896, -73.98513], \"driver\": 6, \"name\": \"passenger_14\", \"destinationid\": \"Times Square\", \"location\": [40.727432567366876, -73.9232224915341], \"id\": 14, \"match\": null, \"ctime\": \"2016-09-23T10:33:35.364037Z\"}'"
      ]
     },
     "execution_count": 40,
     "metadata": {},
     "output_type": "execute_result"
    }
   ],
   "source": [
    "f.jsonFormat()"
   ]
  },
  {
   "cell_type": "code",
   "execution_count": 37,
   "metadata": {
    "collapsed": false
   },
   "outputs": [
    {
     "data": {
      "text/plain": [
       "'{\"status\": \"pickup\", \"p2\": null, \"p1\": null, \"altdest2id\": null, \"altdest2\": null, \"altdest1\": null, \"altdest1id\": null, \"destination\": [40.727432567366876, -73.9232224915341], \"name\": \"driver_6\", \"destinationid\": 14, \"location\": [40.73730956705426, -73.95249180322936], \"id\": 6, \"ctime\": \"2016-09-23T10:32:23.633292Z\"}'"
      ]
     },
     "execution_count": 37,
     "metadata": {},
     "output_type": "execute_result"
    }
   ],
   "source": [
    "d.jsonFormat()"
   ]
  },
  {
   "cell_type": "code",
   "execution_count": 42,
   "metadata": {
    "collapsed": false
   },
   "outputs": [
    {
     "data": {
      "text/plain": [
       "{u'_id': u'6',\n",
       " u'_index': u'driver',\n",
       " u'_source': {u'altdest1': None,\n",
       "  u'altdest1id': None,\n",
       "  u'altdest2': None,\n",
       "  u'altdest2id': None,\n",
       "  u'ctime': u'2016-09-23T10:32:23.633292Z',\n",
       "  u'destination': [40.727432567366876, -73.9232224915341],\n",
       "  u'destinationid': 14,\n",
       "  u'id': 6,\n",
       "  u'location': [40.73730956705426, -73.95249180322936],\n",
       "  u'name': u'driver_6',\n",
       "  u'p1': None,\n",
       "  u'p2': None,\n",
       "  u'status': u'pickup'},\n",
       " u'_type': u'rolling',\n",
       " u'_version': 2,\n",
       " u'found': True}"
      ]
     },
     "execution_count": 42,
     "metadata": {},
     "output_type": "execute_result"
    }
   ],
   "source": [
    "q"
   ]
  },
  {
   "cell_type": "code",
   "execution_count": 43,
   "metadata": {
    "collapsed": false
   },
   "outputs": [
    {
     "data": {
      "text/plain": [
       "[40.739778816976106, -73.9232224915341]"
      ]
     },
     "execution_count": 43,
     "metadata": {},
     "output_type": "execute_result"
    }
   ],
   "source": [
    "d = q['_source']['destination']\n",
    "c = q['_source']['location']\n",
    "[c[0] + ((c[0] - d[0])/step_to_dest), d[1] + ((d[1] - d[1])/step_to_dest)]"
   ]
  },
  {
   "cell_type": "code",
   "execution_count": 46,
   "metadata": {
    "collapsed": false
   },
   "outputs": [
    {
     "data": {
      "text/plain": [
       "True"
      ]
     },
     "execution_count": 46,
     "metadata": {},
     "output_type": "execute_result"
    }
   ],
   "source": [
    "q['found'] and (q['_source']['status'] in ['ontrip', 'pickup'])\n"
   ]
  },
  {
   "cell_type": "code",
   "execution_count": 47,
   "metadata": {
    "collapsed": false
   },
   "outputs": [
    {
     "data": {
      "text/plain": [
       "{'altdest1': None,\n",
       " 'altdest1id': None,\n",
       " 'altdest2': None,\n",
       " 'altdest2id': None,\n",
       " 'ctime': '2016-09-23 18:45:37.283579',\n",
       " 'destination': [40.727432567366876, -73.9232224915341],\n",
       " 'destinationid': None,\n",
       " 'id': 6,\n",
       " 'location': [40.739778816976106, -73.9232224915341],\n",
       " 'name': 'driver_6',\n",
       " 'p1': None,\n",
       " 'p2': None,\n",
       " 'status': u'pickup'}"
      ]
     },
     "execution_count": 47,
     "metadata": {},
     "output_type": "execute_result"
    }
   ],
   "source": [
    "e"
   ]
  },
  {
   "cell_type": "code",
   "execution_count": null,
   "metadata": {
    "collapsed": true
   },
   "outputs": [],
   "source": []
  }
 ],
 "metadata": {
  "kernelspec": {
   "display_name": "Python 2",
   "language": "python",
   "name": "python2"
  },
  "language_info": {
   "codemirror_mode": {
    "name": "ipython",
    "version": 2
   },
   "file_extension": ".py",
   "mimetype": "text/x-python",
   "name": "python",
   "nbconvert_exporter": "python",
   "pygments_lexer": "ipython2",
   "version": "2.7.6"
  }
 },
 "nbformat": 4,
 "nbformat_minor": 0
}
