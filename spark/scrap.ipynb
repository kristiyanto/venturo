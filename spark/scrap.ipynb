{
 "cells": [
  {
   "cell_type": "code",
   "execution_count": 33,
   "metadata": {
    "collapsed": false
   },
   "outputs": [
    {
     "ename": "IOError",
     "evalue": "[Errno 2] No such file or directory: 'boundaries.csv'",
     "output_type": "error",
     "traceback": [
      "\u001b[1;31m---------------------------------------------------------------------------\u001b[0m",
      "\u001b[1;31mIOError\u001b[0m                                   Traceback (most recent call last)",
      "\u001b[1;32m<ipython-input-33-dd26de568138>\u001b[0m in \u001b[0;36m<module>\u001b[1;34m()\u001b[0m\n\u001b[0;32m     68\u001b[0m     \u001b[1;32mreturn\u001b[0m\u001b[1;33m(\u001b[0m\u001b[0mdriver_mapping\u001b[0m\u001b[1;33m)\u001b[0m\u001b[1;33m\u001b[0m\u001b[0m\n\u001b[0;32m     69\u001b[0m \u001b[1;33m\u001b[0m\u001b[0m\n\u001b[1;32m---> 70\u001b[1;33m \u001b[0mbound\u001b[0m \u001b[1;33m=\u001b[0m \u001b[0mloadBoundaries\u001b[0m\u001b[1;33m(\u001b[0m\u001b[0mboundaries_file\u001b[0m\u001b[1;33m)\u001b[0m\u001b[1;33m\u001b[0m\u001b[0m\n\u001b[0m\u001b[0;32m     71\u001b[0m \u001b[1;32mfor\u001b[0m \u001b[0mn\u001b[0m \u001b[1;32min\u001b[0m \u001b[0mrange\u001b[0m\u001b[1;33m(\u001b[0m\u001b[1;36m20\u001b[0m\u001b[1;33m)\u001b[0m\u001b[1;33m:\u001b[0m\u001b[1;33m\u001b[0m\u001b[0m\n\u001b[0;32m     72\u001b[0m     \u001b[0mdriver\u001b[0m \u001b[1;33m=\u001b[0m \u001b[0mgenerateDriver\u001b[0m\u001b[1;33m(\u001b[0m\u001b[0mcity\u001b[0m\u001b[1;33m)\u001b[0m\u001b[1;33m\u001b[0m\u001b[0m\n",
      "\u001b[1;32m<ipython-input-33-dd26de568138>\u001b[0m in \u001b[0;36mloadBoundaries\u001b[1;34m(boundaries_file)\u001b[0m\n\u001b[0;32m     23\u001b[0m \u001b[1;32mdef\u001b[0m \u001b[0mloadBoundaries\u001b[0m\u001b[1;33m(\u001b[0m\u001b[0mboundaries_file\u001b[0m\u001b[1;33m)\u001b[0m\u001b[1;33m:\u001b[0m\u001b[1;33m\u001b[0m\u001b[0m\n\u001b[0;32m     24\u001b[0m     \u001b[0mboundaries\u001b[0m \u001b[1;33m=\u001b[0m \u001b[1;33m{\u001b[0m\u001b[1;33m}\u001b[0m\u001b[1;33m\u001b[0m\u001b[0m\n\u001b[1;32m---> 25\u001b[1;33m     \u001b[1;32mwith\u001b[0m \u001b[0mopen\u001b[0m\u001b[1;33m(\u001b[0m\u001b[0mboundaries_file\u001b[0m\u001b[1;33m,\u001b[0m \u001b[1;34m'r'\u001b[0m\u001b[1;33m)\u001b[0m \u001b[1;32mas\u001b[0m \u001b[0mf\u001b[0m\u001b[1;33m:\u001b[0m\u001b[1;33m\u001b[0m\u001b[0m\n\u001b[0m\u001b[0;32m     26\u001b[0m         \u001b[0mreader\u001b[0m \u001b[1;33m=\u001b[0m \u001b[0mcsv\u001b[0m\u001b[1;33m.\u001b[0m\u001b[0mreader\u001b[0m\u001b[1;33m(\u001b[0m\u001b[0mf\u001b[0m\u001b[1;33m,\u001b[0m \u001b[0mdelimiter\u001b[0m \u001b[1;33m=\u001b[0m \u001b[1;34m','\u001b[0m\u001b[1;33m)\u001b[0m\u001b[1;33m\u001b[0m\u001b[0m\n\u001b[0;32m     27\u001b[0m         \u001b[1;32mfor\u001b[0m \u001b[0mrow\u001b[0m \u001b[1;32min\u001b[0m \u001b[0mreader\u001b[0m\u001b[1;33m:\u001b[0m\u001b[1;33m\u001b[0m\u001b[0m\n",
      "\u001b[1;31mIOError\u001b[0m: [Errno 2] No such file or directory: 'boundaries.csv'"
     ]
    }
   ],
   "source": [
    "# This is the script to populate driver's Data\n",
    "# {driver_id, time, curr_lat, curr_long, dest, load}\n",
    "\n",
    "import csv\n",
    "import random\n",
    "from kafka import KeyedProducer, KafkaClient\n",
    "from datetime import datetime\n",
    "import time\n",
    "import json\n",
    "import random \n",
    "from elasticsearch import Elasticsearch\n",
    "\n",
    "boundaries_file = \"boundaries.csv\"\n",
    "last_uid = 0 \n",
    "kafka = KafkaClient('localhost:9092')\n",
    "producer = KeyedProducer(kafka)\n",
    "city = 'NYC'\n",
    "\n",
    "es = Elasticsearch(['ip-172-31-0-107', 'ip-172-31-0-100', \\\n",
    "                    ' ip-172-31-0-105', 'ip-172-31-0-106'], \\\n",
    "                   port=9200)\n",
    "\n",
    "\n",
    "\n",
    "def loadBoundaries(boundaries_file):\n",
    "    boundaries = {}\n",
    "    with open(boundaries_file, 'r') as f:\n",
    "        reader = csv.reader(f, delimiter = ',')\n",
    "        for row in reader:\n",
    "            city = row[0]\n",
    "            fence = row[1:] \n",
    "            boundaries.update({city:fence})\n",
    "    f.close()\n",
    "    return boundaries\n",
    "\n",
    "def simulateTrip(id, c):\n",
    "    step = 4\n",
    "    q = es.get(index='driver', doc_type='rolling', id=id, ignore=[404, 400])\n",
    "    if q['found'] and (q['_source']['status'] in ['ontrip', 'pickup']): \n",
    "        d = q['_source']['destination']\n",
    "        c = q['_source']['location']\n",
    "        return [c[0] + ((c[0] - d[0])/step), c[1] + ((c[1] - d[1])/step)]\n",
    "    else:\n",
    "        return [random.uniform(float(bnd[0]), float(bnd[2])), \\\n",
    "                random.uniform(float(bnd[1]),float(bnd[3]))]\n",
    "        \n",
    "        \n",
    "def generateDriver(city):\n",
    "    global last_uid \n",
    "    bnd = bound[city]\n",
    "    last_uid += 1\n",
    "    curr_lat = random.uniform(float(bnd[0]), float(bnd[2]))\n",
    "    curr_long = random.uniform(float(bnd[1]),float(bnd[3]))\n",
    "    \n",
    "    driver_mapping ={ \n",
    "            'name': 'driver_{}'.format(last_uid),\n",
    "            'id': random.randint(1, 20),\n",
    "            'status': 'idle',\n",
    "            'location': simulateTrip(),\n",
    "            'ctime': str(datetime.now()),\n",
    "            'p1': None,\n",
    "            'p2': None,\n",
    "            'destination': None,\n",
    "            'destinationid': None,\n",
    "            'altdest1': None,\n",
    "            'altdest1id': None,\n",
    "            'altdest2': None,\n",
    "            'altdest2id': None,\n",
    "        }\n",
    "\n",
    "    return(driver_mapping)\n",
    "\n",
    "bound = loadBoundaries(boundaries_file)\n",
    "for n in range(20):\n",
    "    driver = generateDriver(city)\n",
    "    u_json = json.dumps(driver).encode('utf-8')\n",
    "    key = json.dumps(city).encode('utf-8')\n",
    "    print('{}'.format(driver))\n",
    "    producer.send(b'driver', key, u_json) \n",
    "    time.sleep(2)\n"
   ]
  },
  {
   "cell_type": "code",
   "execution_count": 2,
   "metadata": {
    "collapsed": false
   },
   "outputs": [],
   "source": [
    "\n",
    "import csv\n",
    "import random\n",
    "from kafka import KeyedProducer, KafkaClient\n",
    "from datetime import datetime\n",
    "import time\n",
    "import json\n",
    "import random \n",
    "from elasticsearch import Elasticsearch\n",
    "\n",
    "boundaries_file = \"boundaries.csv\"\n",
    "last_uid = 0 \n",
    "kafka = KafkaClient('localhost:9092')\n",
    "producer = KeyedProducer(kafka)\n",
    "city = 'NYC'\n",
    "\n",
    "es = Elasticsearch(['ip-172-31-0-107', 'ip-172-31-0-100', ' ip-172-31-0-105', 'ip-172-31-0-106'], port=9200)\n",
    "\n"
   ]
  },
  {
   "cell_type": "code",
   "execution_count": 25,
   "metadata": {
    "collapsed": false
   },
   "outputs": [],
   "source": []
  },
  {
   "cell_type": "code",
   "execution_count": 14,
   "metadata": {
    "collapsed": false
   },
   "outputs": [],
   "source": [
    "q = {\"fields\" : [\"destination\"], \"query\":{ \"id\": 5} }"
   ]
  },
  {
   "cell_type": "code",
   "execution_count": 28,
   "metadata": {
    "collapsed": false
   },
   "outputs": [],
   "source": []
  },
  {
   "cell_type": "code",
   "execution_count": 29,
   "metadata": {
    "collapsed": false
   },
   "outputs": [
    {
     "data": {
      "text/plain": [
       "[40.78748930070537, -73.93026485004548]"
      ]
     },
     "execution_count": 29,
     "metadata": {},
     "output_type": "execute_result"
    }
   ],
   "source": []
  },
  {
   "cell_type": "code",
   "execution_count": null,
   "metadata": {
    "collapsed": true
   },
   "outputs": [],
   "source": []
  }
 ],
 "metadata": {
  "kernelspec": {
   "display_name": "Python 2",
   "language": "python",
   "name": "python2"
  },
  "language_info": {
   "codemirror_mode": {
    "name": "ipython",
    "version": 2
   },
   "file_extension": ".py",
   "mimetype": "text/x-python",
   "name": "python",
   "nbconvert_exporter": "python",
   "pygments_lexer": "ipython2",
   "version": "2.7.6"
  }
 },
 "nbformat": 4,
 "nbformat_minor": 0
}
