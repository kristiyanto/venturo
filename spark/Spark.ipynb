{
 "cells": [
  {
   "cell_type": "code",
   "execution_count": 4,
   "metadata": {
    "collapsed": false
   },
   "outputs": [],
   "source": [
    "from elasticsearch import Elasticsearch\n",
    "from pyspark import SparkContext\n",
    "from pyspark.streaming import StreamingContext\n",
    "\n",
    "from kafka import KafkaConsumer\n",
    "import os\n",
    "import json\n",
    "from datetime import datetime\n",
    "\n",
    "es = Elasticsearch([{'host': 'localhost', 'port': 9200}])\n",
    "\n",
    "#consumer = KafkaConsumer('passenger', group_id = 1)\n",
    "#for message in consumer:\n",
    "#    message = json.loads(message.value)\n",
    "#    print \"{}\".format(message)\n",
    "#    incoming = passenger(message)\n",
    "#    incoming.store()\n",
    "#    consumer.commit()\n",
    "#consumer.close()"
   ]
  },
  {
   "cell_type": "code",
   "execution_count": 6,
   "metadata": {
    "collapsed": false
   },
   "outputs": [],
   "source": [
    "cluster = ['ip-172-31-0-107', 'ip-172-31-0-100', 'ip-172-31-0-105', 'ip-172-31-0-106']\n",
    "es = Elasticsearch(cluster, port=9200)\n",
    "geo_query = { \"from\" : 0, \"size\" : 1,\n",
    "                      \"query\": {\n",
    "                   \"filtered\": {\n",
    "                     \"query\" : {\n",
    "                      \"term\" : {\"status\": \"wait\"}},\n",
    "                     \"filter\": {\n",
    "                        \"geo_distance\": {\n",
    "                            \"distance\": '1005km',\n",
    "                            \"distance_type\": \"plane\", \n",
    "                            \"location\": location }}\n",
    "                }}}\n",
    "\n",
    "res = es.search(index='passenger', doc_type='rolling', body=geo_query, ignore=[404, 400])"
   ]
  },
  {
   "cell_type": "code",
   "execution_count": 9,
   "metadata": {
    "collapsed": false
   },
   "outputs": [],
   "source": [
    "res = es.get(index='driver', doc_type='rolling', id=1, ignore=[404, 400])"
   ]
  },
  {
   "cell_type": "code",
   "execution_count": 11,
   "metadata": {
    "collapsed": false
   },
   "outputs": [
    {
     "data": {
      "text/plain": [
       "True"
      ]
     },
     "execution_count": 11,
     "metadata": {},
     "output_type": "execute_result"
    }
   ],
   "source": [
    "res['found']"
   ]
  },
  {
   "cell_type": "code",
   "execution_count": null,
   "metadata": {
    "collapsed": true
   },
   "outputs": [],
   "source": []
  }
 ],
 "metadata": {
  "kernelspec": {
   "display_name": "Python 2",
   "language": "python",
   "name": "python2"
  },
  "language_info": {
   "codemirror_mode": {
    "name": "ipython",
    "version": 2
   },
   "file_extension": ".py",
   "mimetype": "text/x-python",
   "name": "python",
   "nbconvert_exporter": "python",
   "pygments_lexer": "ipython2",
   "version": "2.7.6"
  }
 },
 "nbformat": 4,
 "nbformat_minor": 0
}
