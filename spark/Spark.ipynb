{
 "cells": [
  {
   "cell_type": "code",
   "execution_count": 7,
   "metadata": {
    "collapsed": false
   },
   "outputs": [],
   "source": [
    "from elasticsearch import Elasticsearch\n",
    "from pyspark import SparkContext\n",
    "from pyspark.streaming import StreamingContext\n",
    "\n",
    "from kafka import KafkaConsumer\n",
    "import os\n",
    "import json\n",
    "from datetime import datetime\n",
    "\n",
    "es = Elasticsearch([{'host': 'localhost', 'port': 9200}])\n",
    "\n",
    "#consumer = KafkaConsumer('passenger', group_id = 1)\n",
    "#for message in consumer:\n",
    "#    message = json.loads(message.value)\n",
    "#    print \"{}\".format(message)\n",
    "#    incoming = passenger(message)\n",
    "#    incoming.store()\n",
    "#    consumer.commit()\n",
    "#consumer.close()"
   ]
  },
  {
   "cell_type": "code",
   "execution_count": 9,
   "metadata": {
    "collapsed": false
   },
   "outputs": [
    {
     "data": {
      "text/plain": [
       "{u'acknowledged': True}"
      ]
     },
     "execution_count": 9,
     "metadata": {},
     "output_type": "execute_result"
    }
   ],
   "source": [
    "driver_mapping = {\n",
    "  'mappings': {\n",
    "    'rolling': {\n",
    "      'properties': {\n",
    "        'id': {'type': 'string'},\n",
    "        'status': {'type': 'string'},\n",
    "        'location': {'type': 'geo_point', 'lat_lon': 'true'},\n",
    "        'ctime': {'type': 'date'},\n",
    "        'p1': {'type': 'string'},\n",
    "        'p2': {'type': 'string'},\n",
    "        'destination': {'type': 'geo_point', 'lat_lon': 'true'},\n",
    "        'destinationid':{'type': 'string'},\n",
    "        'altdest1': {'type': 'geo_point', 'lat_lon': 'true'},\n",
    "        'altdest2id':{'type': 'string'},                \n",
    "        'altdest2': {'type': 'geo_point', 'lat_lon': 'true'},\n",
    "        'altdest2id':{'type': 'string'},                \n",
    "      }\n",
    "    }\n",
    "  }\n",
    "}\n",
    "\n",
    "\n",
    "pass_mapping = {\n",
    "  'mappings': {\n",
    "    'rolling': {\n",
    "      'properties': {\n",
    "        'id': {'type': 'string'},\n",
    "        'status': {'type': 'string'},\n",
    "        'match': {'type': 'string'},                \n",
    "        'location': {'type': 'geo_point', 'lat_lon': 'true'},\n",
    "        'ctime': {'type': 'date'},\n",
    "        'driver': {'type': 'string'},\n",
    "        'destination': {'type': 'geo_point', 'lat_lon': 'true'},\n",
    "        'destinationid':{'type': 'string'},                \n",
    "        'altdest1': {'type': 'geo_point', 'lat_lon': 'true'},\n",
    "        'altdestid1':{'type': 'string'},                    \n",
    "        'altdest2': {'type': 'geo_point', 'lat_lon': 'true'},\n",
    "        'altdestid2':{'type': 'string'},                \n",
    "      }\n",
    "    }\n",
    "  }\n",
    "}\n",
    "\n",
    "\n",
    "#es.indices.delete(index='driver', ignore=[400, 404])\n",
    "#es.indices.delete(index='passenger', ignore=[400, 404])\n",
    "es.indices.create(index='driver', body=driver_mapping, ignore=400)\n",
    "#es.indices.create(index='passenger', body=pass_mapping, ignore=400)"
   ]
  },
  {
   "cell_type": "code",
   "execution_count": 213,
   "metadata": {
    "collapsed": false
   },
   "outputs": [],
   "source": [
    "class driver(object):\n",
    "    def __init__(self, *arg, **kwargs):\n",
    "        for item in arg:\n",
    "            for key in item:\n",
    "                setattr(self, key, item[key])\n",
    "        for key in kwargs:\n",
    "            setattr(self, key, kwargs[key])\n",
    "        try:\n",
    "            res = datetime.strptime(\"{}\".format(unicode(self.ctime)), '%Y-%m-%d %H:%M:%S.%f')\n",
    "            self.ctime = res.strftime('%Y-%m-%dT%H:%M:%S.%fZ')\n",
    "        except:\n",
    "            pass\n",
    "    def jsonFormat(self):\n",
    "        return(json.dumps(self.__dict__))\n",
    "    def isKnown(self):\n",
    "        res = es.get(index='driver', doc_type='rolling', id=self.id, ignore=[404, 400])\n",
    "        return(res['found'])\n",
    "    def store(self):\n",
    "        res = es.create(index='driver', doc_type='rolling', id=self.id, body=self.jsonFormat())\n",
    "        return(res['created'])\n",
    "    def update(self):\n",
    "        q = '{{\"doc\": {}}}'.format(self.jsonFormat())\n",
    "        res = es.update(index='driver', doc_type='rolling', id=self.id, body=q)\n",
    "        return(res['_version'])\n",
    "    def nearbyPassengers(self):\n",
    "        geo_query = { \"from\" : 0, \"size\" : 3,\n",
    "                      \"_source\":{\"include\": [ \"_id\" ]},\n",
    "                      \"query\": {\n",
    "                        \"filtered\": {\n",
    "                           \"query\" : {\n",
    "                                \"term\" : {\"status\": \"wait\"}\n",
    "                            },\n",
    "                            \"filter\": {\n",
    "                                \"geo_distance\": {\n",
    "                                  \"distance\":      \"5km\",\n",
    "                                  \"distance_type\": \"plane\", \n",
    "                                  \"location\": self.location\n",
    "                            }\n",
    "                          }\n",
    "                        }\n",
    "                      }\n",
    "                    }\n",
    "\n",
    "        nearby = []\n",
    "        res = es.search(index='passenger', doc_type='rolling', body=geo_query )\n",
    "        for i in (res['hits']['hits']):\n",
    "            nearby.append(i['_id'])\n",
    "        return(nearby)\n",
    "    \n",
    "    def assignPassenger(self):\n",
    "        if len(self.nearbyPassengers())>0: \n",
    "            p = getPassenger(self.nearbyPassengers()[0]) \n",
    "            p.status = 'pickup'\n",
    "            self.status = 'pickup'\n",
    "            self.destination = p.location\n",
    "            self.destinationid = 'pickup_{}'.format(p.id)\n",
    "            return True\n",
    "        else:\n",
    "            return False\n",
    "\n",
    "    def loadPassenger(self, p):\n",
    "        if self.p1 == None: \n",
    "            self.p1 = p.id\n",
    "        elif self.p2 == None:\n",
    "            self.p2 = p.id\n",
    "        else:\n",
    "            print('Cab is full')\n",
    "            return False\n",
    "        p.status = 'ontrip'\n",
    "        self.status = 'ontrip'\n",
    "        self.destination = p.destination\n",
    "        self.destinationid = p.destinationid\n",
    "        p.driver = self.id\n",
    "        p.update()\n",
    "        self.update()\n",
    "        return True\n",
    "\n",
    "    def updateLocation(self):\n",
    "        if isinstance(self, 'driver'):\n",
    "            obj_ = getDriver(self.id)\n",
    "        elif isinstance(self, 'passenger'):\n",
    "            obj_ = getPassenger(self.id)    \n",
    "        else:\n",
    "            return(False)\n",
    "        obj_.location = self.location\n",
    "        obj_.update()\n",
    "\n",
    "    def arrived(self, p):\n",
    "        if self.location == self.location:\n",
    "            p.status == 'arrived'\n",
    "        if self.p2 != None: \n",
    "            p2 = getPassenger(self.p2)\n",
    "            p2.status == 'arrived'\n",
    "        d.p1 == None\n",
    "        d.p2 == None\n",
    "        d.destination == None\n",
    "        d.destinationid == None\n",
    "        d.status == 'idle'\n",
    "\n",
    "\n",
    "class passenger(object):\n",
    "    def __init__(self, *arg, **kwargs):\n",
    "        for item in arg:\n",
    "            for key in item:\n",
    "                setattr(self, key, item[key])\n",
    "        for key in kwargs:\n",
    "            setattr(self, key, kwargs[key])\n",
    "        try:\n",
    "            res = datetime.strptime(\"{}\".format(unicode(self.ctime)), '%Y-%m-%d %H:%M:%S.%f')\n",
    "            self.ctime = res.strftime('%Y-%m-%dT%H:%M:%S.%fZ')\n",
    "        except:\n",
    "            pass\n",
    "    def jsonFormat(self):\n",
    "        return(json.dumps(self.__dict__))\n",
    "    def isKnown(self):\n",
    "        res = es.get(index='passenger', doc_type='rolling', id=self.id, ignore=[404, 400])\n",
    "        return(res['found'])\n",
    "    def store(self):\n",
    "        res = es.create(index='passenger', doc_type='rolling', id=self.id, body=self.jsonFormat())\n",
    "        return(res['created'])\n",
    "    def update(self):\n",
    "        q = '{{\"doc\": {}}}'.format(self.jsonFormat())        \n",
    "        res = es.update(index='passenger', doc_type='rolling', id=self.id, body=q)\n",
    "        return(res['_version'])\n",
    "\n",
    "    \n",
    "\n",
    "def getPassenger(p_id):\n",
    "    res = es.get(index='passenger', doc_type='rolling', id=p_id, ignore=404)\n",
    "    return(passenger(res['_source'])) if res['found'] else res['found']\n",
    "\n",
    "def getDriver(p_id):\n",
    "    res = es.get(index='driver', doc_type='rolling', id=p_id, ignore=404)\n",
    "    return(driver(res['_source'])) if res['found'] else res['found']\n",
    "    \n",
    "def sanityCheck(driver):\n",
    "    if driver.isKnown():\n",
    "        driverRecord = getDriverRecord(driver.id)\n",
    "        return(driver.time > driverRecord.time)\n",
    "    else:\n",
    "        return(True)    \n",
    "    \n",
    "def getDriverRecord(id):\n",
    "    res = es.get(index='trip', doc_type='driver', id=id)['_source']\n",
    "    return(driver(res))"
   ]
  },
  {
   "cell_type": "code",
   "execution_count": 4,
   "metadata": {
    "collapsed": false
   },
   "outputs": [
    {
     "data": {
      "text/plain": [
       "\"\\n    Driver:\\n    1. Check if timestamp make sense\\n    2. Check if driver exists in DB, if doesn't exists, create\\n    3. If cab's capacity is not zero, look for nearby requests\\n        1. If passenger request matched:\\n            1. Change status from idle to on trip (if necessary)\\n            2. Re-route / Set destination to passenger\\n            3. Save information to ElasticSearch\\n        2. If no nearby passenger:\\n            1. Update current location\\n    4. If cab's capacity is zero:\\n        Check if current location matches with destination:\\n        1. If matched, empty the cab and mark to idle\\n            1. Update number of trip\\n            2. Send trip info to kafka (for archive)\\n        2. If not matched, update current location\\n\""
      ]
     },
     "execution_count": 4,
     "metadata": {},
     "output_type": "execute_result"
    }
   ],
   "source": [
    "'''\n",
    "    Driver:\n",
    "    1. Check if timestamp make sense\n",
    "    2. Check if driver exists in DB, if doesn't exists, create\n",
    "    3. If cab's capacity is not zero, look for nearby requests\n",
    "        1. If passenger request matched:\n",
    "            1. Change status from idle to on trip (if necessary)\n",
    "            2. Re-route / Set destination to passenger\n",
    "            3. Save information to ElasticSearch\n",
    "        2. If no nearby passenger:\n",
    "            1. Update current location\n",
    "    4. If cab's capacity is zero:\n",
    "        Check if current location matches with destination:\n",
    "        1. If matched, empty the cab and mark to idle\n",
    "            1. Update number of trip\n",
    "            2. Send trip info to kafka (for archive)\n",
    "        2. If not matched, update current location\n",
    "'''"
   ]
  },
  {
   "cell_type": "code",
   "execution_count": 214,
   "metadata": {
    "collapsed": false
   },
   "outputs": [
    {
     "name": "stdout",
     "output_type": "stream",
     "text": [
      "{\"status\": \"pickup\", \"p2\": null, \"p1\": null, \"altdest2id\": null, \"altdest2\": null, \"altdest1\": null, \"altdest1id\": null, \"destination\": [40.74688644735875, -73.93986836685168], \"name\": \"driver_1\", \"destinationid\": \"pickup_2\", \"location\": [40.735281636440995, -73.93617159785171], \"id\": 1, \"ctime\": \"2016-09-20T18:35:37.338147Z\"}\n",
      "{\"status\": \"assigned\", \"altdest2id\": \"9/11 Memorial & Museum\", \"altdest2\": [40.7114, -74.0125], \"altdest1\": [40.780829, -73.974004], \"altdest1id\": \"American Museum of Natural History\", \"destination\": [40.7831, -73.9592], \"driver\": null, \"name\": \"passenger_10\", \"destinationid\": \"Solomon R. Guggenheim Museum\", \"location\": [40.75573539924117, -73.93718173641139], \"id\": 10, \"match\": null, \"ctime\": \"2016-09-20T18:59:29.212706Z\"}\n"
     ]
    }
   ],
   "source": [
    "if d.status in ['idle']:\n",
    "    if not d.assignPassenger(): d.updateLocation()\n",
    "    print(d.jsonFormat())\n",
    "    print(p.jsonFormat())\n",
    "\n",
    "elif d.status in ['pickup']:\n",
    "    if d.location == d.destination:\n",
    "        d.loadPassenger(d.destinationid)\n",
    "    else:\n",
    "        d.updateLocation()\n",
    "\n",
    "elif d.status in ['ontrip']:\n",
    "    if d.location == d.destination:\n",
    "        d.arrived()\n",
    "    else:\n",
    "        d.assignPassenger()"
   ]
  },
  {
   "cell_type": "code",
   "execution_count": 4,
   "metadata": {
    "collapsed": false
   },
   "outputs": [],
   "source": [
    "q = {\n",
    "    \"query\" : { \n",
    "        \"match_all\" : {}\n",
    "    }\n",
    "}"
   ]
  },
  {
   "cell_type": "code",
   "execution_count": 6,
   "metadata": {
    "collapsed": false
   },
   "outputs": [
    {
     "ename": "AttributeError",
     "evalue": "'Elasticsearch' object has no attribute 'delete_by_query'",
     "output_type": "error",
     "traceback": [
      "\u001b[1;31m---------------------------------------------------------------------------\u001b[0m",
      "\u001b[1;31mAttributeError\u001b[0m                            Traceback (most recent call last)",
      "\u001b[1;32m<ipython-input-6-f528bd311ca5>\u001b[0m in \u001b[0;36m<module>\u001b[1;34m()\u001b[0m\n\u001b[1;32m----> 1\u001b[1;33m \u001b[0mes\u001b[0m\u001b[1;33m.\u001b[0m\u001b[0mdelete_by_query\u001b[0m\u001b[1;33m(\u001b[0m\u001b[0mindex\u001b[0m\u001b[1;33m=\u001b[0m\u001b[1;34m'driver'\u001b[0m\u001b[1;33m,\u001b[0m \u001b[0mbody\u001b[0m\u001b[1;33m=\u001b[0m\u001b[0mq\u001b[0m\u001b[1;33m)\u001b[0m\u001b[1;33m\u001b[0m\u001b[0m\n\u001b[0m",
      "\u001b[1;31mAttributeError\u001b[0m: 'Elasticsearch' object has no attribute 'delete_by_query'"
     ]
    }
   ],
   "source": [
    "es.delete_by_query(index='driver', body=q)"
   ]
  },
  {
   "cell_type": "code",
   "execution_count": null,
   "metadata": {
    "collapsed": true
   },
   "outputs": [],
   "source": [
    "def nearbyPassengers(self):\n",
    "        geo_query = { \"query\" : { \"match_all\" : {} } }\n",
    "\n",
    "        nearby = []\n",
    "        res = es.search(index='passenger', doc_type='rolling', body=geo_query )\n",
    "        for i in (res['hits']['hits']):\n",
    "            nearby.append(i['_id'])\n",
    "        return(nearby)"
   ]
  },
  {
   "cell_type": "code",
   "execution_count": 51,
   "metadata": {
    "collapsed": true
   },
   "outputs": [],
   "source": [
    "geo_query = { \"fields\": ['location','name'], \"query\" : { \"match_all\" : {} }}\n"
   ]
  },
  {
   "cell_type": "code",
   "execution_count": 52,
   "metadata": {
    "collapsed": false
   },
   "outputs": [],
   "source": [
    "res = es.search(index='passenger', doc_type='rolling', body=geo_query )['hits'].values()[0]\n",
    "    \n"
   ]
  },
  {
   "cell_type": "code",
   "execution_count": 53,
   "metadata": {
    "collapsed": false
   },
   "outputs": [
    {
     "name": "stdout",
     "output_type": "stream",
     "text": [
      "{u'name': [u'passenger_5'], u'location': [40.7904368518007, -73.949250506704]}\n",
      "{u'name': [u'passenger_9'], u'location': [40.77427273567577, -73.94211122618668]}\n",
      "{u'name': [u'passenger_10'], u'location': [40.75573539924117, -73.93718173641139]}\n",
      "{u'name': [u'passenger_8'], u'location': [40.735687957659366, -73.98382792388858]}\n",
      "{u'name': [u'passenger_2'], u'location': [40.74688644735875, -73.93986836685168]}\n",
      "{u'name': [u'passenger_6'], u'location': [40.76655615538195, -73.97501206652214]}\n",
      "{u'name': [u'passenger_4'], u'location': [40.78748930070537, -73.93026485004548]}\n",
      "{u'name': [u'passenger_1'], u'location': [40.77668353316895, -73.95045330330294]}\n",
      "{u'name': [u'passenger_7'], u'location': [40.753794479110105, -73.96141295175185]}\n",
      "{u'name': [u'passenger_3'], u'location': [40.76460653914439, -73.99295512053497]}\n"
     ]
    }
   ],
   "source": [
    "markers = []\n",
    "for i in res:\n",
    "    print i['fields']\n",
    "    markers.append({'icon': '//maps.google.com/mapfiles/ms/icons/blue-dot.png', 'infobox': i['fields']['name'], 'lat': i['fields']['location'][0], 'lng': i['fields']['location'][1]})"
   ]
  },
  {
   "cell_type": "code",
   "execution_count": 50,
   "metadata": {
    "collapsed": false
   },
   "outputs": [
    {
     "data": {
      "text/plain": [
       "[{'icon': '//maps.google.com/mapfiles/ms/icons/blue-dot.png',\n",
       "  'infobox': [u'passenger_5'],\n",
       "  'lat': 40.7904368518007,\n",
       "  'lng': -73.949250506704},\n",
       " {'icon': '//maps.google.com/mapfiles/ms/icons/blue-dot.png',\n",
       "  'infobox': [u'passenger_9'],\n",
       "  'lat': 40.77427273567577,\n",
       "  'lng': -73.94211122618668},\n",
       " {'icon': '//maps.google.com/mapfiles/ms/icons/blue-dot.png',\n",
       "  'infobox': [u'passenger_10'],\n",
       "  'lat': 40.75573539924117,\n",
       "  'lng': -73.93718173641139},\n",
       " {'icon': '//maps.google.com/mapfiles/ms/icons/blue-dot.png',\n",
       "  'infobox': [u'passenger_8'],\n",
       "  'lat': 40.735687957659366,\n",
       "  'lng': -73.98382792388858},\n",
       " {'icon': '//maps.google.com/mapfiles/ms/icons/blue-dot.png',\n",
       "  'infobox': [u'passenger_2'],\n",
       "  'lat': 40.74688644735875,\n",
       "  'lng': -73.93986836685168},\n",
       " {'icon': '//maps.google.com/mapfiles/ms/icons/blue-dot.png',\n",
       "  'infobox': [u'passenger_6'],\n",
       "  'lat': 40.76655615538195,\n",
       "  'lng': -73.97501206652214},\n",
       " {'icon': '//maps.google.com/mapfiles/ms/icons/blue-dot.png',\n",
       "  'infobox': [u'passenger_4'],\n",
       "  'lat': 40.78748930070537,\n",
       "  'lng': -73.93026485004548},\n",
       " {'icon': '//maps.google.com/mapfiles/ms/icons/blue-dot.png',\n",
       "  'infobox': [u'passenger_1'],\n",
       "  'lat': 40.77668353316895,\n",
       "  'lng': -73.95045330330294},\n",
       " {'icon': '//maps.google.com/mapfiles/ms/icons/blue-dot.png',\n",
       "  'infobox': [u'passenger_7'],\n",
       "  'lat': 40.753794479110105,\n",
       "  'lng': -73.96141295175185},\n",
       " {'icon': '//maps.google.com/mapfiles/ms/icons/blue-dot.png',\n",
       "  'infobox': [u'passenger_3'],\n",
       "  'lat': 40.76460653914439,\n",
       "  'lng': -73.99295512053497}]"
      ]
     },
     "execution_count": 50,
     "metadata": {},
     "output_type": "execute_result"
    }
   ],
   "source": [
    "markers"
   ]
  },
  {
   "cell_type": "raw",
   "metadata": {},
   "source": [
    "def fullmap():\n",
    "    fullmap = Map(\n",
    "        identifier=\"fullmap\",\n",
    "        varname=\"fullmap\",\n",
    "        style=(\n",
    "        ),\n",
    "        lat=37.4419,\n",
    "        lng=-122.1419,\n",
    "        markers=[\n",
    "            {\n",
    "                'icon': '//maps.google.com/mapfiles/ms/icons/green-dot.png',\n",
    "                'lat': 37.4419,\n",
    "                'lng': -122.1419,\n",
    "                'infobox': \"Hello I am <b style='color:green;'>GREEN</b>!\"\n",
    "            },\n",
    "            {\n",
    "                'icon': '//maps.google.com/mapfiles/ms/icons/blue-dot.png',\n",
    "                'lat': 37.4300,\n",
    "                'lng': -122.1400,\n",
    "                'infobox': \"Hello I am <b style='color:blue;'>BLUE</b>!\"\n",
    "            },\n",
    "            {\n",
    "                'icon': icons.dots.yellow,\n",
    "                'title': 'Click Here',\n",
    "                'lat': 37.4500,\n",
    "                'lng': -122.1350,\n",
    "                'infobox': (\n",
    "                    \"Hello I am <b style='color:#ffcc00;'>YELLOW</b>!\"\n",
    "                    \"<h2>It is HTML title</h2>\"\n",
    "                    \"<img src='//placehold.it/50'>\"\n",
    "                    \"<br>Images allowed!\"\n",
    "                )\n",
    "            }\n",
    "        ],\n",
    "        # maptype = \"TERRAIN\",\n",
    "        # zoom=\"5\"\n",
    "    )\n",
    "    return render_template('example_fullmap.html', fullmap=fullmap)\n"
   ]
  },
  {
   "cell_type": "code",
   "execution_count": 55,
   "metadata": {
    "collapsed": false
   },
   "outputs": [
    {
     "ename": "SyntaxError",
     "evalue": "invalid syntax (<ipython-input-55-d0d3931e62b6>, line 16)",
     "output_type": "error",
     "traceback": [
      "\u001b[1;36m  File \u001b[1;32m\"<ipython-input-55-d0d3931e62b6>\"\u001b[1;36m, line \u001b[1;32m16\u001b[0m\n\u001b[1;33m    res = es.search(index='passenger', doc_type='rolling', body=geo_query )['hits'].values()[0]\u001b[0m\n\u001b[1;37m      ^\u001b[0m\n\u001b[1;31mSyntaxError\u001b[0m\u001b[1;31m:\u001b[0m invalid syntax\n"
     ]
    }
   ],
   "source": [
    "        markers = []\n",
    "        fullmap = Map(\n",
    "                identifier=\"fullmap\",\n",
    "                varname=\"fullmap\",\n",
    "                style=(\n",
    "                \"height:100%;\"\n",
    "                \"width:100%;\"\n",
    "                \"top:0;\"\n",
    "                \"left:0;\"\n",
    "                \"position:absolute;\"\n",
    "                \"z-index:200;\"\n",
    "                ),\n",
    "                lat=40.7128,\n",
    "                lng=-74.0059,\n",
    "                geo_query = { \"fields\": ['location','name'], \"query\" : { \"match_all\" : {} }}\n",
    "                res = es.search(index='passenger', doc_type='rolling', body=geo_query )['hits'].values()[0]\n",
    "                for i in res:\n",
    "                        markers.append({'icon': '//maps.google.com/mapfiles/ms/icons/blue-dot.png', 'infobox': i['fields']['name'], 'lat': i['fields']['location'][0], 'lng': i['fields']['location'][1]})\n",
    "                ,\n",
    "        # maptype = \"TERRAIN\",\n",
    "        # zoom=\"5\"\n",
    "        )\n"
   ]
  },
  {
   "cell_type": "code",
   "execution_count": null,
   "metadata": {
    "collapsed": true
   },
   "outputs": [],
   "source": []
  }
 ],
 "metadata": {
  "kernelspec": {
   "display_name": "Python 2",
   "language": "python",
   "name": "python2"
  },
  "language_info": {
   "codemirror_mode": {
    "name": "ipython",
    "version": 2
   },
   "file_extension": ".py",
   "mimetype": "text/x-python",
   "name": "python",
   "nbconvert_exporter": "python",
   "pygments_lexer": "ipython2",
   "version": "2.7.6"
  }
 },
 "nbformat": 4,
 "nbformat_minor": 0
}
