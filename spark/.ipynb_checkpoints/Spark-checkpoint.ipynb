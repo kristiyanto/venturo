{
 "cells": [
  {
   "cell_type": "code",
   "execution_count": 1,
   "metadata": {
    "collapsed": false
   },
   "outputs": [],
   "source": [
    "from elasticsearch import Elasticsearch\n",
    "from kafka import KafkaConsumer\n",
    "import os\n",
    "import json\n",
    "from datetime import datetime\n",
    "\n",
    "es = Elasticsearch([{'host': 'localhost', 'port': 9200}])\n",
    "\n",
    "#consumer = KafkaConsumer('passenger', group_id = 1)\n",
    "#for message in consumer:\n",
    "#    message = json.loads(message.value)\n",
    "#    print \"{}\".format(message)\n",
    "#    incoming = passenger(message)\n",
    "#    incoming.store()\n",
    "#    consumer.commit()\n",
    "#consumer.close()"
   ]
  },
  {
   "cell_type": "code",
   "execution_count": 2,
   "metadata": {
    "collapsed": false
   },
   "outputs": [],
   "source": [
    "driver_mapping = {\n",
    "  'mappings': {\n",
    "    'rolling': {\n",
    "      'properties': {\n",
    "        'id': {'type': 'string'},\n",
    "        'status': {'type': 'string'},\n",
    "        'location': {'type': 'geo_point', 'lat_lon': 'true'},\n",
    "        'ctime': {'type': 'date'},\n",
    "        'p1': {'type': 'string'},\n",
    "        'p2': {'type': 'string'},\n",
    "        'destination': {'type': 'geo_point', 'lat_lon': 'true'},\n",
    "        'destinationid':{'type': 'string'},\n",
    "        'altdest1': {'type': 'geo_point', 'lat_lon': 'true'},\n",
    "        'altdest2id':{'type': 'string'},                \n",
    "        'altdest2': {'type': 'geo_point', 'lat_lon': 'true'},\n",
    "        'altdest2id':{'type': 'string'},                \n",
    "      }\n",
    "    }\n",
    "  }\n",
    "}\n",
    "\n",
    "\n",
    "pass_mapping = {\n",
    "  'mappings': {\n",
    "    'rolling': {\n",
    "      'properties': {\n",
    "        'id': {'type': 'string'},\n",
    "        'status': {'type': 'string'},\n",
    "        'match': {'type': 'string'},                \n",
    "        'location': {'type': 'geo_point', 'lat_lon': 'true'},\n",
    "        'ctime': {'type': 'date'},\n",
    "        'driver': {'type': 'string'},\n",
    "        'destination': {'type': 'geo_point', 'lat_lon': 'true'},\n",
    "        'destinationid':{'type': 'string'},                \n",
    "        'altdest1': {'type': 'geo_point', 'lat_lon': 'true'},\n",
    "        'altdestid1':{'type': 'string'},                    \n",
    "        'altdest2': {'type': 'geo_point', 'lat_lon': 'true'},\n",
    "        'altdestid2':{'type': 'string'},                \n",
    "      }\n",
    "    }\n",
    "  }\n",
    "}\n",
    "\n",
    "\n",
    "#es.indices.delete(index='driver', ignore=[400, 404])\n",
    "#es.indices.delete(index='passenger', ignore=[400, 404])\n",
    "#es.indices.create(index='driver', body=driver_mapping, ignore=400)\n",
    "#es.indices.create(index='passenger', body=pass_mapping, ignore=400)"
   ]
  },
  {
   "cell_type": "code",
   "execution_count": 3,
   "metadata": {
    "collapsed": false
   },
   "outputs": [],
   "source": [
    "class driver(object):\n",
    "    def __init__(self, *arg, **kwargs):\n",
    "        for item in arg:\n",
    "            for key in item:\n",
    "                setattr(self, key, item[key])\n",
    "        for key in kwargs:\n",
    "            setattr(self, key, kwargs[key])\n",
    "        try:\n",
    "            res = datetime.strptime(\"{}\".format(unicode(self.ctime)), '%Y-%m-%d %H:%M:%S.%f')\n",
    "            self.ctime = res.strftime('%Y-%m-%dT%H:%M:%S.%fZ')\n",
    "        except:\n",
    "            pass\n",
    "    def jsonFormat(self):\n",
    "        return(json.dumps(self.__dict__))\n",
    "    def isKnown(self):\n",
    "        res = es.get(index='driver', doc_type='rolling', id=self.id, ignore=[404, 400])\n",
    "        return(res['found'])\n",
    "    def store(self):\n",
    "        res = es.create(index='driver', doc_type='rolling', id=self.id, body=self.jsonFormat())\n",
    "        return(res['created'])\n",
    "    def nearbyPassengers(self):\n",
    "        geo_query = { \"from\" : 0, \"size\" : 3,\n",
    "                      \"_source\":{\"include\": [ \"_id\" ]},\n",
    "                      \"query\": {\n",
    "                        \"filtered\": {\n",
    "                           \"query\" : {\n",
    "                                \"match_all\" : {}\n",
    "                            },\n",
    "                            \"term\": {\"status\": \"wait\"}\n",
    "                            \"filter\": {\n",
    "                                \"geo_distance\": {\n",
    "                                  \"distance\":      \"5km\",\n",
    "                                  \"distance_type\": \"plane\", \n",
    "                                  \"location\": self.location\n",
    "                            }\n",
    "                          }\n",
    "                        }\n",
    "                      }\n",
    "                    }\n",
    "\n",
    "        nearby = []\n",
    "        res = es.search(index='passenger', doc_type='rolling', body=geo_query )\n",
    "        for i in (res['hits']['hits']):\n",
    "            nearby.append(i['_id'])\n",
    "        return(nearby)\n",
    "\n",
    "class passenger(object):\n",
    "    def __init__(self, *arg, **kwargs):\n",
    "        for item in arg:\n",
    "            for key in item:\n",
    "                setattr(self, key, item[key])\n",
    "        for key in kwargs:\n",
    "            setattr(self, key, kwargs[key])\n",
    "        try:\n",
    "            res = datetime.strptime(\"{}\".format(unicode(self.ctime)), '%Y-%m-%d %H:%M:%S.%f')\n",
    "            self.ctime = res.strftime('%Y-%m-%dT%H:%M:%S.%fZ')\n",
    "        except:\n",
    "            pass\n",
    "    def jsonFormat(self):\n",
    "        return(json.dumps(self.__dict__))\n",
    "    def isKnown(self):\n",
    "        res = es.get(index='passenger', doc_type='rolling', id=self.id, ignore=[404, 400])\n",
    "        return(res['found'])\n",
    "    def store(self):\n",
    "        res = es.create(index='passenger', doc_type='rolling', id=self.id, body=self.jsonFormat())\n",
    "        return(res['created'])\n",
    "\n",
    "def loadPassenger(p_id):\n",
    "    res = es.get(index='passenger', doc_type='rolling', id=p_id, ignore=404)\n",
    "    return(passenger(res['_source'])) if res['found'] else res['found']\n",
    "\n",
    "def loadDriver(p_id):\n",
    "    res = es.get(index='driver', doc_type='rolling', id=p_id, ignore=404)\n",
    "    return(driver(res['_source'])) if res['found'] else res['found']\n",
    "    \n",
    "def sanityCheck(driver):\n",
    "    if driver.isKnown():\n",
    "        driverRecord = getDriverRecord(driver.id)\n",
    "        return(driver.time > driverRecord.time)\n",
    "    else:\n",
    "        return(True)    \n",
    "    \n",
    "def getDriverRecord(id):\n",
    "    res = es.get(index='trip', doc_type='driver', id=id)['_source']\n",
    "    return(driver(res))"
   ]
  },
  {
   "cell_type": "code",
   "execution_count": 4,
   "metadata": {
    "collapsed": false
   },
   "outputs": [
    {
     "data": {
      "text/plain": [
       "\"\\n    Driver:\\n    1. Check if timestamp make sense\\n    2. Check if driver exists in DB, if doesn't exists, create\\n    3. If cab's capacity is not zero, look for nearby requests\\n        1. If passenger request matched:\\n            1. Change status from idle to on trip (if necessary)\\n            2. Re-route / Set destination to passenger\\n            3. Save information to ElasticSearch\\n        2. If no nearby passenger:\\n            1. Update current location\\n    4. If cab's capacity is zero:\\n        Check if current location matches with destination:\\n        1. If matched, empty the cab and mark to idle\\n            1. Update number of trip\\n            2. Send trip info to kafka (for archive)\\n        2. If not matched, update current location\\n\""
      ]
     },
     "execution_count": 4,
     "metadata": {},
     "output_type": "execute_result"
    }
   ],
   "source": [
    "'''\n",
    "    Driver:\n",
    "    1. Check if timestamp make sense\n",
    "    2. Check if driver exists in DB, if doesn't exists, create\n",
    "    3. If cab's capacity is not zero, look for nearby requests\n",
    "        1. If passenger request matched:\n",
    "            1. Change status from idle to on trip (if necessary)\n",
    "            2. Re-route / Set destination to passenger\n",
    "            3. Save information to ElasticSearch\n",
    "        2. If no nearby passenger:\n",
    "            1. Update current location\n",
    "    4. If cab's capacity is zero:\n",
    "        Check if current location matches with destination:\n",
    "        1. If matched, empty the cab and mark to idle\n",
    "            1. Update number of trip\n",
    "            2. Send trip info to kafka (for archive)\n",
    "        2. If not matched, update current location\n",
    "'''"
   ]
  },
  {
   "cell_type": "code",
   "execution_count": 5,
   "metadata": {
    "collapsed": false
   },
   "outputs": [
    {
     "ename": "SyntaxError",
     "evalue": "invalid syntax (<ipython-input-5-374c903738d1>, line 2)",
     "output_type": "error",
     "traceback": [
      "\u001b[1;36m  File \u001b[1;32m\"<ipython-input-5-374c903738d1>\"\u001b[1;36m, line \u001b[1;32m2\u001b[0m\n\u001b[1;33m    if d.nearbyPassengers\u001b[0m\n\u001b[1;37m                         ^\u001b[0m\n\u001b[1;31mSyntaxError\u001b[0m\u001b[1;31m:\u001b[0m invalid syntax\n"
     ]
    }
   ],
   "source": [
    "def driverIdle(d):\n",
    "    if d.nearbyPassengers"
   ]
  },
  {
   "cell_type": "code",
   "execution_count": 6,
   "metadata": {
    "collapsed": false
   },
   "outputs": [],
   "source": [
    "d = loadDriver(1)\n",
    "if d.isKnown(): d_ = loadDriver(d.id) "
   ]
  },
  {
   "cell_type": "code",
   "execution_count": 41,
   "metadata": {
    "collapsed": false
   },
   "outputs": [],
   "source": [
    "# If IDLE\n",
    "\n",
    "if len(d.nearbyPassengers())>0:\n",
    "    p = loadPassenger(d.nearbyPassengers()[0])\n",
    "    p.status = 'assigned'\n",
    "    d.status = 'pickup'\n",
    "    d.destination = p.location\n",
    "    d.destinationid = \"pick_{}\".format(p.id)\n",
    "    #d.store()\n",
    "    #p.store()\n",
    "    \n",
    "# if PickUP\n",
    "if d.status == \"pickup\":\n",
    "    if d.location == p.location: \n",
    "        d.p1 = p.id\n",
    "        p.driver = d.id\n",
    "        d.destination = p.destination\n",
    "        d.destinationid = p.destinationid\n",
    "        d.status = \"ontrip\"\n",
    "        d.store()\n",
    "        p.store()\n",
    "\n",
    "if d.status == \"ontrip\":\n",
    "    if d.location == d.destination:\n",
    "        \n",
    "    "
   ]
  },
  {
   "cell_type": "code",
   "execution_count": 30,
   "metadata": {
    "collapsed": false
   },
   "outputs": [
    {
     "data": {
      "text/plain": [
       "<__main__.passenger at 0x7ffa44bc8d10>"
      ]
     },
     "execution_count": 30,
     "metadata": {},
     "output_type": "execute_result"
    }
   ],
   "source": [
    "p"
   ]
  },
  {
   "cell_type": "code",
   "execution_count": 34,
   "metadata": {
    "collapsed": false
   },
   "outputs": [
    {
     "data": {
      "text/plain": [
       "'{\"status\": \"wait\", \"altdest2id\": \"American Museum of Natural History\", \"altdest2\": [40.780829, -73.974004], \"altdest1\": [40.748817, -73.985428], \"altdest1id\": \"Empire Building\", \"destination\": [40.758896, -73.98513], \"driver\": null, \"name\": \"passenger_5\", \"destinationid\": \"Times Square\", \"location\": [40.7904368518007, -73.949250506704], \"id\": 5, \"match\": null, \"ctime\": \"2016-09-20T18:59:19.117448Z\"}'"
      ]
     },
     "execution_count": 34,
     "metadata": {},
     "output_type": "execute_result"
    }
   ],
   "source": [
    "p.jsonFormat()"
   ]
  },
  {
   "cell_type": "code",
   "execution_count": 33,
   "metadata": {
    "collapsed": false
   },
   "outputs": [
    {
     "data": {
      "text/plain": [
       "'{\"status\": \"idle\", \"p2\": null, \"p1\": null, \"altdest2id\": null, \"altdest2\": null, \"altdest1\": null, \"altdest1id\": null, \"destination\": null, \"name\": \"driver_1\", \"destinationid\": null, \"location\": [40.79110336781974, -73.92626153649626], \"id\": 1, \"ctime\": \"2016-09-20T18:32:43.152777Z\"}'"
      ]
     },
     "execution_count": 33,
     "metadata": {},
     "output_type": "execute_result"
    }
   ],
   "source": [
    "d.jsonFormat()"
   ]
  },
  {
   "cell_type": "code",
   "execution_count": 39,
   "metadata": {
    "collapsed": false,
    "scrolled": true
   },
   "outputs": [
    {
     "data": {
      "text/plain": [
       "'{\"status\": \"assigned\", \"altdest2id\": \"American Museum of Natural History\", \"altdest2\": [40.780829, -73.974004], \"altdest1\": [40.748817, -73.985428], \"altdest1id\": \"Empire Building\", \"destination\": [40.758896, -73.98513], \"driver\": 1, \"name\": \"passenger_5\", \"destinationid\": \"Times Square\", \"location\": [40.7904368518007, -73.949250506704], \"id\": 5, \"match\": null, \"ctime\": \"2016-09-20T18:59:19.117448Z\"}'"
      ]
     },
     "execution_count": 39,
     "metadata": {},
     "output_type": "execute_result"
    }
   ],
   "source": [
    "p.jsonFormat()"
   ]
  },
  {
   "cell_type": "code",
   "execution_count": 42,
   "metadata": {
    "collapsed": false
   },
   "outputs": [
    {
     "data": {
      "text/plain": [
       "'{\"status\": \"pickup\", \"p2\": null, \"p1\": 5, \"altdest2id\": null, \"altdest2\": null, \"altdest1\": null, \"altdest1id\": null, \"destination\": [40.758896, -73.98513], \"name\": \"driver_1\", \"destinationid\": \"pick_5\", \"location\": [40.79110336781974, -73.92626153649626], \"id\": 1, \"ctime\": \"2016-09-20T18:32:43.152777Z\"}'"
      ]
     },
     "execution_count": 42,
     "metadata": {},
     "output_type": "execute_result"
    }
   ],
   "source": [
    "d.jsonFormat()"
   ]
  },
  {
   "cell_type": "code",
   "execution_count": 43,
   "metadata": {
    "collapsed": true
   },
   "outputs": [],
   "source": [
    "if d.status == \"ontrip\" and d.p2 == None: print(here)"
   ]
  },
  {
   "cell_type": "code",
   "execution_count": 44,
   "metadata": {
    "collapsed": false
   },
   "outputs": [
    {
     "data": {
      "text/plain": [
       "'pickup'"
      ]
     },
     "execution_count": 44,
     "metadata": {},
     "output_type": "execute_result"
    }
   ],
   "source": []
  },
  {
   "cell_type": "code",
   "execution_count": null,
   "metadata": {
    "collapsed": true
   },
   "outputs": [],
   "source": []
  }
 ],
 "metadata": {
  "kernelspec": {
   "display_name": "Python 2",
   "language": "python",
   "name": "python2"
  }
 },
 "nbformat": 4,
 "nbformat_minor": 0
}
