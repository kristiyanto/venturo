{
 "cells": [
  {
   "cell_type": "code",
   "execution_count": 470,
   "metadata": {
    "collapsed": false
   },
   "outputs": [],
   "source": [
    "from elasticsearch import Elasticsearch\n",
    "from kafka import KafkaConsumer\n",
    "import os\n",
    "import json\n",
    "from datetime import datetime\n",
    "\n",
    "es = Elasticsearch([{'host': 'localhost', 'port': 9200}])\n",
    "\n",
    "#consumer = KafkaConsumer('passenger', group_id = 1)\n",
    "#for message in consumer:\n",
    "#    message = json.loads(message.value)\n",
    "#    print \"{}\".format(message)\n",
    "#    incoming = driver(message)\n",
    "#    incoming.store()\n",
    "#    consumer.commit()\n",
    "#consumer.close()"
   ]
  },
  {
   "cell_type": "code",
   "execution_count": 471,
   "metadata": {
    "collapsed": false
   },
   "outputs": [
    {
     "data": {
      "text/plain": [
       "{u'acknowledged': True}"
      ]
     },
     "execution_count": 471,
     "metadata": {},
     "output_type": "execute_result"
    }
   ],
   "source": [
    "driver_mapping = {\n",
    "  'mappings': {\n",
    "    'rolling': {\n",
    "      'properties': {\n",
    "        'id': {'type': 'string'},\n",
    "        'status': {'type': 'string'},\n",
    "        'location': {'type': 'geo_point', 'lat_lon': 'true'},\n",
    "        'ctime': {'type': 'date'},\n",
    "        'p1': {'type': 'string'},\n",
    "        'p2': {'type': 'string'},\n",
    "        'destination': {'type': 'geo_point', 'lat_lon': 'true'},\n",
    "        'alt-dest1': {'type': 'geo_point', 'lat_lon': 'true'},\n",
    "        'alt-dest2': {'type': 'geo_point', 'lat_lon': 'true'},\n",
    "      }\n",
    "    }\n",
    "  }\n",
    "}\n",
    "\n",
    "\n",
    "pass_mapping = {\n",
    "  'mappings': {\n",
    "    'rolling': {\n",
    "      'properties': {\n",
    "        'id': {'type': 'string'},\n",
    "        'status': {'type': 'string'},\n",
    "        'match': {'type': 'string'},                \n",
    "        'location': {'type': 'geo_point', 'lat_lon': 'true'},\n",
    "        'ctime': {'type': 'date'},\n",
    "        'driver': {'type': 'string'},\n",
    "        'destination': {'type': 'geo_point', 'lat_lon': 'true'},\n",
    "        'alt-dest1': {'type': 'geo_point', 'lat_lon': 'true'},\n",
    "        'alt-dest2': {'type': 'geo_point', 'lat_lon': 'true'},\n",
    "      }\n",
    "    }\n",
    "  }\n",
    "}\n",
    "\n",
    "\n",
    "#es.indices.delete(index='trip', ignore=[400, 404])\n",
    "#es.indices.create(index='driver', body=driver_mapping, ignore=400)\n",
    "#es.indices.create(index='passenger', body=driver_mapping, ignore=400)"
   ]
  },
  {
   "cell_type": "code",
   "execution_count": 552,
   "metadata": {
    "collapsed": false
   },
   "outputs": [],
   "source": [
    "class driver(object):\n",
    "    def __init__(self, *arg, **kwargs):\n",
    "        for item in arg:\n",
    "            for key in item:\n",
    "                setattr(self, key, item[key])\n",
    "        for key in kwargs:\n",
    "            setattr(self, key, kwargs[key])\n",
    "        try:\n",
    "            res = datetime.strptime(\"{}\".format(unicode(self.ctime)), '%Y-%m-%d %H:%M:%S.%f')\n",
    "            self.ctime = res.strftime('%Y-%m-%dT%H:%M:%S.%fZ')\n",
    "        except:\n",
    "            pass\n",
    "    def jsonFormat(self):\n",
    "        return(json.dumps(self.__dict__))\n",
    "    def isKnown(self):\n",
    "        res = es.get(index='driver', doc_type='rolling', id=self.id, ignore=[404, 400])\n",
    "        return(res['found'])\n",
    "    def store(self):\n",
    "        res = es.create(index='driver', doc_type='rolling', id=self.id, body=self.jsonFormat())\n",
    "        return(res['created'])\n",
    "    def nearbyPassengers(self):\n",
    "        geo_query = { \"from\" : 0, \"size\" : 3,\n",
    "                      \"_source\":{\"include\": [ \"_id\" ]},\n",
    "                      \"query\": {\n",
    "                        \"filtered\": {\n",
    "                           \"query\" : {\n",
    "                                \"match_all\" : {}\n",
    "                            },\n",
    "                          \"filter\": {\n",
    "                            \"geo_distance\": {\n",
    "                              \"distance\":      \"5km\",\n",
    "                              \"distance_type\": \"plane\", \n",
    "                              \"location\": self.location\n",
    "                            }\n",
    "                          }\n",
    "                        }\n",
    "                      }\n",
    "                    }\n",
    "\n",
    "        nearby = []\n",
    "        res = es.search(index='passenger', doc_type='rolling', body=geo_query )\n",
    "        for i in (res['hits']['hits']):\n",
    "            nearby.append(i['_id'])\n",
    "        return(nearby)\n",
    "\n",
    "class passenger(object):\n",
    "    def __init__(self, *arg, **kwargs):\n",
    "        for item in arg:\n",
    "            for key in item:\n",
    "                setattr(self, key, item[key])\n",
    "        for key in kwargs:\n",
    "            setattr(self, key, kwargs[key])\n",
    "        try:\n",
    "            res = datetime.strptime(\"{}\".format(unicode(self.ctime)), '%Y-%m-%d %H:%M:%S.%f')\n",
    "            self.ctime = res.strftime('%Y-%m-%dT%H:%M:%S.%fZ')\n",
    "        except:\n",
    "            pass\n",
    "    def jsonFormat(self):\n",
    "        return(json.dumps(self.__dict__))\n",
    "    def isKnown(self):\n",
    "        res = es.get(index='passenger', doc_type='rolling', id=self.id, ignore=[404, 400])\n",
    "        return(res['found'])\n",
    "    def store(self):\n",
    "        res = es.create(index='passenger', doc_type='rolling', id=self.id, body=self.jsonFormat())\n",
    "        return(res['created'])\n",
    "\n",
    "def loadPassenger(p_id):\n",
    "    res = es.get(index='passenger', doc_type='rolling', id=p_id, ignore=404)\n",
    "    return(passenger(res['_source'])) if res['found'] else res['found']\n",
    "\n",
    "def loadDriver(p_id):\n",
    "    res = es.get(index='driver', doc_type='rolling', id=p_id, ignore=404)\n",
    "    return(driver(res['_source'])) if res['found'] else res['found']\n",
    "    \n",
    "def sanityCheck(driver):\n",
    "    if driver.isKnown():\n",
    "        driverRecord = getDriverRecord(driver.id)\n",
    "        return(driver.time > driverRecord.time)\n",
    "    else:\n",
    "        return(True)    \n",
    "    \n",
    "def getDriverRecord(id):\n",
    "    res = es.get(index='trip', doc_type='driver', id=id)['_source']\n",
    "    return(driver(res))"
   ]
  },
  {
   "cell_type": "code",
   "execution_count": 473,
   "metadata": {
    "collapsed": false
   },
   "outputs": [
    {
     "data": {
      "text/plain": [
       "\"\\n    Driver:\\n    1. Check if timestamp make sense\\n    2. Check if driver exists in DB, if doesn't exists, create\\n    3. If cab's capacity is not zero, look for nearby requests\\n        1. If passenger request matched:\\n            1. Change status from idle to on trip (if necessary)\\n            2. Re-route / Set destination to passenger\\n            3. Save information to ElasticSearch\\n        2. If no nearby passenger:\\n            1. Update current location\\n    4. If cab's capacity is zero:\\n        Check if current location matches with destination:\\n        1. If matched, empty the cab and mark to idle\\n            1. Update number of trip\\n            2. Send trip info to kafka (for archive)\\n        2. If not matched, update current location\\n\""
      ]
     },
     "execution_count": 473,
     "metadata": {},
     "output_type": "execute_result"
    }
   ],
   "source": [
    "'''\n",
    "    Driver:\n",
    "    1. Check if timestamp make sense\n",
    "    2. Check if driver exists in DB, if doesn't exists, create\n",
    "    3. If cab's capacity is not zero, look for nearby requests\n",
    "        1. If passenger request matched:\n",
    "            1. Change status from idle to on trip (if necessary)\n",
    "            2. Re-route / Set destination to passenger\n",
    "            3. Save information to ElasticSearch\n",
    "        2. If no nearby passenger:\n",
    "            1. Update current location\n",
    "    4. If cab's capacity is zero:\n",
    "        Check if current location matches with destination:\n",
    "        1. If matched, empty the cab and mark to idle\n",
    "            1. Update number of trip\n",
    "            2. Send trip info to kafka (for archive)\n",
    "        2. If not matched, update current location\n",
    "'''"
   ]
  },
  {
   "cell_type": "code",
   "execution_count": 553,
   "metadata": {
    "collapsed": false
   },
   "outputs": [],
   "source": [
    "driver = loadDriver(1)"
   ]
  },
  {
   "cell_type": "code",
   "execution_count": 555,
   "metadata": {
    "collapsed": false
   },
   "outputs": [
    {
     "data": {
      "text/plain": [
       "'{\"status\": \"idle\", \"p2\": null, \"p1\": null, \"ctime\": \"2016-09-20T05:16:19.463842Z\", \"alt-dest2\": null, \"alt-dest1\": null, \"destination\": null, \"location\": [40.79112007928047, -73.99956015257415], \"id\": 1}'"
      ]
     },
     "execution_count": 555,
     "metadata": {},
     "output_type": "execute_result"
    }
   ],
   "source": [
    "driver.jsonFormat()"
   ]
  },
  {
   "cell_type": "code",
   "execution_count": null,
   "metadata": {
    "collapsed": true
   },
   "outputs": [],
   "source": []
  }
 ],
 "metadata": {
  "kernelspec": {
   "display_name": "Python 2",
   "language": "python",
   "name": "python2"
  },
  "language_info": {
   "codemirror_mode": {
    "name": "ipython",
    "version": 2
   },
   "file_extension": ".py",
   "mimetype": "text/x-python",
   "name": "python",
   "nbconvert_exporter": "python",
   "pygments_lexer": "ipython2",
   "version": "2.7.6"
  }
 },
 "nbformat": 4,
 "nbformat_minor": 0
}
