{
 "cells": [
  {
   "cell_type": "code",
   "execution_count": 6,
   "metadata": {
    "collapsed": false
   },
   "outputs": [
    {
     "ename": "Exception",
     "evalue": "Java gateway process exited before sending the driver its port number",
     "output_type": "error",
     "traceback": [
      "\u001b[1;31m---------------------------------------------------------------------------\u001b[0m",
      "\u001b[1;31mException\u001b[0m                                 Traceback (most recent call last)",
      "\u001b[1;32m<ipython-input-6-6c3f5db07e9c>\u001b[0m in \u001b[0;36m<module>\u001b[1;34m()\u001b[0m\n\u001b[0;32m      7\u001b[0m \u001b[1;33m\u001b[0m\u001b[0m\n\u001b[0;32m      8\u001b[0m \u001b[1;33m\u001b[0m\u001b[0m\n\u001b[1;32m----> 9\u001b[1;33m \u001b[0msc\u001b[0m \u001b[1;33m=\u001b[0m \u001b[0mSparkContext\u001b[0m\u001b[1;33m(\u001b[0m\u001b[1;34m'local'\u001b[0m\u001b[1;33m,\u001b[0m \u001b[1;34m'appName'\u001b[0m\u001b[1;33m)\u001b[0m\u001b[1;33m\u001b[0m\u001b[0m\n\u001b[0m\u001b[0;32m     10\u001b[0m \u001b[0mssc\u001b[0m \u001b[1;33m=\u001b[0m \u001b[0mStreamingContext\u001b[0m\u001b[1;33m(\u001b[0m\u001b[0msc\u001b[0m\u001b[1;33m,\u001b[0m \u001b[1;36m1\u001b[0m\u001b[1;33m)\u001b[0m\u001b[1;33m\u001b[0m\u001b[0m\n\u001b[0;32m     11\u001b[0m \u001b[1;33m\u001b[0m\u001b[0m\n",
      "\u001b[1;32m/usr/local/spark/python/pyspark/context.pyc\u001b[0m in \u001b[0;36m__init__\u001b[1;34m(self, master, appName, sparkHome, pyFiles, environment, batchSize, serializer, conf, gateway, jsc, profiler_cls)\u001b[0m\n\u001b[0;32m    110\u001b[0m         \"\"\"\n\u001b[0;32m    111\u001b[0m         \u001b[0mself\u001b[0m\u001b[1;33m.\u001b[0m\u001b[0m_callsite\u001b[0m \u001b[1;33m=\u001b[0m \u001b[0mfirst_spark_call\u001b[0m\u001b[1;33m(\u001b[0m\u001b[1;33m)\u001b[0m \u001b[1;32mor\u001b[0m \u001b[0mCallSite\u001b[0m\u001b[1;33m(\u001b[0m\u001b[0mNone\u001b[0m\u001b[1;33m,\u001b[0m \u001b[0mNone\u001b[0m\u001b[1;33m,\u001b[0m \u001b[0mNone\u001b[0m\u001b[1;33m)\u001b[0m\u001b[1;33m\u001b[0m\u001b[0m\n\u001b[1;32m--> 112\u001b[1;33m         \u001b[0mSparkContext\u001b[0m\u001b[1;33m.\u001b[0m\u001b[0m_ensure_initialized\u001b[0m\u001b[1;33m(\u001b[0m\u001b[0mself\u001b[0m\u001b[1;33m,\u001b[0m \u001b[0mgateway\u001b[0m\u001b[1;33m=\u001b[0m\u001b[0mgateway\u001b[0m\u001b[1;33m)\u001b[0m\u001b[1;33m\u001b[0m\u001b[0m\n\u001b[0m\u001b[0;32m    113\u001b[0m         \u001b[1;32mtry\u001b[0m\u001b[1;33m:\u001b[0m\u001b[1;33m\u001b[0m\u001b[0m\n\u001b[0;32m    114\u001b[0m             self._do_init(master, appName, sparkHome, pyFiles, environment, batchSize, serializer,\n",
      "\u001b[1;32m/usr/local/spark/python/pyspark/context.pyc\u001b[0m in \u001b[0;36m_ensure_initialized\u001b[1;34m(cls, instance, gateway)\u001b[0m\n\u001b[0;32m    243\u001b[0m         \u001b[1;32mwith\u001b[0m \u001b[0mSparkContext\u001b[0m\u001b[1;33m.\u001b[0m\u001b[0m_lock\u001b[0m\u001b[1;33m:\u001b[0m\u001b[1;33m\u001b[0m\u001b[0m\n\u001b[0;32m    244\u001b[0m             \u001b[1;32mif\u001b[0m \u001b[1;32mnot\u001b[0m \u001b[0mSparkContext\u001b[0m\u001b[1;33m.\u001b[0m\u001b[0m_gateway\u001b[0m\u001b[1;33m:\u001b[0m\u001b[1;33m\u001b[0m\u001b[0m\n\u001b[1;32m--> 245\u001b[1;33m                 \u001b[0mSparkContext\u001b[0m\u001b[1;33m.\u001b[0m\u001b[0m_gateway\u001b[0m \u001b[1;33m=\u001b[0m \u001b[0mgateway\u001b[0m \u001b[1;32mor\u001b[0m \u001b[0mlaunch_gateway\u001b[0m\u001b[1;33m(\u001b[0m\u001b[1;33m)\u001b[0m\u001b[1;33m\u001b[0m\u001b[0m\n\u001b[0m\u001b[0;32m    246\u001b[0m                 \u001b[0mSparkContext\u001b[0m\u001b[1;33m.\u001b[0m\u001b[0m_jvm\u001b[0m \u001b[1;33m=\u001b[0m \u001b[0mSparkContext\u001b[0m\u001b[1;33m.\u001b[0m\u001b[0m_gateway\u001b[0m\u001b[1;33m.\u001b[0m\u001b[0mjvm\u001b[0m\u001b[1;33m\u001b[0m\u001b[0m\n\u001b[0;32m    247\u001b[0m \u001b[1;33m\u001b[0m\u001b[0m\n",
      "\u001b[1;32m/usr/local/spark/python/pyspark/java_gateway.pyc\u001b[0m in \u001b[0;36mlaunch_gateway\u001b[1;34m()\u001b[0m\n\u001b[0;32m     92\u001b[0m                 \u001b[0mcallback_socket\u001b[0m\u001b[1;33m.\u001b[0m\u001b[0mclose\u001b[0m\u001b[1;33m(\u001b[0m\u001b[1;33m)\u001b[0m\u001b[1;33m\u001b[0m\u001b[0m\n\u001b[0;32m     93\u001b[0m         \u001b[1;32mif\u001b[0m \u001b[0mgateway_port\u001b[0m \u001b[1;32mis\u001b[0m \u001b[0mNone\u001b[0m\u001b[1;33m:\u001b[0m\u001b[1;33m\u001b[0m\u001b[0m\n\u001b[1;32m---> 94\u001b[1;33m             \u001b[1;32mraise\u001b[0m \u001b[0mException\u001b[0m\u001b[1;33m(\u001b[0m\u001b[1;34m\"Java gateway process exited before sending the driver its port number\"\u001b[0m\u001b[1;33m)\u001b[0m\u001b[1;33m\u001b[0m\u001b[0m\n\u001b[0m\u001b[0;32m     95\u001b[0m \u001b[1;33m\u001b[0m\u001b[0m\n\u001b[0;32m     96\u001b[0m         \u001b[1;31m# In Windows, ensure the Java child processes do not linger after Python has exited.\u001b[0m\u001b[1;33m\u001b[0m\u001b[1;33m\u001b[0m\u001b[0m\n",
      "\u001b[1;31mException\u001b[0m: Java gateway process exited before sending the driver its port number"
     ]
    }
   ],
   "source": [
    "# This is the script to populate driver's Data\n",
    "# {driver_id, time, curr_lat, curr_long, dest, load}\n",
    "\n",
    "import csv\n",
    "import random\n",
    "from kafka import KeyedProducer, KafkaClient\n",
    "from datetime import datetime\n",
    "import time\n",
    "import json\n",
    "import random \n",
    "from elasticsearch import Elasticsearch\n",
    "\n",
    "boundaries_file = \"boundaries.csv\"\n",
    "last_uid = 0 \n",
    "kafka = KafkaClient('localhost:9092')\n",
    "producer = KeyedProducer(kafka)\n",
    "city = 'NYC'\n",
    "\n",
    "es = Elasticsearch(['ip-172-31-0-107', 'ip-172-31-0-100', \\\n",
    "                    ' ip-172-31-0-105', 'ip-172-31-0-106'], \\\n",
    "                   port=9200)\n",
    "\n",
    "\n",
    "\n",
    "def loadBoundaries(boundaries_file):\n",
    "    boundaries = {}\n",
    "    with open(boundaries_file, 'r') as f:\n",
    "        reader = csv.reader(f, delimiter = ',')\n",
    "        for row in reader:\n",
    "            city = row[0]\n",
    "            fence = row[1:] \n",
    "            boundaries.update({city:fence})\n",
    "    f.close()\n",
    "    return boundaries\n",
    "\n",
    "def simulateTrip(id, c):\n",
    "    step = 4\n",
    "    q = es.get(index='driver', doc_type='rolling', id=id, ignore=[404, 400])\n",
    "    if q['found'] and (q['_source']['status'] in ['ontrip', 'pickup']: \n",
    "        d = q['_source']['destination']\n",
    "        c = q['_source']['location']\n",
    "        return [c[0] + ((c[0] - d[0])/step), c[1] + ((c[1] - d[1])/step)\n",
    "    else:\n",
    "        return [random.uniform(float(bnd[0]), float(bnd[2])), \\\n",
    "                random.uniform(float(bnd[1]),float(bnd[3]))]\n",
    "        \n",
    "        \n",
    "def generateDriver(city):\n",
    "    global last_uid \n",
    "    bnd = bound[city]\n",
    "    last_uid += 1\n",
    "    curr_lat = random.uniform(float(bnd[0]), float(bnd[2]))\n",
    "    curr_long = random.uniform(float(bnd[1]),float(bnd[3]))\n",
    "    \n",
    "    driver_mapping ={ \n",
    "            'name': 'driver_{}'.format(last_uid),\n",
    "            'id': random.randint(1, 20),\n",
    "            'status': 'idle',\n",
    "            'location': simulateTrip(),\n",
    "            'ctime': str(datetime.now()),\n",
    "            'p1': None,\n",
    "            'p2': None,\n",
    "            'destination': None,\n",
    "            'destinationid': None,\n",
    "            'altdest1': None,\n",
    "            'altdest1id': None,\n",
    "            'altdest2': None,\n",
    "            'altdest2id': None,\n",
    "        }\n",
    "\n",
    "    return(driver_mapping)\n",
    "\n",
    "bound = loadBoundaries(boundaries_file)\n",
    "for n in range(20):\n",
    "    driver = generateDriver(city)\n",
    "    u_json = json.dumps(driver).encode('utf-8')\n",
    "    key = json.dumps(city).encode('utf-8')\n",
    "    print('{}'.format(driver))\n",
    "    producer.send(b'driver', key, u_json) \n",
    "    time.sleep(2)\n"
   ]
  },
  {
   "cell_type": "code",
   "execution_count": 2,
   "metadata": {
    "collapsed": false
   },
   "outputs": [],
   "source": [
    "\n",
    "import csv\n",
    "import random\n",
    "from kafka import KeyedProducer, KafkaClient\n",
    "from datetime import datetime\n",
    "import time\n",
    "import json\n",
    "import random \n",
    "from elasticsearch import Elasticsearch\n",
    "\n",
    "boundaries_file = \"boundaries.csv\"\n",
    "last_uid = 0 \n",
    "kafka = KafkaClient('localhost:9092')\n",
    "producer = KeyedProducer(kafka)\n",
    "city = 'NYC'\n",
    "\n",
    "es = Elasticsearch(['ip-172-31-0-107', 'ip-172-31-0-100', ' ip-172-31-0-105', 'ip-172-31-0-106'], port=9200)\n",
    "\n"
   ]
  },
  {
   "cell_type": "code",
   "execution_count": 25,
   "metadata": {
    "collapsed": false
   },
   "outputs": [],
   "source": []
  },
  {
   "cell_type": "code",
   "execution_count": 14,
   "metadata": {
    "collapsed": false
   },
   "outputs": [],
   "source": [
    "q = {\"fields\" : [\"destination\"], \"query\":{ \"id\": 5} }"
   ]
  },
  {
   "cell_type": "code",
   "execution_count": 28,
   "metadata": {
    "collapsed": false
   },
   "outputs": [],
   "source": []
  },
  {
   "cell_type": "code",
   "execution_count": 29,
   "metadata": {
    "collapsed": false
   },
   "outputs": [
    {
     "data": {
      "text/plain": [
       "[40.78748930070537, -73.93026485004548]"
      ]
     },
     "execution_count": 29,
     "metadata": {},
     "output_type": "execute_result"
    }
   ],
   "source": []
  },
  {
   "cell_type": "code",
   "execution_count": null,
   "metadata": {
    "collapsed": true
   },
   "outputs": [],
   "source": []
  }
 ],
 "metadata": {
  "kernelspec": {
   "display_name": "Python 2",
   "language": "python",
   "name": "python2"
  },
  "language_info": {
   "codemirror_mode": {
    "name": "ipython",
    "version": 2
   },
   "file_extension": ".py",
   "mimetype": "text/x-python",
   "name": "python",
   "nbconvert_exporter": "python",
   "pygments_lexer": "ipython2",
   "version": "2.7.6"
  }
 },
 "nbformat": 4,
 "nbformat_minor": 0
}
