{
 "cells": [
  {
   "cell_type": "code",
   "execution_count": 364,
   "metadata": {
    "collapsed": false
   },
   "outputs": [],
   "source": [
    "from elasticsearch import Elasticsearch\n",
    "from datetime import datetime, timedelta\n",
    "\n",
    "import json\n",
    "cluster = ['ip-172-31-0-107', 'ip-172-31-0-100', 'ip-172-31-0-105', 'ip-172-31-0-106']\n",
    "es = Elasticsearch(cluster, port=9200)"
   ]
  },
  {
   "cell_type": "code",
   "execution_count": 365,
   "metadata": {
    "collapsed": true
   },
   "outputs": [],
   "source": [
    "def dispatch(ctime, location, driver, name, p1=None, p2=None):\n",
    "        #d = retrieveDriver(driver, es)\n",
    "        \n",
    "        p = scanPassenger(location, es)\n",
    "        \n",
    "        dDoc = {\"ctime\": ctime, \"location\": location, \"status\": \"idle\"}\n",
    "        if p:\n",
    "            doc = {\"status\": \"pickup\", \"driver\": driver, \"ctime\": ctime}\n",
    "            updatePassenger(p['id'], doc, es)\n",
    "\n",
    "            if p1: \n",
    "                dDoc['p2'] = p['id']\n",
    "            else:\n",
    "                dDoc['p1'] = p['id']\n",
    "                \n",
    "            dDoc['status'] = \"pickup\"\n",
    "            dDoc['destination'] = p['location']\n",
    "            dDoc['altdest1'] = p['id']\n",
    "            \n",
    "\n",
    "        updateDriver(driver, dDoc, es)\n",
    "        \n",
    "        bulk = (1, '{{doc: {}}}'.format(json.dumps(dDoc)))\n",
    "        return (bulk)"
   ]
  },
  {
   "cell_type": "code",
   "execution_count": null,
   "metadata": {
    "collapsed": true
   },
   "outputs": [],
   "source": [
    "      'driver': {'type': 'string', \"include_in_all\": \"false\"},\n",
    "        'destination': {'type': 'geo_point', 'lat_lon': 'true', \"include_in_all\": \"false\"},\n",
    "        'destinationid':{'type': 'string', \"include_in_all\": \"false\"},                \n",
    "        'altdest1': {'type': 'geo_point', 'lat_lon': 'true', \"include_in_all\": \"false\"},\n",
    "        'altdestid1':{'type': 'string', \"include_in_all\": \"false\"},                    \n",
    "        'altdest2': {'type': 'geo_point', 'lat_lon': 'true', \"include_in_all\": \"false\"},\n",
    "        'altdestid2':{'type': 'string', \"include_in_all\": \"false\"}, \n",
    "        'origin': {'type': 'geo_point', 'lat_lon': 'true', \"include_in_all\": \"false\"},\n",
    "        'path': {'type': 'string', \"include_in_all\": \"false\"}\n"
   ]
  },
  {
   "cell_type": "code",
   "execution_count": 507,
   "metadata": {
    "collapsed": false
   },
   "outputs": [],
   "source": [
    "window = 'now-2h'\n",
    "location =[40.7488,-73.9854]\n",
    "q =  { \"from\" : 0, \"size\" : 1,\n",
    "                 \"query\": {\n",
    "              \"filtered\": {\n",
    "                \"query\" : {\n",
    "                 \"term\" : {\"status\": \"wait\"}},\n",
    "                \"filter\": {\n",
    "                    \"geo_distance\": {\n",
    "                        \"distance\": '3km',\n",
    "                        \"distance_type\": \"plane\", \n",
    "                        \"location\": location }}\n",
    "            }},\n",
    "              \"sort\": [{\n",
    " \"_geo_distance\": {\n",
    "      \"location\": location,\n",
    "         \"order\": \"asc\",\n",
    "          \"unit\": \"km\", \n",
    " \"distance_type\": \"plane\" \n",
    "                  }}],\n",
    "         \n",
    "    }\n",
    "\n",
    "res = es.search(index='passenger', doc_type='rolling', body=q, ignore=[404, 400])\n",
    "\n"
   ]
  },
  {
   "cell_type": "code",
   "execution_count": 483,
   "metadata": {
    "collapsed": false
   },
   "outputs": [],
   "source": [
    "def retrieveDriver(driver, es):\n",
    "    _ = es.get(index='driver', doc_type='rolling', id=driver, ignore=[404, 400])\n",
    "    return _\n",
    "  "
   ]
  },
  {
   "cell_type": "code",
   "execution_count": 494,
   "metadata": {
    "collapsed": false
   },
   "outputs": [],
   "source": [
    "shoulds = []\n",
    "for i in [\"Empire Building\", \"Times Square\",\"Intrepid Sea, Air & Space Museum\", \"Metropolitan Opera House\", \"American Museum of Natural History\"]:\n",
    "    shoulds.append({'match': {'destinationid': i}})\n",
    "    shoulds.append({'match': {'altdest1id': i}}) \n",
    "    shoulds.append({'match': {'altdest2id': i}}) "
   ]
  },
  {
   "cell_type": "code",
   "execution_count": 508,
   "metadata": {
    "collapsed": false
   },
   "outputs": [
    {
     "data": {
      "text/plain": [
       "{u'_shards': {u'failed': 0, u'successful': 20, u'total': 20},\n",
       " u'hits': {u'hits': [{u'_id': u'18204',\n",
       "    u'_index': u'passenger',\n",
       "    u'_score': None,\n",
       "    u'_source': {u'altdest1': [40.7488, -73.9854],\n",
       "     u'altdest1id': u'Empire Building',\n",
       "     u'altdest2': [40.7588, -73.9851],\n",
       "     u'altdest2id': u'Times Square',\n",
       "     u'city': u'NYC',\n",
       "     u'ctime': u'2016-10-09T20:49:40.613952Z',\n",
       "     u'destination': [40.7644, -73.9993],\n",
       "     u'destinationid': u'Intrepid Sea, Air & Space Museum',\n",
       "     u'id': 18204,\n",
       "     u'location': [40.7514, -73.9896],\n",
       "     u'name': u'passenger_18204',\n",
       "     u'path': [[40.7514, -73.9896]],\n",
       "     u'status': u'wait'},\n",
       "    u'_type': u'rolling',\n",
       "    u'sort': [0.5498713962723231]}],\n",
       "  u'max_score': None,\n",
       "  u'total': 3192},\n",
       " u'timed_out': False,\n",
       " u'took': 60}"
      ]
     },
     "execution_count": 508,
     "metadata": {},
     "output_type": "execute_result"
    }
   ],
   "source": [
    "res"
   ]
  },
  {
   "cell_type": "code",
   "execution_count": null,
   "metadata": {
    "collapsed": true
   },
   "outputs": [],
   "source": []
  }
 ],
 "metadata": {
  "kernelspec": {
   "display_name": "Python 2",
   "language": "python",
   "name": "python2"
  },
  "language_info": {
   "codemirror_mode": {
    "name": "ipython",
    "version": 2
   },
   "file_extension": ".py",
   "mimetype": "text/x-python",
   "name": "python",
   "nbconvert_exporter": "python",
   "pygments_lexer": "ipython2",
   "version": "2.7.6"
  }
 },
 "nbformat": 4,
 "nbformat_minor": 0
}
