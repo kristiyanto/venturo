{
 "cells": [
  {
   "cell_type": "code",
   "execution_count": 1,
   "metadata": {
    "collapsed": false
   },
   "outputs": [],
   "source": [
    "from elasticsearch import Elasticsearch\n",
    "from datetime import datetime\n",
    "\n",
    "import json\n",
    "cluster = ['ip-172-31-0-107', 'ip-172-31-0-100', 'ip-172-31-0-105', 'ip-172-31-0-106']\n",
    "es = Elasticsearch(cluster, port=9200)"
   ]
  },
  {
   "cell_type": "code",
   "execution_count": 408,
   "metadata": {
    "collapsed": false
   },
   "outputs": [],
   "source": [
    "I = json.dumps({'status': 'idle', 'origin': None, 'altdest2id': None, 'altdest2': None, 'altdest1': None, 'id': 1, 'name': 'driver_1', 'p2': None, 'p1': None, 'ctime': '2016-09-30 23:36:03.753770', 'altdest1id': None, 'destination': None, 'destinationid': None, 'location': [40.7778, -73.9448]})\n",
    "I = json.loads(I)\n",
    "ctime = I['ctime']\n",
    "driver = I ['id']\n",
    "status = I ['status']\n",
    "location = I['location']\n",
    "name = I [\"name\"]\n",
    "\n",
    "try:\n",
    "    tmp = datetime.strptime(\"{}\".format(ctime), '%Y-%m-%d %H:%M:%S.%f')\n",
    "    ctime = tmp.strftime('%Y-%m-%dT%H:%M:%S.%fZ')\n",
    "except:\n",
    "    pass\n"
   ]
  },
  {
   "cell_type": "code",
   "execution_count": 409,
   "metadata": {
    "collapsed": false
   },
   "outputs": [
    {
     "name": "stdout",
     "output_type": "stream",
     "text": [
      "{\"ctime\": \"2016-09-30T23:36:03.753770Z\", \"location\": [40.7778, -73.9448]}\n"
     ]
    }
   ],
   "source": [
    "geo_query = { \"from\" : 0, \"size\" : 1,\n",
    "                      \"query\": {\"filtered\": { \"filter\": { \"geo_distance\": \\\n",
    "                          { \"location\": location,  \"distance_type\": \"plane\", \"distance\": \"100km\" }}, \"query\": { \"query_string\": { \"query\": \"wait\" }}}}}\n",
    "\n",
    "res = es.search(index='passenger', doc_type='rolling', body=geo_query, ignore=[404, 400])\n",
    "\n",
    "if len(res['hits']['hits'])>0: \n",
    "    passenger = res['hits']['hits'][0][\"_source\"]\n",
    "    doc = json.dumps({\"status\": \"pickup\", \"driver\": driver})\n",
    "    q = '{{\"doc\": {}}}'.format(doc)\n",
    "    res = es.update(index='passenger', doc_type='rolling', id=passenger['id'], body=q, ignore=[400,404])\n",
    "    doc = {\"status\": \"pickup\", \"ctime\": ctime, \\\n",
    "           \"location\": location, 'name': name, \\\n",
    "           'destination':  passenger['location'], \\\n",
    "           'destinationid': passenger['id']}\n",
    "    if not p1:\n",
    "        doc['p1'] = passenger['id']\n",
    "    elif not p2:\n",
    "        doc['p2'] = passenger['id']\n",
    "    else:\n",
    "        pass # It's full!\n",
    "    doc = json.dumps(doc)\n",
    "    q = '{{\"doc\": {}, \"doc_as_upsert\": \"true\"}}'.format(doc)\n",
    "    res = es.update(index='driver', doc_type='rolling', id=driver, \\\n",
    "                    body=q)\n",
    "    doc = {\"status\": \"idle\", \"ctime\": ctime, \"location\": location, 'name': name}\n",
    "    doc = json.dumps(doc)\n",
    "    q = '{{\"doc\": {}, \"doc_as_upsert\": \"true\"}}'.format(doc)\n",
    "    res = es.update(index='driver', doc_type='rolling', id=driver, \\\n",
    "                    body=q)\n",
    "    print doc\n",
    "else:\n",
    "    doc = {\"ctime\": ctime, \"location\": location}\n",
    "    doc = json.dumps(doc)\n",
    "    q = '{{\"doc\": {}}}'.format(doc)\n",
    "    res = es.update(index='driver', doc_type='rolling', id=driver, \\\n",
    "                        body=q)\n",
    "    print(doc)"
   ]
  },
  {
   "cell_type": "code",
   "execution_count": 16,
   "metadata": {
    "collapsed": false
   },
   "outputs": [],
   "source": [
    "window = 'now-2h'\n",
    "\n",
    "\n",
    "q = {'size': 0,\n",
    "    \"aggs\" : {\n",
    "                    \"filter\" : { \"term\": { \"status\": \"arrived\" } },\n",
    "\n",
    "        \"avg_ptime\" : { \"avg\" : { \"field\" : \"ptime\" } }\n",
    "    }\n",
    "}\n",
    "\n",
    "q = {\n",
    "  \"query\": {\n",
    "    \"exists\": {\"field\": {\"match\"}}\n",
    "  },\n",
    "  \"size\": 1,\n",
    "  \"sort\": [\n",
    "    {\n",
    "      \"_timestamp\": {\n",
    "        \"order\": \"desc\"\n",
    "      }\n",
    "    }\n",
    "  ]\n",
    "}\n",
    "\n",
    "q = {'size': 1,\n",
    "    \"query\" : {\n",
    "        \"constant_score\" : {\n",
    "            \"filter\" : {\n",
    "                \"exists\" : { \"field\" : \"match\" }\n",
    "            }\n",
    "        }\n",
    "    },\n",
    "    \"sort\": [\n",
    "    {\n",
    "      \"_timestamp\": {\n",
    "        \"order\": \"desc\"\n",
    "      }\n",
    "    }]\n",
    "}\n",
    "res = es.search(index='passenger', doc_type='rolling', body=q, ignore=[404, 400])\n"
   ]
  },
  {
   "cell_type": "code",
   "execution_count": 27,
   "metadata": {
    "collapsed": false
   },
   "outputs": [
    {
     "data": {
      "text/plain": [
       "{u'altdest1': [40.7488, -73.9854],\n",
       " u'altdest1id': u'Empire Building',\n",
       " u'altdest2': [40.7588, -73.9851],\n",
       " u'altdest2id': u'Times Square',\n",
       " u'ctime': u'2016-10-03T05:54:57.610952Z',\n",
       " u'destination': [40.7808, -73.974],\n",
       " u'destinationid': u'American Museum of Natural History',\n",
       " u'driver': 224,\n",
       " u'id': 333,\n",
       " u'location': [40.812, -73.9982],\n",
       " u'match': 2875,\n",
       " u'name': u'passenger_333',\n",
       " u'path': [[40.7615, -73.9473]],\n",
       " u'ptime': 421,\n",
       " u'status': u'ontrip'}"
      ]
     },
     "execution_count": 27,
     "metadata": {},
     "output_type": "execute_result"
    }
   ],
   "source": [
    "res['hits']['hits'][0]['_source']"
   ]
  },
  {
   "cell_type": "code",
   "execution_count": 6,
   "metadata": {
    "collapsed": false
   },
   "outputs": [
    {
     "data": {
      "text/plain": [
       "0.0"
      ]
     },
     "execution_count": 6,
     "metadata": {},
     "output_type": "execute_result"
    }
   ],
   "source": [
    "res['aggregations']['avg_wait']['avg_wait']['value']"
   ]
  },
  {
   "cell_type": "code",
   "execution_count": null,
   "metadata": {
    "collapsed": true
   },
   "outputs": [],
   "source": []
  }
 ],
 "metadata": {
  "kernelspec": {
   "display_name": "Python 2",
   "language": "python",
   "name": "python2"
  },
  "language_info": {
   "codemirror_mode": {
    "name": "ipython",
    "version": 2
   },
   "file_extension": ".py",
   "mimetype": "text/x-python",
   "name": "python",
   "nbconvert_exporter": "python",
   "pygments_lexer": "ipython2",
   "version": "2.7.6"
  }
 },
 "nbformat": 4,
 "nbformat_minor": 0
}
