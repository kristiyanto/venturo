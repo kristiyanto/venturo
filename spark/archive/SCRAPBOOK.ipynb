{
 "cells": [
  {
   "cell_type": "code",
   "execution_count": 364,
   "metadata": {
    "collapsed": false
   },
   "outputs": [],
   "source": [
    "from elasticsearch import Elasticsearch\n",
    "from datetime import datetime, timedelta\n",
    "\n",
    "import json\n",
    "cluster = ['ip-172-31-0-107', 'ip-172-31-0-100', 'ip-172-31-0-105', 'ip-172-31-0-106']\n",
    "es = Elasticsearch(cluster, port=9200)"
   ]
  },
  {
   "cell_type": "code",
   "execution_count": 365,
   "metadata": {
    "collapsed": true
   },
   "outputs": [],
   "source": [
    "def dispatch(ctime, location, driver, name, p1=None, p2=None):\n",
    "        #d = retrieveDriver(driver, es)\n",
    "        \n",
    "        p = scanPassenger(location, es)\n",
    "        \n",
    "        dDoc = {\"ctime\": ctime, \"location\": location, \"status\": \"idle\"}\n",
    "        if p:\n",
    "            doc = {\"status\": \"pickup\", \"driver\": driver, \"ctime\": ctime}\n",
    "            updatePassenger(p['id'], doc, es)\n",
    "\n",
    "            if p1: \n",
    "                dDoc['p2'] = p['id']\n",
    "            else:\n",
    "                dDoc['p1'] = p['id']\n",
    "                \n",
    "            dDoc['status'] = \"pickup\"\n",
    "            dDoc['destination'] = p['location']\n",
    "            dDoc['altdest1'] = p['id']\n",
    "            \n",
    "\n",
    "        updateDriver(driver, dDoc, es)\n",
    "        \n",
    "        bulk = (1, '{{doc: {}}}'.format(json.dumps(dDoc)))\n",
    "        return (bulk)"
   ]
  },
  {
   "cell_type": "code",
   "execution_count": null,
   "metadata": {
    "collapsed": true
   },
   "outputs": [],
   "source": [
    "      'driver': {'type': 'string', \"include_in_all\": \"false\"},\n",
    "        'destination': {'type': 'geo_point', 'lat_lon': 'true', \"include_in_all\": \"false\"},\n",
    "        'destinationid':{'type': 'string', \"include_in_all\": \"false\"},                \n",
    "        'altdest1': {'type': 'geo_point', 'lat_lon': 'true', \"include_in_all\": \"false\"},\n",
    "        'altdestid1':{'type': 'string', \"include_in_all\": \"false\"},                    \n",
    "        'altdest2': {'type': 'geo_point', 'lat_lon': 'true', \"include_in_all\": \"false\"},\n",
    "        'altdestid2':{'type': 'string', \"include_in_all\": \"false\"}, \n",
    "        'origin': {'type': 'geo_point', 'lat_lon': 'true', \"include_in_all\": \"false\"},\n",
    "        'path': {'type': 'string', \"include_in_all\": \"false\"}\n"
   ]
  },
  {
   "cell_type": "code",
   "execution_count": 472,
   "metadata": {
    "collapsed": false
   },
   "outputs": [],
   "source": [
    "window = 'now-2h'\n",
    "location =[40.7488,-73.9854]\n",
    "q = {\"query\" : {\n",
    "    \"bool\" : {\n",
    "        \"must\" : {\n",
    "            \"term\" : { \"status\" : \"arrived\" }\n",
    "        },\n",
    "        \"filter\": {\n",
    "            \"geo_distance\": {\n",
    "                \"distance\": '20km',\n",
    "                \"distance_type\": \"plane\", \n",
    "                \"location\": location }},\n",
    "    \n",
    "        \"should\" : [\n",
    "            {\n",
    "                \"terms\" : { \"destinationid\" : [\"Empire Building\", \"Times Square\",\"Intrepid Sea, Air & Space Museum\", \"Metropolitan Opera House\", \"American Museum of Natural History\"] }\n",
    "            },\n",
    "            {\n",
    "                \"terms\" : { \"altdest1id\" : [\"Times Square\",\"Intrepid Sea, Air & Space Museum\", \"Empire Building\", \"Metropolitan Opera House\"] }\n",
    "            },\n",
    "            {\n",
    "                \"terms\" : { \"altdest2id\" : [\"9/11 Memorial & Museum\", \"Intrepid Sea, Air & Space Museum\", \"Times Square\", \"Empire Building\", \"Metropolitan Opera House\"] }\n",
    "            }\n",
    "        ],\n",
    "        \"minimum_should_match\" : 0,\n",
    "        \"boost\" : 1.0\n",
    "    }\n",
    "}}\n",
    "\n",
    "res = es.search(index='passenger', doc_type='rolling', body=q, ignore=[404, 400])\n",
    "\n"
   ]
  },
  {
   "cell_type": "code",
   "execution_count": 479,
   "metadata": {
    "collapsed": false
   },
   "outputs": [],
   "source": [
    "def retrieveDriver(driver, es):\n",
    "    _ = es.get(index='driver', doc_type='rolling', id=driver, ignore=[404, 400])\n",
    "    return _\n",
    "  "
   ]
  },
  {
   "cell_type": "code",
   "execution_count": 480,
   "metadata": {
    "collapsed": false
   },
   "outputs": [],
   "source": [
    "res = retrieveDriver(690990909, es)"
   ]
  },
  {
   "cell_type": "code",
   "execution_count": 481,
   "metadata": {
    "collapsed": false
   },
   "outputs": [
    {
     "data": {
      "text/plain": [
       "{u'_id': u'690990909',\n",
       " u'_index': u'driver',\n",
       " u'_type': u'rolling',\n",
       " u'found': False}"
      ]
     },
     "execution_count": 481,
     "metadata": {},
     "output_type": "execute_result"
    }
   ],
   "source": [
    "res"
   ]
  },
  {
   "cell_type": "code",
   "execution_count": null,
   "metadata": {
    "collapsed": true
   },
   "outputs": [],
   "source": []
  }
 ],
 "metadata": {
  "kernelspec": {
   "display_name": "Python 2",
   "language": "python",
   "name": "python2"
  },
  "language_info": {
   "codemirror_mode": {
    "name": "ipython",
    "version": 2
   },
   "file_extension": ".py",
   "mimetype": "text/x-python",
   "name": "python",
   "nbconvert_exporter": "python",
   "pygments_lexer": "ipython2",
   "version": "2.7.6"
  }
 },
 "nbformat": 4,
 "nbformat_minor": 0
}
