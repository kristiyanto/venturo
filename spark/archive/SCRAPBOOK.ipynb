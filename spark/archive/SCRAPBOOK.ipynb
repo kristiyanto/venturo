{
 "cells": [
  {
   "cell_type": "code",
   "execution_count": 2,
   "metadata": {
    "collapsed": false
   },
   "outputs": [],
   "source": [
    "from elasticsearch import Elasticsearch\n",
    "from datetime import datetime, timedelta\n",
    "\n",
    "import json\n",
    "cluster = ['ip-172-31-0-107', 'ip-172-31-0-100', 'ip-172-31-0-105', 'ip-172-31-0-106']\n",
    "es = Elasticsearch(cluster, port=9200)"
   ]
  },
  {
   "cell_type": "code",
   "execution_count": 408,
   "metadata": {
    "collapsed": false
   },
   "outputs": [],
   "source": [
    "I = json.dumps({'status': 'idle', 'origin': None, 'altdest2id': None, 'altdest2': None, 'altdest1': None, 'id': 1, 'name': 'driver_1', 'p2': None, 'p1': None, 'ctime': '2016-09-30 23:36:03.753770', 'altdest1id': None, 'destination': None, 'destinationid': None, 'location': [40.7778, -73.9448]})\n",
    "I = json.loads(I)\n",
    "ctime = I['ctime']\n",
    "driver = I ['id']\n",
    "status = I ['status']\n",
    "location = I['location']\n",
    "name = I [\"name\"]\n",
    "\n",
    "try:\n",
    "    tmp = datetime.strptime(\"{}\".format(ctime), '%Y-%m-%d %H:%M:%S.%f')\n",
    "    ctime = tmp.strftime('%Y-%m-%dT%H:%M:%S.%fZ')\n",
    "except:\n",
    "    pass\n"
   ]
  },
  {
   "cell_type": "code",
   "execution_count": 409,
   "metadata": {
    "collapsed": false
   },
   "outputs": [
    {
     "name": "stdout",
     "output_type": "stream",
     "text": [
      "{\"ctime\": \"2016-09-30T23:36:03.753770Z\", \"location\": [40.7778, -73.9448]}\n"
     ]
    }
   ],
   "source": [
    "geo_query = { \"from\" : 0, \"size\" : 1,\n",
    "                      \"query\": {\"filtered\": { \"filter\": { \"geo_distance\": \\\n",
    "                          { \"location\": location,  \"distance_type\": \"plane\", \"distance\": \"100km\" }}, \"query\": { \"query_string\": { \"query\": \"wait\" }}}}}\n",
    "\n",
    "res = es.search(index='passenger', doc_type='rolling', body=geo_query, ignore=[404, 400])\n",
    "\n",
    "if len(res['hits']['hits'])>0: \n",
    "    passenger = res['hits']['hits'][0][\"_source\"]\n",
    "    doc = json.dumps({\"status\": \"pickup\", \"driver\": driver})\n",
    "    q = '{{\"doc\": {}}}'.format(doc)\n",
    "    res = es.update(index='passenger', doc_type='rolling', id=passenger['id'], body=q, ignore=[400,404])\n",
    "    doc = {\"status\": \"pickup\", \"ctime\": ctime, \\\n",
    "           \"location\": location, 'name': name, \\\n",
    "           'destination':  passenger['location'], \\\n",
    "           'destinationid': passenger['id']}\n",
    "    if not p1:\n",
    "        doc['p1'] = passenger['id']\n",
    "    elif not p2:\n",
    "        doc['p2'] = passenger['id']\n",
    "    else:\n",
    "        pass # It's full!\n",
    "    doc = json.dumps(doc)\n",
    "    q = '{{\"doc\": {}, \"doc_as_upsert\": \"true\"}}'.format(doc)\n",
    "    res = es.update(index='driver', doc_type='rolling', id=driver, \\\n",
    "                    body=q)\n",
    "    doc = {\"status\": \"idle\", \"ctime\": ctime, \"location\": location, 'name': name}\n",
    "    doc = json.dumps(doc)\n",
    "    q = '{{\"doc\": {}, \"doc_as_upsert\": \"true\"}}'.format(doc)\n",
    "    res = es.update(index='driver', doc_type='rolling', id=driver, \\\n",
    "                    body=q)\n",
    "    print doc\n",
    "else:\n",
    "    doc = {\"ctime\": ctime, \"location\": location}\n",
    "    doc = json.dumps(doc)\n",
    "    q = '{{\"doc\": {}}}'.format(doc)\n",
    "    res = es.update(index='driver', doc_type='rolling', id=driver, \\\n",
    "                        body=q)\n",
    "    print(doc)"
   ]
  },
  {
   "cell_type": "code",
   "execution_count": 37,
   "metadata": {
    "collapsed": false
   },
   "outputs": [],
   "source": [
    "last_uid = 1\n",
    "q = es.get(index='passenger', doc_type='rolling', id=last_uid, ignore=[404, 400])\n"
   ]
  },
  {
   "cell_type": "code",
   "execution_count": 59,
   "metadata": {
    "collapsed": false
   },
   "outputs": [],
   "source": [
    "q = { 'size': 1,\n",
    "    'query' : {\n",
    "            'term' : { 'status' : 'arrived' }\n",
    "    },\n",
    "    \"sort\": [\n",
    "    {\n",
    "      \"ctime\": {\n",
    "        \"order\": \"asc\"\n",
    "      }}]\n",
    "    }\n",
    "res = es.search(index='passenger', doc_type='rolling', body=q, ignore=[404, 400])\n",
    "\n",
    "\n",
    "if len(res['hits']['hits']) > 0:\n",
    "    res = res['hits']['hits'][0]['_source']\n",
    "    msg = [\"Driver {} just arrived to {}\".format(\\\n",
    "            res['id'], res['destinationid']), res['destination']]"
   ]
  },
  {
   "cell_type": "code",
   "execution_count": 34,
   "metadata": {
    "collapsed": false
   },
   "outputs": [],
   "source": [
    "geo_query = { \"from\" : 0, \"size\" : 1,\n",
    "                      \"query\": {\n",
    "                   \"filtered\": {\n",
    "                     \"query\" : {\n",
    "                      \"term\" : {\"status\": \"wait\"}},\n",
    "                     \"filter\": {\n",
    "                        \"geo_distance\": {\n",
    "                            \"distance\": '5km',\n",
    "                            \"distance_type\": \"plane\", \n",
    "                            \"location\": [444.8076, -87.7827] }}\n",
    "                }}}\n",
    "\n",
    "res = es.search(index='passenger', doc_type='rolling', body=geo_query, ignore=[404, 400])\n"
   ]
  },
  {
   "cell_type": "code",
   "execution_count": 35,
   "metadata": {
    "collapsed": false
   },
   "outputs": [
    {
     "ename": "KeyError",
     "evalue": "'hits'",
     "output_type": "error",
     "traceback": [
      "\u001b[1;31m---------------------------------------------------------------------------\u001b[0m",
      "\u001b[1;31mKeyError\u001b[0m                                  Traceback (most recent call last)",
      "\u001b[1;32m<ipython-input-35-0004314b9836>\u001b[0m in \u001b[0;36m<module>\u001b[1;34m()\u001b[0m\n\u001b[1;32m----> 1\u001b[1;33m \u001b[0mTrue\u001b[0m        \u001b[1;32mif\u001b[0m \u001b[0mres\u001b[0m\u001b[1;33m[\u001b[0m\u001b[1;34m'hits'\u001b[0m\u001b[1;33m]\u001b[0m \u001b[1;32melse\u001b[0m \u001b[0mFalse\u001b[0m\u001b[1;33m\u001b[0m\u001b[0m\n\u001b[0m",
      "\u001b[1;31mKeyError\u001b[0m: 'hits'"
     ]
    }
   ],
   "source": [
    "True        if res['hits'] else False"
   ]
  },
  {
   "cell_type": "code",
   "execution_count": 36,
   "metadata": {
    "collapsed": false
   },
   "outputs": [
    {
     "ename": "KeyError",
     "evalue": "'hits'",
     "output_type": "error",
     "traceback": [
      "\u001b[1;31m---------------------------------------------------------------------------\u001b[0m",
      "\u001b[1;31mKeyError\u001b[0m                                  Traceback (most recent call last)",
      "\u001b[1;32m<ipython-input-36-98d2996ad9c7>\u001b[0m in \u001b[0;36m<module>\u001b[1;34m()\u001b[0m\n\u001b[1;32m----> 1\u001b[1;33m \u001b[1;32mif\u001b[0m \u001b[0mlen\u001b[0m\u001b[1;33m(\u001b[0m\u001b[0mres\u001b[0m\u001b[1;33m[\u001b[0m\u001b[1;34m'hits'\u001b[0m\u001b[1;33m]\u001b[0m\u001b[1;33m[\u001b[0m\u001b[1;34m'hits'\u001b[0m\u001b[1;33m]\u001b[0m\u001b[1;33m)\u001b[0m \u001b[1;33m>\u001b[0m \u001b[1;36m0\u001b[0m\u001b[1;33m:\u001b[0m\u001b[1;33m\u001b[0m\u001b[0m\n\u001b[0m\u001b[0;32m      2\u001b[0m         \u001b[0mres\u001b[0m \u001b[1;33m=\u001b[0m \u001b[0mres\u001b[0m\u001b[1;33m[\u001b[0m\u001b[1;34m'hits'\u001b[0m\u001b[1;33m]\u001b[0m\u001b[1;33m[\u001b[0m\u001b[1;34m'hits'\u001b[0m\u001b[1;33m]\u001b[0m\u001b[1;33m[\u001b[0m\u001b[1;36m0\u001b[0m\u001b[1;33m]\u001b[0m\u001b[1;33m[\u001b[0m\u001b[1;34m'_source'\u001b[0m\u001b[1;33m]\u001b[0m\u001b[1;33m\u001b[0m\u001b[0m\n\u001b[0;32m      3\u001b[0m         \u001b[0mmsg\u001b[0m \u001b[1;33m=\u001b[0m \u001b[1;33m[\u001b[0m\u001b[1;34m\"Passenger {} just arrived to {}\"\u001b[0m\u001b[1;33m.\u001b[0m\u001b[0mformat\u001b[0m\u001b[1;33m(\u001b[0m            \u001b[1;33m[\u001b[0m\u001b[0mres\u001b[0m\u001b[1;33m[\u001b[0m\u001b[1;34m'id'\u001b[0m\u001b[1;33m]\u001b[0m\u001b[1;33m,\u001b[0m \u001b[0mres\u001b[0m\u001b[1;33m[\u001b[0m\u001b[1;34m'match'\u001b[0m\u001b[1;33m]\u001b[0m\u001b[1;33m]\u001b[0m\u001b[1;33m,\u001b[0m \u001b[0mres\u001b[0m\u001b[1;33m[\u001b[0m\u001b[1;34m'destinationid'\u001b[0m\u001b[1;33m]\u001b[0m\u001b[1;33m)\u001b[0m\u001b[1;33m,\u001b[0m \u001b[0mres\u001b[0m\u001b[1;33m[\u001b[0m\u001b[1;34m'location'\u001b[0m\u001b[1;33m]\u001b[0m\u001b[1;33m]\u001b[0m\u001b[1;33m\u001b[0m\u001b[0m\n",
      "\u001b[1;31mKeyError\u001b[0m: 'hits'"
     ]
    }
   ],
   "source": [
    "if len(res['hits']['hits']) > 0:\n",
    "        res = res['hits']['hits'][0]['_source']\n",
    "        msg = [\"Passenger {} just arrived to {}\".format(\\\n",
    "            [res['id'], res['match']], res['destinationid']), res['location']]"
   ]
  },
  {
   "cell_type": "code",
   "execution_count": 37,
   "metadata": {
    "collapsed": false
   },
   "outputs": [
    {
     "data": {
      "text/plain": [
       "{u'error': {u'failed_shards': [{u'index': u'passenger',\n",
       "    u'node': u'do-e9D6USH6zmxxtBFAYiw',\n",
       "    u'reason': {u'col': 130,\n",
       "     u'index': u'passenger',\n",
       "     u'line': 1,\n",
       "     u'reason': u'illegal longitude value [444.8076] for [geo_distance]',\n",
       "     u'type': u'query_parsing_exception'},\n",
       "    u'shard': 0}],\n",
       "  u'grouped': True,\n",
       "  u'phase': u'query',\n",
       "  u'reason': u'all shards failed',\n",
       "  u'root_cause': [{u'col': 130,\n",
       "    u'index': u'passenger',\n",
       "    u'line': 1,\n",
       "    u'reason': u'illegal longitude value [444.8076] for [geo_distance]',\n",
       "    u'type': u'query_parsing_exception'}],\n",
       "  u'type': u'search_phase_execution_exception'},\n",
       " u'status': 400}"
      ]
     },
     "execution_count": 37,
     "metadata": {},
     "output_type": "execute_result"
    }
   ],
   "source": [
    "res"
   ]
  },
  {
   "cell_type": "code",
   "execution_count": 5,
   "metadata": {
    "collapsed": false
   },
   "outputs": [
    {
     "data": {
      "text/plain": [
       "False"
      ]
     },
     "execution_count": 5,
     "metadata": {},
     "output_type": "execute_result"
    }
   ],
   "source": [
    "res"
   ]
  },
  {
   "cell_type": "code",
   "execution_count": null,
   "metadata": {
    "collapsed": true
   },
   "outputs": [],
   "source": []
  }
 ],
 "metadata": {
  "kernelspec": {
   "display_name": "Python 2",
   "language": "python",
   "name": "python2"
  },
  "language_info": {
   "codemirror_mode": {
    "name": "ipython",
    "version": 2
   },
   "file_extension": ".py",
   "mimetype": "text/x-python",
   "name": "python",
   "nbconvert_exporter": "python",
   "pygments_lexer": "ipython2",
   "version": "2.7.6"
  }
 },
 "nbformat": 4,
 "nbformat_minor": 0
}
