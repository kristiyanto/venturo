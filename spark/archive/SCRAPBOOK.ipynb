{
 "cells": [
  {
   "cell_type": "code",
   "execution_count": 2,
   "metadata": {
    "collapsed": false
   },
   "outputs": [],
   "source": [
    "from elasticsearch import Elasticsearch\n",
    "from datetime import datetime, timedelta\n",
    "\n",
    "import json\n",
    "cluster = ['ip-172-31-0-107', 'ip-172-31-0-100', 'ip-172-31-0-105', 'ip-172-31-0-106']\n",
    "es = Elasticsearch(cluster, port=9200)"
   ]
  },
  {
   "cell_type": "code",
   "execution_count": 408,
   "metadata": {
    "collapsed": false
   },
   "outputs": [],
   "source": [
    "I = json.dumps({'status': 'idle', 'origin': None, 'altdest2id': None, 'altdest2': None, 'altdest1': None, 'id': 1, 'name': 'driver_1', 'p2': None, 'p1': None, 'ctime': '2016-09-30 23:36:03.753770', 'altdest1id': None, 'destination': None, 'destinationid': None, 'location': [40.7778, -73.9448]})\n",
    "I = json.loads(I)\n",
    "ctime = I['ctime']\n",
    "driver = I ['id']\n",
    "status = I ['status']\n",
    "location = I['location']\n",
    "name = I [\"name\"]\n",
    "\n",
    "try:\n",
    "    tmp = datetime.strptime(\"{}\".format(ctime), '%Y-%m-%d %H:%M:%S.%f')\n",
    "    ctime = tmp.strftime('%Y-%m-%dT%H:%M:%S.%fZ')\n",
    "except:\n",
    "    pass\n"
   ]
  },
  {
   "cell_type": "code",
   "execution_count": 409,
   "metadata": {
    "collapsed": false
   },
   "outputs": [
    {
     "name": "stdout",
     "output_type": "stream",
     "text": [
      "{\"ctime\": \"2016-09-30T23:36:03.753770Z\", \"location\": [40.7778, -73.9448]}\n"
     ]
    }
   ],
   "source": [
    "geo_query = { \"from\" : 0, \"size\" : 1,\n",
    "                      \"query\": {\"filtered\": { \"filter\": { \"geo_distance\": \\\n",
    "                          { \"location\": location,  \"distance_type\": \"plane\", \"distance\": \"100km\" }}, \"query\": { \"query_string\": { \"query\": \"wait\" }}}}}\n",
    "\n",
    "res = es.search(index='passenger', doc_type='rolling', body=geo_query, ignore=[404, 400])\n",
    "\n",
    "if len(res['hits']['hits'])>0: \n",
    "    passenger = res['hits']['hits'][0][\"_source\"]\n",
    "    doc = json.dumps({\"status\": \"pickup\", \"driver\": driver})\n",
    "    q = '{{\"doc\": {}}}'.format(doc)\n",
    "    res = es.update(index='passenger', doc_type='rolling', id=passenger['id'], body=q, ignore=[400,404])\n",
    "    doc = {\"status\": \"pickup\", \"ctime\": ctime, \\\n",
    "           \"location\": location, 'name': name, \\\n",
    "           'destination':  passenger['location'], \\\n",
    "           'destinationid': passenger['id']}\n",
    "    if not p1:\n",
    "        doc['p1'] = passenger['id']\n",
    "    elif not p2:\n",
    "        doc['p2'] = passenger['id']\n",
    "    else:\n",
    "        pass # It's full!\n",
    "    doc = json.dumps(doc)\n",
    "    q = '{{\"doc\": {}, \"doc_as_upsert\": \"true\"}}'.format(doc)\n",
    "    res = es.update(index='driver', doc_type='rolling', id=driver, \\\n",
    "                    body=q)\n",
    "    doc = {\"status\": \"idle\", \"ctime\": ctime, \"location\": location, 'name': name}\n",
    "    doc = json.dumps(doc)\n",
    "    q = '{{\"doc\": {}, \"doc_as_upsert\": \"true\"}}'.format(doc)\n",
    "    res = es.update(index='driver', doc_type='rolling', id=driver, \\\n",
    "                    body=q)\n",
    "    print doc\n",
    "else:\n",
    "    doc = {\"ctime\": ctime, \"location\": location}\n",
    "    doc = json.dumps(doc)\n",
    "    q = '{{\"doc\": {}}}'.format(doc)\n",
    "    res = es.update(index='driver', doc_type='rolling', id=driver, \\\n",
    "                        body=q)\n",
    "    print(doc)"
   ]
  },
  {
   "cell_type": "code",
   "execution_count": 37,
   "metadata": {
    "collapsed": false
   },
   "outputs": [],
   "source": [
    "last_uid = 1\n",
    "q = es.get(index='passenger', doc_type='rolling', id=last_uid, ignore=[404, 400])\n"
   ]
  },
  {
   "cell_type": "code",
   "execution_count": 59,
   "metadata": {
    "collapsed": false
   },
   "outputs": [],
   "source": [
    "q = { 'size': 1,\n",
    "    'query' : {\n",
    "            'term' : { 'status' : 'arrived' }\n",
    "    },\n",
    "    \"sort\": [\n",
    "    {\n",
    "      \"ctime\": {\n",
    "        \"order\": \"asc\"\n",
    "      }}]\n",
    "    }\n",
    "res = es.search(index='passenger', doc_type='rolling', body=q, ignore=[404, 400])\n",
    "\n",
    "\n",
    "if len(res['hits']['hits']) > 0:\n",
    "    res = res['hits']['hits'][0]['_source']\n",
    "    msg = [\"Driver {} just arrived to {}\".format(\\\n",
    "            res['id'], res['destinationid']), res['destination']]"
   ]
  },
  {
   "cell_type": "code",
   "execution_count": 56,
   "metadata": {
    "collapsed": false
   },
   "outputs": [],
   "source": [
    "import csv\n",
    "import random\n",
    "import time\n",
    "import json\n",
    "\n",
    "from kafka import KafkaClient, KeyedProducer, SimpleConsumer\n",
    "from datetime import datetime, timedelta\n",
    "from decimal import *\n",
    "\n",
    "city = random.choice(['CHI','SFO','NYC'])\n"
   ]
  },
  {
   "cell_type": "code",
   "execution_count": 45,
   "metadata": {
    "collapsed": false
   },
   "outputs": [],
   "source": [
    "boundaries_file = \"../../kafka/boundaries.csv\"\n",
    "tourist_attractions = \"../../kafka/destinations.csv\"\n",
    "\n"
   ]
  },
  {
   "cell_type": "code",
   "execution_count": 127,
   "metadata": {
    "collapsed": false
   },
   "outputs": [],
   "source": [
    "# This is the script to populate driver's Data\n",
    "# {driver_id, time, curr_lat, curr_long, dest, load}\n",
    "total_drivers = 5 \n",
    "\n",
    "\n",
    "import time\n",
    "import json\n",
    "import random \n",
    "import csv\n",
    "import random\n",
    "\n",
    "from decimal import *\n",
    "from kafka import KeyedProducer, KafkaClient\n",
    "from datetime import datetime\n",
    "from elasticsearch import Elasticsearch\n",
    "\n",
    "\n",
    "'''\n",
    "        Set the geographical boundaries and other variables\n",
    "'''\n",
    "boundaries_file = \"../../kafka/boundaries.csv\"\n",
    "city = random.choice(['CHI','NYC'])\n",
    "\n",
    "getcontext().prec=6\n",
    "step_to_dest = random.randrange(1,2)\n",
    "\n",
    "cluster = ['ip-172-31-0-107', 'ip-172-31-0-100', \\\n",
    "                    'ip-172-31-0-105', 'ip-172-31-0-106']\n",
    "\n",
    "brokers = ','.join(['{}:9092'.format(i) for i in cluster])\n",
    "#brokers = 'localhost:9092'\n",
    "kafka = KafkaClient(brokers)\n",
    "producer = KeyedProducer(kafka)\n",
    "es = Elasticsearch(cluster, \\\n",
    "                   port=9200)\n",
    "\n",
    "\n",
    "\n",
    "def loadBoundaries(boundaries_file):\n",
    "\n",
    "    boundaries = {}\n",
    "    with open(boundaries_file, 'r') as f:\n",
    "        reader = csv.reader(f, delimiter = ',')\n",
    "        for row in reader:\n",
    "            city = row[0]\n",
    "            fence = row[1:] \n",
    "            boundaries.update({city:fence})\n",
    "    f.close()\n",
    "    return boundaries\n",
    "\n",
    "def simulateTrip(i, city):\n",
    "    bnd = bound[city]\n",
    "    q = es.get(index='driver', doc_type='rolling', id=i, ignore=[404, 400])\n",
    "    if q['found']:\n",
    "        if (q['_source']['status'] in ['ontrip', 'pickup']): \n",
    "            d = q['_source']['destination']\n",
    "            c = q['_source']['location']\n",
    "            la = Decimal(c[0]) + (((Decimal(d[0]) - Decimal(c[0]))/step_to_dest))\n",
    "            lo = Decimal(c[1]) + (((Decimal(d[1]) - Decimal(c[1]))/step_to_dest))\n",
    "            return [float(str(la)), float(str(lo))]\n",
    "        else:\n",
    "            return [round(random.uniform(float(bnd[0]), float(bnd[2])),4),\\\n",
    "                round(random.uniform(float(bnd[1]), float(bnd[3])),4)]\n",
    "\n",
    "    else:\n",
    "            return [round(random.uniform(float(bnd[0]), float(bnd[2])),4),\\\n",
    "                round(random.uniform(float(bnd[1]), float(bnd[3])),4)]\n",
    "    \n",
    "def generateDriver(city):\n",
    "    d_id = random.randint(1, total_drivers)\n",
    "    driver_mapping ={ \n",
    "            'city': city,\n",
    "            'name': 'driver_{}'.format(d_id),\n",
    "            'id': d_id,\n",
    "            'status': 'idle',\n",
    "            'location': simulateTrip(d_id, city),\n",
    "            'ctime': str(datetime.now()),\n",
    "            'p1': None,\n",
    "            'p2': None,\n",
    "            'destination': None,\n",
    "            'destinationid': None,\n",
    "            'altdest1': None,\n",
    "            'altdest1id': None,\n",
    "            'altdest2': None,\n",
    "            'altdest2id': None,\n",
    "            'origin': None,\n",
    "        }\n",
    "\n",
    "    q = es.get(index='driver', doc_type='rolling', id=d_id, ignore=[404, 400])\n",
    "    if q['found'] and (q['_source']['status'] in ['ontrip', 'pickup']): \n",
    "        driver_mapping['status'] = q['_source']['status']\n",
    "        driver_mapping['p1'] = q['_source']['p1']\n",
    "        driver_mapping['destination'] = q['_source']['destination']\n",
    "        driver_mapping['destinationid'] = q['_source']['destinationid']\n",
    "        driver_mapping['location'] = simulateTrip(d_id, city)\n",
    "        try:\n",
    "            driver_mapping['p2'] = q['_source']['p2']\n",
    "        except: \n",
    "            pass\n",
    "    if q['found'] and (q['_source']['status'] in ['arrived']):\n",
    "        t = datetime.strptime(\"{}\".format(driver_mapping['ctime']),'%Y-%m-%dT%H:%M:%S.%fZ')\n",
    "        if t < (datetime.today() - timedelta(hours = 3)):\n",
    "            doc = json.dumps(driver_mapping)\n",
    "            q = '{{\"doc\": {}}}'.format(doc)\n",
    "            es.delete(index='driver', doc_type='rolling', id=last_uid)\n",
    "    return(driver_mapping)\n",
    "\n",
    "bound = loadBoundaries(boundaries_file)\n"
   ]
  },
  {
   "cell_type": "code",
   "execution_count": 101,
   "metadata": {
    "collapsed": false
   },
   "outputs": [
    {
     "name": "stdout",
     "output_type": "stream",
     "text": [
      "{'status': 'idle', 'origin': None, 'altdest2id': None, 'altdest2': None, 'altdest1': None, 'id': 5, 'name': 'driver_5', 'p2': None, 'city': 'CHI', 'p1': None, 'ctime': '2016-10-05 09:31:32.603326', 'altdest1id': None, 'destination': None, 'destinationid': None, 'location': None}\n"
     ]
    }
   ],
   "source": [
    "city = random.choice(['CHI','NYC'])\n",
    "\n",
    "driver = generateDriver(city)\n",
    "u_json = json.dumps(driver).encode('utf-8')\n",
    "key = json.dumps(driver['id']).encode('utf-8')\n",
    "print('{}'.format(driver))\n",
    "\n",
    "\n"
   ]
  },
  {
   "cell_type": "code",
   "execution_count": 90,
   "metadata": {
    "collapsed": false
   },
   "outputs": [],
   "source": [
    "d_id = random.randint(1, total_drivers)\n",
    "driver_mapping ={ \n",
    "            'city': city,\n",
    "            'name': 'driver_{}'.format(d_id),\n",
    "            'id': d_id,\n",
    "            'status': 'idle',\n",
    "            'location': simulateTrip(d_id, city),\n",
    "            'ctime': str(datetime.now()),\n",
    "            'p1': None,\n",
    "            'p2': None,\n",
    "            'destination': None,\n",
    "            'destinationid': None,\n",
    "            'altdest1': None,\n",
    "            'altdest1id': None,\n",
    "            'altdest2': None,\n",
    "            'altdest2id': None,\n",
    "            'origin': None,\n",
    "        }\n",
    "\n",
    "   "
   ]
  },
  {
   "cell_type": "code",
   "execution_count": 92,
   "metadata": {
    "collapsed": false
   },
   "outputs": [],
   "source": [
    "q = es.get(index='driver', doc_type='rolling', id=d_id, ignore=[404, 400])\n",
    "if q['found'] and (q['_source']['status'] in ['ontrip', 'pickup']): \n",
    "        driver_mapping['status'] = q['_source']['status']\n",
    "        driver_mapping['p1'] = q['_source']['p1']\n",
    "        driver_mapping['destination'] = q['_source']['destination']\n",
    "        driver_mapping['destinationid'] = q['_source']['destinationid']\n",
    "        driver_mapping['location'] = simulateTrip(d_id, city)\n",
    " "
   ]
  },
  {
   "cell_type": "code",
   "execution_count": 95,
   "metadata": {
    "collapsed": false
   },
   "outputs": [],
   "source": [
    "q = es.get(index='driver', doc_type='rolling', id=id, ignore=[404, 400])\n"
   ]
  },
  {
   "cell_type": "code",
   "execution_count": 100,
   "metadata": {
    "collapsed": false
   },
   "outputs": [
    {
     "data": {
      "text/plain": [
       "[40.7169, -73.9911]"
      ]
     },
     "execution_count": 100,
     "metadata": {},
     "output_type": "execute_result"
    }
   ],
   "source": [
    "[round(random.uniform(float(bnd[0]), float(bnd[2])),4),\\\n",
    "                round(random.uniform(float(bnd[1]), float(bnd[3])),4)]\n",
    "    "
   ]
  },
  {
   "cell_type": "code",
   "execution_count": 108,
   "metadata": {
    "collapsed": false
   },
   "outputs": [
    {
     "name": "stdout",
     "output_type": "stream",
     "text": [
      "[41.9736, -87.7718]\n"
     ]
    }
   ],
   "source": [
    "bnd = bound[city]\n",
    "q = es.get(index='driver', doc_type='rolling', id=id, ignore=[404, 400])\n",
    "if q['found']:\n",
    "        if (q['_source']['status'] in ['ontrip', 'pickup']): \n",
    "            d = q['_source']['destination']\n",
    "            c = q['_source']['location']\n",
    "            la = Decimal(c[0]) + (((Decimal(d[0]) - Decimal(c[0]))/step_to_dest))\n",
    "            lo = Decimal(c[1]) + (((Decimal(d[1]) - Decimal(c[1]))/step_to_dest))\n",
    "            print [float(str(la)), float(str(lo))]\n",
    "else:\n",
    "        print [round(random.uniform(float(bnd[0]), float(bnd[2])),4),\\\n",
    "                round(random.uniform(float(bnd[1]), float(bnd[3])),4)]"
   ]
  },
  {
   "cell_type": "code",
   "execution_count": 136,
   "metadata": {
    "collapsed": false
   },
   "outputs": [],
   "source": [
    "city = random.choice(['CHI','NYC'])\n"
   ]
  },
  {
   "cell_type": "code",
   "execution_count": 137,
   "metadata": {
    "collapsed": false
   },
   "outputs": [
    {
     "data": {
      "text/plain": [
       "'CHI'"
      ]
     },
     "execution_count": 137,
     "metadata": {},
     "output_type": "execute_result"
    }
   ],
   "source": [
    "city"
   ]
  },
  {
   "cell_type": "code",
   "execution_count": null,
   "metadata": {
    "collapsed": true
   },
   "outputs": [],
   "source": []
  }
 ],
 "metadata": {
  "kernelspec": {
   "display_name": "Python 2",
   "language": "python",
   "name": "python2"
  },
  "language_info": {
   "codemirror_mode": {
    "name": "ipython",
    "version": 2
   },
   "file_extension": ".py",
   "mimetype": "text/x-python",
   "name": "python",
   "nbconvert_exporter": "python",
   "pygments_lexer": "ipython2",
   "version": "2.7.6"
  }
 },
 "nbformat": 4,
 "nbformat_minor": 0
}
