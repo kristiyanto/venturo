{
 "cells": [
  {
   "cell_type": "code",
   "execution_count": 524,
   "metadata": {
    "collapsed": false
   },
   "outputs": [],
   "source": [
    "from elasticsearch import Elasticsearch\n",
    "from datetime import datetime, timedelta\n",
    "\n",
    "import json\n",
    "cluster = ['ip-172-31-0-107', 'ip-172-31-0-100', 'ip-172-31-0-105', 'ip-172-31-0-106']\n",
    "es = Elasticsearch(cluster, port=9200)"
   ]
  },
  {
   "cell_type": "code",
   "execution_count": 365,
   "metadata": {
    "collapsed": true
   },
   "outputs": [],
   "source": [
    "def dispatch(ctime, location, driver, name, p1=None, p2=None):\n",
    "        #d = retrieveDriver(driver, es)\n",
    "        \n",
    "        p = scanPassenger(location, es)\n",
    "        \n",
    "        dDoc = {\"ctime\": ctime, \"location\": location, \"status\": \"idle\"}\n",
    "        if p:\n",
    "            doc = {\"status\": \"pickup\", \"driver\": driver, \"ctime\": ctime}\n",
    "            updatePassenger(p['id'], doc, es)\n",
    "\n",
    "            if p1: \n",
    "                dDoc['p2'] = p['id']\n",
    "            else:\n",
    "                dDoc['p1'] = p['id']\n",
    "                \n",
    "            dDoc['status'] = \"pickup\"\n",
    "            dDoc['destination'] = p['location']\n",
    "            dDoc['altdest1'] = p['id']\n",
    "            \n",
    "\n",
    "        updateDriver(driver, dDoc, es)\n",
    "        \n",
    "        bulk = (1, '{{doc: {}}}'.format(json.dumps(dDoc)))\n",
    "        return (bulk)"
   ]
  },
  {
   "cell_type": "code",
   "execution_count": null,
   "metadata": {
    "collapsed": true
   },
   "outputs": [],
   "source": [
    "      'driver': {'type': 'string', \"include_in_all\": \"false\"},\n",
    "        'destination': {'type': 'geo_point', 'lat_lon': 'true', \"include_in_all\": \"false\"},\n",
    "        'destinationid':{'type': 'string', \"include_in_all\": \"false\"},                \n",
    "        'altdest1': {'type': 'geo_point', 'lat_lon': 'true', \"include_in_all\": \"false\"},\n",
    "        'altdestid1':{'type': 'string', \"include_in_all\": \"false\"},                    \n",
    "        'altdest2': {'type': 'geo_point', 'lat_lon': 'true', \"include_in_all\": \"false\"},\n",
    "        'altdestid2':{'type': 'string', \"include_in_all\": \"false\"}, \n",
    "        'origin': {'type': 'geo_point', 'lat_lon': 'true', \"include_in_all\": \"false\"},\n",
    "        'path': {'type': 'string', \"include_in_all\": \"false\"}\n"
   ]
  },
  {
   "cell_type": "code",
   "execution_count": 540,
   "metadata": {
    "collapsed": false
   },
   "outputs": [],
   "source": [
    "window = 'now-2h'\n",
    "location =[40.7589, -73.985]\n",
    "\n",
    "def retrievePassenger(pID, es):\n",
    "    p = es.get(index='passenger', doc_type='rolling', id=pID, \\\n",
    "                   ignore=[404, 400])\n",
    "    return p['_source'] if p['found'] else False\n",
    "\n",
    "\n",
    "p = retrievePassenger(44, es)\n",
    "if p: \n",
    "    shoulds = []\n",
    "    for i in [p['destinationid'],p['altdest1id'],p['altdest1id']]:\n",
    "        shoulds.append({'match': {'destinationid': i}})\n",
    "        shoulds.append({'match': {'altdest1id': i}}) \n",
    "        shoulds.append({'match': {'altdest1id': i}}) \n",
    "\n",
    "    destinations = [p['destinationid'], p['altdest1id'], p['altdest2id']]\n",
    "    geo_query = {\"size\": 1, \n",
    "         \"query\" : {\n",
    "          \"bool\" : {\n",
    "          \"must\" : { \"term\" : { \"status\" : \"arrived\" }},\n",
    "      \"must_not\" : { \"term\" : { \"id\" : p['id'] }},\n",
    "\n",
    "         \"filter\": {\n",
    "        \"geo_distance\": {\n",
    "            \"distance\": '3km',\n",
    "       \"distance_type\": \"plane\", \n",
    "            \"location\": location }},\n",
    "\n",
    "        \"should\" : shoulds,\n",
    "      \"minimum_should_match\" : 1,\n",
    "                     \"boost\" : 1.0\n",
    "            }},\n",
    "           \"sort\": [{\n",
    "  \"_geo_distance\": {\n",
    "       \"location\": location,\n",
    "          \"order\": \"asc\",\n",
    "           \"unit\": \"km\", \n",
    "  \"distance_type\": \"plane\" \n",
    "          }}],\n",
    "                }\n",
    "    \n",
    "res = es.search(index='passenger', doc_type='rolling', body=geo_query, ignore=[404, 400])\n",
    "\n"
   ]
  },
  {
   "cell_type": "code",
   "execution_count": 542,
   "metadata": {
    "collapsed": false
   },
   "outputs": [
    {
     "name": "stdout",
     "output_type": "stream",
     "text": [
      "{u'status': u'arrived', u'city': u'NYC', u'altdest2id': u'9/11 Memorial & Museum', u'altdest2': [40.7114, -74.0125], u'altdest1': [40.7794, -73.9632], u'altdest1id': u'The Metropolitan Museum of Art', u'destination': [40.7588, -73.9851], u'driver': 25, u'ctime': u'2016-10-11T05:31:24.189421Z', u'destinationid': u'Times Square', u'location': [40.7589, -73.985], u'ptime': 0, u'path': [[40.7887, -73.984], [40.8078, -73.9686], [40.7833, -73.9723], [40.7988, -73.9742], [40.7887, -73.984], [40.7887, -73.984], [40.7588, -73.9851], [40.7588, -73.9851], [40.7588, -73.9851]], u'id': 77, u'name': u'passenger_77'}\n"
     ]
    }
   ],
   "source": [
    "print res['hits']['hits'][0][\"_source\"] if res['hits']['hits'] else False\n"
   ]
  },
  {
   "cell_type": "code",
   "execution_count": 480,
   "metadata": {
    "collapsed": false
   },
   "outputs": [],
   "source": [
    "res = retrieveDriver(690990909, es)"
   ]
  },
  {
   "cell_type": "code",
   "execution_count": 481,
   "metadata": {
    "collapsed": false
   },
   "outputs": [
    {
     "data": {
      "text/plain": [
       "{u'_id': u'690990909',\n",
       " u'_index': u'driver',\n",
       " u'_type': u'rolling',\n",
       " u'found': False}"
      ]
     },
     "execution_count": 481,
     "metadata": {},
     "output_type": "execute_result"
    }
   ],
   "source": [
    "res"
   ]
  },
  {
   "cell_type": "code",
   "execution_count": null,
   "metadata": {
    "collapsed": true
   },
   "outputs": [],
   "source": []
  }
 ],
 "metadata": {
  "kernelspec": {
   "display_name": "Python 2",
   "language": "python",
   "name": "python2"
  },
  "language_info": {
   "codemirror_mode": {
    "name": "ipython",
    "version": 2
   },
   "file_extension": ".py",
   "mimetype": "text/x-python",
   "name": "python",
   "nbconvert_exporter": "python",
   "pygments_lexer": "ipython2",
   "version": "2.7.6"
  }
 },
 "nbformat": 4,
 "nbformat_minor": 0
}
