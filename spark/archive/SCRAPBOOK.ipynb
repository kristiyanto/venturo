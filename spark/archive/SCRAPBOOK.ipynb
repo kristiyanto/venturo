{
 "cells": [
  {
   "cell_type": "code",
   "execution_count": 553,
   "metadata": {
    "collapsed": false
   },
   "outputs": [],
   "source": [
    "from elasticsearch import Elasticsearch\n",
    "from datetime import datetime, timedelta\n",
    "\n",
    "import json\n",
    "cluster = ['ip-172-31-0-107', 'ip-172-31-0-100', 'ip-172-31-0-105', 'ip-172-31-0-106']\n",
    "es = Elasticsearch(cluster, port=9200)"
   ]
  },
  {
   "cell_type": "code",
   "execution_count": 365,
   "metadata": {
    "collapsed": true
   },
   "outputs": [],
   "source": [
    "def dispatch(ctime, location, driver, name, p1=None, p2=None):\n",
    "        #d = retrieveDriver(driver, es)\n",
    "        \n",
    "        p = scanPassenger(location, es)\n",
    "        \n",
    "        dDoc = {\"ctime\": ctime, \"location\": location, \"status\": \"idle\"}\n",
    "        if p:\n",
    "            doc = {\"status\": \"pickup\", \"driver\": driver, \"ctime\": ctime}\n",
    "            updatePassenger(p['id'], doc, es)\n",
    "\n",
    "            if p1: \n",
    "                dDoc['p2'] = p['id']\n",
    "            else:\n",
    "                dDoc['p1'] = p['id']\n",
    "                \n",
    "            dDoc['status'] = \"pickup\"\n",
    "            dDoc['destination'] = p['location']\n",
    "            dDoc['altdest1'] = p['id']\n",
    "            \n",
    "\n",
    "        updateDriver(driver, dDoc, es)\n",
    "        \n",
    "        bulk = (1, '{{doc: {}}}'.format(json.dumps(dDoc)))\n",
    "        return (bulk)"
   ]
  },
  {
   "cell_type": "code",
   "execution_count": null,
   "metadata": {
    "collapsed": true
   },
   "outputs": [],
   "source": [
    "      'driver': {'type': 'string', \"include_in_all\": \"false\"},\n",
    "        'destination': {'type': 'geo_point', 'lat_lon': 'true', \"include_in_all\": \"false\"},\n",
    "        'destinationid':{'type': 'string', \"include_in_all\": \"false\"},                \n",
    "        'altdest1': {'type': 'geo_point', 'lat_lon': 'true', \"include_in_all\": \"false\"},\n",
    "        'altdestid1':{'type': 'string', \"include_in_all\": \"false\"},                    \n",
    "        'altdest2': {'type': 'geo_point', 'lat_lon': 'true', \"include_in_all\": \"false\"},\n",
    "        'altdestid2':{'type': 'string', \"include_in_all\": \"false\"}, \n",
    "        'origin': {'type': 'geo_point', 'lat_lon': 'true', \"include_in_all\": \"false\"},\n",
    "        'path': {'type': 'string', \"include_in_all\": \"false\"}\n"
   ]
  },
  {
   "cell_type": "code",
   "execution_count": 540,
   "metadata": {
    "collapsed": false
   },
   "outputs": [],
   "source": [
    "window = 'now-2h'\n",
    "location =[40.7589, -73.985]\n",
    "\n",
    "def retrievePassenger(pID, es):\n",
    "    p = es.get(index='passenger', doc_type='rolling', id=pID, \\\n",
    "                   ignore=[404, 400])\n",
    "    return p['_source'] if p['found'] else False\n",
    "\n",
    "\n",
    "p = retrievePassenger(44, es)\n",
    "if p: \n",
    "    shoulds = []\n",
    "    for i in [p['destinationid'],p['altdest1id'],p['altdest1id']]:\n",
    "        shoulds.append({'match': {'destinationid': i}})\n",
    "        shoulds.append({'match': {'altdest1id': i}}) \n",
    "        shoulds.append({'match': {'altdest1id': i}}) \n",
    "\n",
    "    destinations = [p['destinationid'], p['altdest1id'], p['altdest2id']]\n",
    "    geo_query = {\"size\": 1, \n",
    "         \"query\" : {\n",
    "          \"bool\" : {\n",
    "          \"must\" : { \"term\" : { \"status\" : \"arrived\" }},\n",
    "      \"must_not\" : { \"term\" : { \"id\" : p['id'] }},\n",
    "\n",
    "         \"filter\": {\n",
    "        \"geo_distance\": {\n",
    "            \"distance\": '3km',\n",
    "       \"distance_type\": \"plane\", \n",
    "            \"location\": location }},\n",
    "\n",
    "        \"should\" : shoulds,\n",
    "      \"minimum_should_match\" : 1,\n",
    "                     \"boost\" : 1.0\n",
    "            }},\n",
    "           \"sort\": [{\n",
    "  \"_geo_distance\": {\n",
    "       \"location\": location,\n",
    "          \"order\": \"asc\",\n",
    "           \"unit\": \"km\", \n",
    "  \"distance_type\": \"plane\" \n",
    "          }}],\n",
    "                }\n",
    "    \n",
    "res = es.search(index='passenger', doc_type='rolling', body=geo_query, ignore=[404, 400])\n",
    "\n"
   ]
  },
  {
   "cell_type": "code",
   "execution_count": 542,
   "metadata": {
    "collapsed": false
   },
   "outputs": [
    {
     "name": "stdout",
     "output_type": "stream",
     "text": [
      "{u'status': u'arrived', u'city': u'NYC', u'altdest2id': u'9/11 Memorial & Museum', u'altdest2': [40.7114, -74.0125], u'altdest1': [40.7794, -73.9632], u'altdest1id': u'The Metropolitan Museum of Art', u'destination': [40.7588, -73.9851], u'driver': 25, u'ctime': u'2016-10-11T05:31:24.189421Z', u'destinationid': u'Times Square', u'location': [40.7589, -73.985], u'ptime': 0, u'path': [[40.7887, -73.984], [40.8078, -73.9686], [40.7833, -73.9723], [40.7988, -73.9742], [40.7887, -73.984], [40.7887, -73.984], [40.7588, -73.9851], [40.7588, -73.9851], [40.7588, -73.9851]], u'id': 77, u'name': u'passenger_77'}\n"
     ]
    }
   ],
   "source": [
    "print res['hits']['hits'][0][\"_source\"] if res['hits']['hits'] else False\n"
   ]
  },
  {
   "cell_type": "code",
   "execution_count": 554,
   "metadata": {
    "collapsed": false
   },
   "outputs": [],
   "source": [
    "def retrievePassenger(pID, es):\n",
    "    p = es.get(index='passenger', doc_type='rolling', id=pID, \\\n",
    "                   ignore=[404, 400])\n",
    "    return p['_source'] if p['found'] else False\n"
   ]
  },
  {
   "cell_type": "code",
   "execution_count": 713,
   "metadata": {
    "collapsed": false
   },
   "outputs": [],
   "source": [
    "p1 = retrievePassenger(5, es)\n",
    "p2 = retrievePassenger(100, es)"
   ]
  },
  {
   "cell_type": "code",
   "execution_count": 723,
   "metadata": {
    "collapsed": false
   },
   "outputs": [],
   "source": [
    "p1Dest = [(p1['destination'], p1['destinationid']), (p1['altdest1'], p1['altdest1id']), \\\n",
    "              (p1['altdest2'], p1['altdest2id'])]\n",
    "p2Dest = [(p2['destination'], p2['destinationid']), (p2['altdest1'], p2['altdest1id']), \\\n",
    "              (p2['altdest2'], p2['altdest2id'])]\n",
    "\n",
    "dest1 = set([p1['destinationid'], p1['altdest1id'], p1['altdest2id']])  \n",
    "dest2 = set([p2['destinationid'], p2['altdest1id'], p2['altdest2id']])\n",
    "\n",
    "def distance(dest, location): \n",
    "    return vincenty(Point(dest), Point(location)).miles\n",
    "\n",
    "far = float(\"inf\")\n",
    "dest = False"
   ]
  },
  {
   "cell_type": "code",
   "execution_count": 724,
   "metadata": {
    "collapsed": false
   },
   "outputs": [],
   "source": [
    "\n",
    "for i in xrange(len(p1Dest)):\n",
    "    if (p1Dest[i][1] in list((dest1 & dest2))) and distance(p1Dest[i][0], location) < far:\n",
    "        far = distance(p1Dest[i][0], location)\n",
    "        dest = p1Dest[i]"
   ]
  },
  {
   "cell_type": "code",
   "execution_count": 725,
   "metadata": {
    "collapsed": false
   },
   "outputs": [
    {
     "data": {
      "text/plain": [
       "([41.8789, -87.6359], u'Skydeck Chicago')"
      ]
     },
     "execution_count": 725,
     "metadata": {},
     "output_type": "execute_result"
    }
   ],
   "source": [
    "dest"
   ]
  },
  {
   "cell_type": "code",
   "execution_count": 688,
   "metadata": {
    "collapsed": true
   },
   "outputs": [],
   "source": [
    "def distance(dest, location): \n",
    "        return vincenty(Point(dest), Point(location)).miles\n"
   ]
  },
  {
   "cell_type": "code",
   "execution_count": 727,
   "metadata": {
    "collapsed": false
   },
   "outputs": [
    {
     "ename": "KeyError",
     "evalue": "-1",
     "output_type": "error",
     "traceback": [
      "\u001b[1;31m---------------------------------------------------------------------------\u001b[0m",
      "\u001b[1;31mKeyError\u001b[0m                                  Traceback (most recent call last)",
      "\u001b[1;32m<ipython-input-727-d0a0eb47d316>\u001b[0m in \u001b[0;36m<module>\u001b[1;34m()\u001b[0m\n\u001b[1;32m----> 1\u001b[1;33m \u001b[0mdistance\u001b[0m \u001b[1;33m=\u001b[0m \u001b[0mdistance\u001b[0m\u001b[1;33m(\u001b[0m\u001b[0mlocation\u001b[0m\u001b[1;33m,\u001b[0m \u001b[0mres\u001b[0m\u001b[1;33m[\u001b[0m\u001b[1;33m-\u001b[0m\u001b[1;36m1\u001b[0m\u001b[1;33m]\u001b[0m\u001b[1;33m)\u001b[0m \u001b[1;33m+\u001b[0m \u001b[0mint\u001b[0m\u001b[1;33m(\u001b[0m\u001b[0mp1\u001b[0m\u001b[1;33m[\u001b[0m\u001b[1;34m'_source'\u001b[0m\u001b[1;33m]\u001b[0m\u001b[1;33m[\u001b[0m\u001b[1;34m'trip_distance'\u001b[0m\u001b[1;33m]\u001b[0m\u001b[1;33m)\u001b[0m\u001b[1;33m\u001b[0m\u001b[0m\n\u001b[0m",
      "\u001b[1;31mKeyError\u001b[0m: -1"
     ]
    }
   ],
   "source": [
    "distance = distance(location, res[-1]) + int(p1['_source']['trip_distance'])"
   ]
  },
  {
   "cell_type": "code",
   "execution_count": 728,
   "metadata": {
    "collapsed": false
   },
   "outputs": [
    {
     "data": {
      "text/plain": [
       "{u'_shards': {u'failed': 0, u'successful': 20, u'total': 20},\n",
       " u'hits': {u'hits': [{u'_id': u'77',\n",
       "    u'_index': u'passenger',\n",
       "    u'_score': None,\n",
       "    u'_source': {u'altdest1': [40.7794, -73.9632],\n",
       "     u'altdest1id': u'The Metropolitan Museum of Art',\n",
       "     u'altdest2': [40.7114, -74.0125],\n",
       "     u'altdest2id': u'9/11 Memorial & Museum',\n",
       "     u'city': u'NYC',\n",
       "     u'ctime': u'2016-10-11T05:31:24.189421Z',\n",
       "     u'destination': [40.7588, -73.9851],\n",
       "     u'destinationid': u'Times Square',\n",
       "     u'driver': 25,\n",
       "     u'id': 77,\n",
       "     u'location': [40.7589, -73.985],\n",
       "     u'name': u'passenger_77',\n",
       "     u'path': [[40.7887, -73.984],\n",
       "      [40.8078, -73.9686],\n",
       "      [40.7833, -73.9723],\n",
       "      [40.7988, -73.9742],\n",
       "      [40.7887, -73.984],\n",
       "      [40.7887, -73.984],\n",
       "      [40.7588, -73.9851],\n",
       "      [40.7588, -73.9851],\n",
       "      [40.7588, -73.9851]],\n",
       "     u'ptime': 0,\n",
       "     u'status': u'arrived'},\n",
       "    u'_type': u'rolling',\n",
       "    u'sort': [3.4199593266745287e-06]}],\n",
       "  u'max_score': None,\n",
       "  u'total': 8},\n",
       " u'timed_out': False,\n",
       " u'took': 6}"
      ]
     },
     "execution_count": 728,
     "metadata": {},
     "output_type": "execute_result"
    }
   ],
   "source": [
    "res"
   ]
  },
  {
   "cell_type": "code",
   "execution_count": 733,
   "metadata": {
    "collapsed": false
   },
   "outputs": [],
   "source": [
    "res = es.get(index='passenger', doc_type='rolling', id=3, ignore=[400,404])\n"
   ]
  },
  {
   "cell_type": "code",
   "execution_count": 781,
   "metadata": {
    "collapsed": false
   },
   "outputs": [
    {
     "ename": "KeyError",
     "evalue": "'aggregations'",
     "output_type": "error",
     "traceback": [
      "\u001b[1;31m---------------------------------------------------------------------------\u001b[0m",
      "\u001b[1;31mKeyError\u001b[0m                                  Traceback (most recent call last)",
      "\u001b[1;32m<ipython-input-781-c35b99fc2e81>\u001b[0m in \u001b[0;36m<module>\u001b[1;34m()\u001b[0m\n\u001b[0;32m      9\u001b[0m \u001b[1;33m\u001b[0m\u001b[0m\n\u001b[0;32m     10\u001b[0m \u001b[0mres\u001b[0m \u001b[1;33m=\u001b[0m \u001b[0mes\u001b[0m\u001b[1;33m.\u001b[0m\u001b[0msearch\u001b[0m\u001b[1;33m(\u001b[0m\u001b[0mindex\u001b[0m\u001b[1;33m=\u001b[0m\u001b[1;34m'passenger'\u001b[0m\u001b[1;33m,\u001b[0m \u001b[0mdoc_type\u001b[0m\u001b[1;33m=\u001b[0m\u001b[1;34m'rolling'\u001b[0m\u001b[1;33m,\u001b[0m \u001b[0mbody\u001b[0m\u001b[1;33m=\u001b[0m\u001b[0mq\u001b[0m\u001b[1;33m,\u001b[0m \u001b[0mignore\u001b[0m\u001b[1;33m=\u001b[0m\u001b[1;33m[\u001b[0m\u001b[1;36m404\u001b[0m\u001b[1;33m,\u001b[0m \u001b[1;36m400\u001b[0m\u001b[1;33m]\u001b[0m\u001b[1;33m)\u001b[0m\u001b[1;33m\u001b[0m\u001b[0m\n\u001b[1;32m---> 11\u001b[1;33m \u001b[1;32mif\u001b[0m \u001b[0mres\u001b[0m\u001b[1;33m[\u001b[0m\u001b[1;34m'aggregations'\u001b[0m\u001b[1;33m]\u001b[0m\u001b[1;33m[\u001b[0m\u001b[1;34m'avg_wait'\u001b[0m\u001b[1;33m]\u001b[0m\u001b[1;33m[\u001b[0m\u001b[1;34m'avg_wait'\u001b[0m\u001b[1;33m]\u001b[0m\u001b[1;33m[\u001b[0m\u001b[1;34m'value'\u001b[0m\u001b[1;33m]\u001b[0m\u001b[1;33m:\u001b[0m\u001b[1;33m\u001b[0m\u001b[0m\n\u001b[0m\u001b[0;32m     12\u001b[0m     \u001b[0mres\u001b[0m \u001b[1;33m=\u001b[0m \u001b[0mround\u001b[0m\u001b[1;33m(\u001b[0m\u001b[0mfloat\u001b[0m\u001b[1;33m(\u001b[0m\u001b[0mres\u001b[0m\u001b[1;33m[\u001b[0m\u001b[1;34m'aggregations'\u001b[0m\u001b[1;33m]\u001b[0m\u001b[1;33m[\u001b[0m\u001b[1;34m'avg_wait'\u001b[0m\u001b[1;33m]\u001b[0m\u001b[1;33m[\u001b[0m\u001b[1;34m'avg_wait'\u001b[0m\u001b[1;33m]\u001b[0m\u001b[1;33m[\u001b[0m\u001b[1;34m'value'\u001b[0m\u001b[1;33m]\u001b[0m\u001b[1;33m)\u001b[0m\u001b[1;33m,\u001b[0m \u001b[1;36m2\u001b[0m\u001b[1;33m)\u001b[0m\u001b[1;33m\u001b[0m\u001b[0m\n\u001b[0;32m     13\u001b[0m \u001b[1;32melse\u001b[0m\u001b[1;33m:\u001b[0m\u001b[1;33m\u001b[0m\u001b[0m\n",
      "\u001b[1;31mKeyError\u001b[0m: 'aggregations'"
     ]
    }
   ],
   "source": [
    "q = { 'size': 0,\n",
    "    \"aggs\" : {\n",
    "        \"avg_wait\" : { \"filter\" : {  \"range\" : { \"ctime\" : { \"gt\" : window,}}},\n",
    "        \"aggs\" : {\n",
    "            \"avg_wait\" : { \"avg\" : { \"field\" : \"trip_distance\" } }\n",
    "            }}}}\n",
    "\n",
    "res = es.search(index='passenger', doc_type='rolling', body=q, ignore=[404, 400])\n",
    "if res['aggregations']['avg_wait']['avg_wait']['value']:\n",
    "    res = round(float(res['aggregations']['avg_wait']['avg_wait']['value']), 2)\n",
    "else:\n",
    "    res = \"N/A\"\n",
    "print res\n"
   ]
  },
  {
   "cell_type": "code",
   "execution_count": 763,
   "metadata": {
    "collapsed": false
   },
   "outputs": [],
   "source": [
    "if res['aggregations']['avg_distance']['avg_distance']['value']:\n",
    "        res = round(float(res['aggregations']['avg_distance']['avg_distance']['value']), 2)\n",
    "else:\n",
    "        res = 0"
   ]
  },
  {
   "cell_type": "code",
   "execution_count": 831,
   "metadata": {
    "collapsed": false
   },
   "outputs": [
    {
     "name": "stdout",
     "output_type": "stream",
     "text": [
      "[{\"sort\": [1476253264012], \"_type\": \"rolling\", \"_index\": \"passenger\", \"_score\": null, \"fields\": {\"trip_distance\": [4.932352479796495], \"id\": [5375], \"ptime\": [0]}, \"_id\": \"5375\"}, {\"sort\": [1476253262955], \"_type\": \"rolling\", \"_index\": \"passenger\", \"_score\": null, \"fields\": {\"trip_distance\": [2.7598842053010557], \"id\": [12127], \"ptime\": [0]}, \"_id\": \"12127\"}, {\"sort\": [1476253262625], \"_type\": \"rolling\", \"_index\": \"passenger\", \"_score\": null, \"fields\": {\"trip_distance\": [14.69976079428252], \"id\": [10424], \"ptime\": [0]}, \"_id\": \"10424\"}, {\"sort\": [1476253261561], \"_type\": \"rolling\", \"_index\": \"passenger\", \"_score\": null, \"fields\": {\"trip_distance\": [8.909810214656174], \"id\": [7117], \"ptime\": [0]}, \"_id\": \"7117\"}, {\"sort\": [1476253261042], \"_type\": \"rolling\", \"_index\": \"passenger\", \"_score\": null, \"fields\": {\"trip_distance\": [13.674180280802325], \"id\": [13512], \"ptime\": [0]}, \"_id\": \"13512\"}]\n"
     ]
    }
   ],
   "source": [
    "q = {'size': 5,  \"fields\" : [\"id\", \"ptime\", \"trip_distance\"],\n",
    "        'query': { 'term': {'status': 'arrived'} },\n",
    "        'filter': {'range': { 'ctime': { 'gt': window }} \n",
    "            },\n",
    "         \"sort\": [{\"ctime\": {\"order\": \"desc\"}}]\n",
    "        }\n",
    "res = es.search(index='passenger', doc_type='rolling', body=q, ignore=[404, 400])\n",
    "if res['hits']: print json.dumps(res['hits']['hits'])"
   ]
  },
  {
   "cell_type": "code",
   "execution_count": 849,
   "metadata": {
    "collapsed": false
   },
   "outputs": [
    {
     "name": "stdout",
     "output_type": "stream",
     "text": [
      "[{\"sort\": [1476257366697], \"_type\": \"rolling\", \"_source\": {\"status\": \"arrived\", \"trip_distance\": 8.313455147356335, \"destination\": [41.7923, -87.5804], \"altdest2id\": \"Adler Planetarium\", \"altdest2\": [41.8663, -87.6068], \"altdest1\": [41.8663, -87.6171], \"city\": \"CHI\", \"altdest1id\": \"The Field Museum\", \"driver\": 2859, \"ctime\": \"2016-10-12T07:29:26.697041Z\", \"destinationid\": \"Museum of Science and Industry\", \"location\": [41.7924, -87.5803], \"ptime\": 0, \"path\": [[41.9059, -87.6338], [41.906, -87.6336], [41.7923, -87.5804]], \"match\": null, \"id\": 1067, \"origin\": [41.9059, -87.6338], \"name\": \"passenger_1067\"}, \"_score\": null, \"_index\": \"passenger\", \"_id\": \"1067\"}, {\"sort\": [1476257347544], \"_type\": \"rolling\", \"_source\": {\"status\": \"arrived\", \"trip_distance\": 48.268306750818944, \"destination\": [41.7923, -87.5804], \"altdest2id\": \"Adler Planetarium\", \"altdest2\": [41.8663, -87.6068], \"altdest1\": [41.8796, -87.6237], \"city\": \"CHI\", \"altdest1id\": \"Art Institute of Chicago\", \"driver\": 631, \"ctime\": \"2016-10-12T07:29:07.544930Z\", \"destinationid\": \"Museum of Science and Industry\", \"location\": [41.7924, -87.5803], \"ptime\": 0, \"path\": [[42.4916, -87.6502], [42.4901, -87.6428], [41.7923, -87.5804]], \"match\": null, \"id\": 11775, \"origin\": [42.4916, -87.6502], \"name\": \"passenger_11775\"}, \"_score\": null, \"_index\": \"passenger\", \"_id\": \"11775\"}, {\"sort\": [1476257346837], \"_type\": \"rolling\", \"_source\": {\"status\": \"arrived\", \"trip_distance\": 65.16292179393417, \"destination\": [41.7923, -87.5804], \"altdest2id\": \"Adler Planetarium\", \"altdest2\": [41.8663, -87.6068], \"altdest1\": [41.8796, -87.6237], \"city\": \"CHI\", \"altdest1id\": \"Art Institute of Chicago\", \"driver\": 102, \"ctime\": \"2016-10-12T07:29:06.837845Z\", \"destinationid\": \"Museum of Science and Industry\", \"location\": [41.7924, -87.5803], \"ptime\": 0, \"path\": [[42.7418, -87.6564], [42.7354, -87.639], [41.7923, -87.5804]], \"match\": null, \"id\": 11269, \"origin\": [42.7418, -87.6564], \"name\": \"passenger_11269\"}, \"_score\": null, \"_index\": \"passenger\", \"_id\": \"11269\"}, {\"sort\": [1476257320179], \"_type\": \"rolling\", \"_source\": {\"status\": \"arrived\", \"trip_distance\": 52.764705457867294, \"destination\": [41.7923, -87.5804], \"altdest2id\": \"Shedd Aquarium\", \"altdest2\": [41.8676, -87.6141], \"altdest1\": [41.8663, -87.6171], \"city\": \"CHI\", \"altdest1id\": \"The Field Museum\", \"driver\": 638, \"ctime\": \"2016-10-12T07:28:40.179735Z\", \"destinationid\": \"Museum of Science and Industry\", \"location\": [41.7924, -87.5803], \"ptime\": 0, \"path\": [[42.5022, -87.6537], [42.5264, -87.6416], [41.7923, -87.5804]], \"match\": null, \"id\": 7649, \"origin\": [42.5022, -87.6537], \"name\": \"passenger_7649\"}, \"_score\": null, \"_index\": \"passenger\", \"_id\": \"7649\"}, {\"sort\": [1476257029878], \"_type\": \"rolling\", \"_source\": {\"status\": \"arrived\", \"trip_distance\": 62.623278636387305, \"destination\": [41.7923, -87.5804], \"altdest2id\": \"Skydeck Chicago\", \"altdest2\": [41.8789, -87.6359], \"altdest1\": [41.8796, -87.6237], \"city\": \"CHI\", \"altdest1id\": \"Art Institute of Chicago\", \"driver\": 3918, \"ctime\": \"2016-10-12T07:23:49.878290Z\", \"destinationid\": \"Museum of Science and Industry\", \"location\": [41.7924, -87.5803], \"ptime\": 0, \"path\": [[42.6927, -87.6833], [42.6962, -87.6862], [41.7923, -87.5804]], \"match\": null, \"id\": 11754, \"origin\": [42.6927, -87.6833], \"name\": \"passenger_11754\"}, \"_score\": null, \"_index\": \"passenger\", \"_id\": \"11754\"}]\n"
     ]
    }
   ],
   "source": [
    "q = {'size': 5, \n",
    "    'query': { 'term': {'status': 'arrived'} },\n",
    "    'filter': {'range': { 'ctime': { 'gt': window }} \n",
    "        },\n",
    "     \"sort\": [{\"ctime\": {\"order\": \"desc\"}}]\n",
    "    }\n",
    "res = []\n",
    "q = es.search(index='passenger', doc_type='rolling', body=q, ignore=[404, 400])\n",
    "if q['hits']: res = json.dumps(q['hits']['hits'])\n",
    "print res"
   ]
  },
  {
   "cell_type": "code",
   "execution_count": 858,
   "metadata": {
    "collapsed": false
   },
   "outputs": [],
   "source": [
    "r =  [i['_source'] for i in q['hits']['hits']]"
   ]
  },
  {
   "cell_type": "code",
   "execution_count": 857,
   "metadata": {
    "collapsed": false
   },
   "outputs": [
    {
     "data": {
      "text/plain": [
       "[{u'altdest1': [41.8663, -87.6171],\n",
       "  u'altdest1id': u'The Field Museum',\n",
       "  u'altdest2': [41.8663, -87.6068],\n",
       "  u'altdest2id': u'Adler Planetarium',\n",
       "  u'city': u'CHI',\n",
       "  u'ctime': u'2016-10-12T07:29:26.697041Z',\n",
       "  u'destination': [41.7923, -87.5804],\n",
       "  u'destinationid': u'Museum of Science and Industry',\n",
       "  u'driver': 2859,\n",
       "  u'id': 1067,\n",
       "  u'location': [41.7924, -87.5803],\n",
       "  u'match': None,\n",
       "  u'name': u'passenger_1067',\n",
       "  u'origin': [41.9059, -87.6338],\n",
       "  u'path': [[41.9059, -87.6338], [41.906, -87.6336], [41.7923, -87.5804]],\n",
       "  u'ptime': 0,\n",
       "  u'status': u'arrived',\n",
       "  u'trip_distance': 8.313455147356335},\n",
       " {u'altdest1': [41.8796, -87.6237],\n",
       "  u'altdest1id': u'Art Institute of Chicago',\n",
       "  u'altdest2': [41.8663, -87.6068],\n",
       "  u'altdest2id': u'Adler Planetarium',\n",
       "  u'city': u'CHI',\n",
       "  u'ctime': u'2016-10-12T07:29:07.544930Z',\n",
       "  u'destination': [41.7923, -87.5804],\n",
       "  u'destinationid': u'Museum of Science and Industry',\n",
       "  u'driver': 631,\n",
       "  u'id': 11775,\n",
       "  u'location': [41.7924, -87.5803],\n",
       "  u'match': None,\n",
       "  u'name': u'passenger_11775',\n",
       "  u'origin': [42.4916, -87.6502],\n",
       "  u'path': [[42.4916, -87.6502], [42.4901, -87.6428], [41.7923, -87.5804]],\n",
       "  u'ptime': 0,\n",
       "  u'status': u'arrived',\n",
       "  u'trip_distance': 48.268306750818944},\n",
       " {u'altdest1': [41.8796, -87.6237],\n",
       "  u'altdest1id': u'Art Institute of Chicago',\n",
       "  u'altdest2': [41.8663, -87.6068],\n",
       "  u'altdest2id': u'Adler Planetarium',\n",
       "  u'city': u'CHI',\n",
       "  u'ctime': u'2016-10-12T07:29:06.837845Z',\n",
       "  u'destination': [41.7923, -87.5804],\n",
       "  u'destinationid': u'Museum of Science and Industry',\n",
       "  u'driver': 102,\n",
       "  u'id': 11269,\n",
       "  u'location': [41.7924, -87.5803],\n",
       "  u'match': None,\n",
       "  u'name': u'passenger_11269',\n",
       "  u'origin': [42.7418, -87.6564],\n",
       "  u'path': [[42.7418, -87.6564], [42.7354, -87.639], [41.7923, -87.5804]],\n",
       "  u'ptime': 0,\n",
       "  u'status': u'arrived',\n",
       "  u'trip_distance': 65.16292179393417},\n",
       " {u'altdest1': [41.8663, -87.6171],\n",
       "  u'altdest1id': u'The Field Museum',\n",
       "  u'altdest2': [41.8676, -87.6141],\n",
       "  u'altdest2id': u'Shedd Aquarium',\n",
       "  u'city': u'CHI',\n",
       "  u'ctime': u'2016-10-12T07:28:40.179735Z',\n",
       "  u'destination': [41.7923, -87.5804],\n",
       "  u'destinationid': u'Museum of Science and Industry',\n",
       "  u'driver': 638,\n",
       "  u'id': 7649,\n",
       "  u'location': [41.7924, -87.5803],\n",
       "  u'match': None,\n",
       "  u'name': u'passenger_7649',\n",
       "  u'origin': [42.5022, -87.6537],\n",
       "  u'path': [[42.5022, -87.6537], [42.5264, -87.6416], [41.7923, -87.5804]],\n",
       "  u'ptime': 0,\n",
       "  u'status': u'arrived',\n",
       "  u'trip_distance': 52.764705457867294},\n",
       " {u'altdest1': [41.8796, -87.6237],\n",
       "  u'altdest1id': u'Art Institute of Chicago',\n",
       "  u'altdest2': [41.8789, -87.6359],\n",
       "  u'altdest2id': u'Skydeck Chicago',\n",
       "  u'city': u'CHI',\n",
       "  u'ctime': u'2016-10-12T07:23:49.878290Z',\n",
       "  u'destination': [41.7923, -87.5804],\n",
       "  u'destinationid': u'Museum of Science and Industry',\n",
       "  u'driver': 3918,\n",
       "  u'id': 11754,\n",
       "  u'location': [41.7924, -87.5803],\n",
       "  u'match': None,\n",
       "  u'name': u'passenger_11754',\n",
       "  u'origin': [42.6927, -87.6833],\n",
       "  u'path': [[42.6927, -87.6833], [42.6962, -87.6862], [41.7923, -87.5804]],\n",
       "  u'ptime': 0,\n",
       "  u'status': u'arrived',\n",
       "  u'trip_distance': 62.623278636387305}]"
      ]
     },
     "execution_count": 857,
     "metadata": {},
     "output_type": "execute_result"
    }
   ],
   "source": [
    "r"
   ]
  },
  {
   "cell_type": "code",
   "execution_count": 875,
   "metadata": {
    "collapsed": true
   },
   "outputs": [],
   "source": [
    "q = {'size': 20,\n",
    "    'query': { 'terms': {'status': ['ontrip', 'arrived', 'pickup']} },\n",
    "    'filter': {'range': { 'ctime': { 'gt': window }} \n",
    "        },\n",
    "     \"sort\": [{\"ctime\": {\"order\": \"desc\"}}]\n",
    "    }\n",
    "res = []\n",
    "q = es.search(index='passenger', doc_type='rolling', body=q, ignore=[404, 400])"
   ]
  },
  {
   "cell_type": "code",
   "execution_count": 876,
   "metadata": {
    "collapsed": false
   },
   "outputs": [
    {
     "data": {
      "text/plain": [
       "[0.04184738843337838,\n",
       " 0.03606014035509266,\n",
       " 0.04942976198540751,\n",
       " 0.029251639822103045,\n",
       " 0.020738861111733755,\n",
       " 0.2524479700340077,\n",
       " 0.04218421230767893,\n",
       " 0.017234265286246754,\n",
       " 0.008615355481699923,\n",
       " 0.8359894580153394,\n",
       " 0.03165024528213993,\n",
       " 0.03781868015341891,\n",
       " 1.0436381645206783,\n",
       " 0.11884283982884647,\n",
       " 0.5325258725335308,\n",
       " 0.045459327546630394,\n",
       " 0.05295835851885678,\n",
       " 0.11105083066425393,\n",
       " 0.006901605531277425,\n",
       " 0.041862865238358506]"
      ]
     },
     "execution_count": 876,
     "metadata": {},
     "output_type": "execute_result"
    }
   ],
   "source": [
    "[ i['trip_distance'] for i in [i['_source'] for i in q['hits']['hits']]]"
   ]
  },
  {
   "cell_type": "code",
   "execution_count": null,
   "metadata": {
    "collapsed": true
   },
   "outputs": [],
   "source": []
  }
 ],
 "metadata": {
  "kernelspec": {
   "display_name": "Python 2",
   "language": "python",
   "name": "python2"
  },
  "language_info": {
   "codemirror_mode": {
    "name": "ipython",
    "version": 2
   },
   "file_extension": ".py",
   "mimetype": "text/x-python",
   "name": "python",
   "nbconvert_exporter": "python",
   "pygments_lexer": "ipython2",
   "version": "2.7.6"
  }
 },
 "nbformat": 4,
 "nbformat_minor": 0
}
