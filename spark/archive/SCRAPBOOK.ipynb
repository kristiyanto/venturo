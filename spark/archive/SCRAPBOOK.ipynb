{
 "cells": [
  {
   "cell_type": "code",
   "execution_count": 364,
   "metadata": {
    "collapsed": false
   },
   "outputs": [],
   "source": [
    "from elasticsearch import Elasticsearch\n",
    "from datetime import datetime, timedelta\n",
    "\n",
    "import json\n",
    "cluster = ['ip-172-31-0-107', 'ip-172-31-0-100', 'ip-172-31-0-105', 'ip-172-31-0-106']\n",
    "es = Elasticsearch(cluster, port=9200)"
   ]
  },
  {
   "cell_type": "code",
   "execution_count": 365,
   "metadata": {
    "collapsed": true
   },
   "outputs": [],
   "source": [
    "def dispatch(ctime, location, driver, name, p1=None, p2=None):\n",
    "        #d = retrieveDriver(driver, es)\n",
    "        \n",
    "        p = scanPassenger(location, es)\n",
    "        \n",
    "        dDoc = {\"ctime\": ctime, \"location\": location, \"status\": \"idle\"}\n",
    "        if p:\n",
    "            doc = {\"status\": \"pickup\", \"driver\": driver, \"ctime\": ctime}\n",
    "            updatePassenger(p['id'], doc, es)\n",
    "\n",
    "            if p1: \n",
    "                dDoc['p2'] = p['id']\n",
    "            else:\n",
    "                dDoc['p1'] = p['id']\n",
    "                \n",
    "            dDoc['status'] = \"pickup\"\n",
    "            dDoc['destination'] = p['location']\n",
    "            dDoc['destinationid'] = p['id']\n",
    "            \n",
    "\n",
    "        updateDriver(driver, dDoc, es)\n",
    "        \n",
    "        bulk = (1, '{{doc: {}}}'.format(json.dumps(dDoc)))\n",
    "        return (bulk)"
   ]
  },
  {
   "cell_type": "code",
   "execution_count": 423,
   "metadata": {
    "collapsed": false
   },
   "outputs": [],
   "source": [
    "window = 'now-2h'\n",
    "\n",
    "q = {'size': 0,\n",
    "    'query': { 'terms': {'status': ['arrived']} },\n",
    "    'filter': {'range': { 'ctime': { 'gt': window }} \n",
    "        },\n",
    "    }\n",
    "res = es.search(index='passenger', doc_type='rolling', body=q, ignore=[404, 400])\n",
    "\n"
   ]
  },
  {
   "cell_type": "code",
   "execution_count": 424,
   "metadata": {
    "collapsed": false
   },
   "outputs": [
    {
     "data": {
      "text/plain": [
       "1351"
      ]
     },
     "execution_count": 424,
     "metadata": {},
     "output_type": "execute_result"
    }
   ],
   "source": [
    "res['hits'][\"total\"]"
   ]
  },
  {
   "cell_type": "code",
   "execution_count": 405,
   "metadata": {
    "collapsed": false
   },
   "outputs": [
    {
     "data": {
      "text/plain": [
       "{'ctime': 'what', 'iam': 'hungry', 'location': 'ever', 'status': 'is'}"
      ]
     },
     "execution_count": 405,
     "metadata": {},
     "output_type": "execute_result"
    }
   ],
   "source": [
    "dDoc"
   ]
  },
  {
   "cell_type": "code",
   "execution_count": null,
   "metadata": {
    "collapsed": true
   },
   "outputs": [],
   "source": []
  }
 ],
 "metadata": {
  "kernelspec": {
   "display_name": "Python 2",
   "language": "python",
   "name": "python2"
  },
  "language_info": {
   "codemirror_mode": {
    "name": "ipython",
    "version": 2
   },
   "file_extension": ".py",
   "mimetype": "text/x-python",
   "name": "python",
   "nbconvert_exporter": "python",
   "pygments_lexer": "ipython2",
   "version": "2.7.6"
  }
 },
 "nbformat": 4,
 "nbformat_minor": 0
}
