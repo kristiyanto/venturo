{
 "cells": [
  {
   "cell_type": "code",
   "execution_count": 19,
   "metadata": {
    "collapsed": false
   },
   "outputs": [],
   "source": [
    "from elasticsearch import Elasticsearch\n",
    "from pyspark import SparkContext\n",
    "from pyspark.streaming import StreamingContext\n",
    "\n",
    "from kafka import KafkaConsumer\n",
    "import os\n",
    "import json\n",
    "from datetime import datetime\n",
    "\n",
    "es = Elasticsearch([{'host': 'localhost', 'port': 9200}])\n",
    "\n",
    "#consumer = KafkaConsumer('passenger', group_id = 1)\n",
    "#for message in consumer:\n",
    "#    message = json.loads(message.value)\n",
    "#    print \"{}\".format(message)\n",
    "#    incoming = passenger(message)\n",
    "#    incoming.store()\n",
    "#    consumer.commit()\n",
    "#consumer.close()"
   ]
  },
  {
   "cell_type": "code",
   "execution_count": 20,
   "metadata": {
    "collapsed": false
   },
   "outputs": [],
   "source": [
    "cluster = ['ip-172-31-0-107', 'ip-172-31-0-100', 'ip-172-31-0-105', 'ip-172-31-0-106']\n",
    "es = Elasticsearch(cluster, port=9200)\n",
    "geo_query = { \"from\" : 0, \"size\" : 1,\n",
    "                      \"query\": {\n",
    "                   \"filtered\": {\n",
    "                     \"query\" : {\n",
    "                      \"term\" : {\"status\": \"wait\"}},\n",
    "                     \"filter\": {\n",
    "                        \"geo_distance\": {\n",
    "                            \"distance\": '1005km',\n",
    "                            \"distance_type\": \"plane\", \n",
    "                            \"location\": location }}\n",
    "                }}}\n",
    "\n",
    "res = es.search(index='passenger', doc_type='rolling', body=geo_query, ignore=[404, 400])"
   ]
  },
  {
   "cell_type": "code",
   "execution_count": 9,
   "metadata": {
    "collapsed": false
   },
   "outputs": [],
   "source": [
    "res = es.get(index='driver', doc_type='rolling', id=1, ignore=[404, 400])"
   ]
  },
  {
   "cell_type": "code",
   "execution_count": 30,
   "metadata": {
    "collapsed": false
   },
   "outputs": [
    {
     "name": "stdout",
     "output_type": "stream",
     "text": [
      "False\n"
     ]
    }
   ],
   "source": [
    "_driver = es.get(index='driver', doc_type='rolling', id=1)\n",
    "if _driver['found']:\n",
    "    try:\n",
    "        print False if _driver['_source']['p1'] and _driver['_source']['p2'] else True\n",
    "    except:\n",
    "        print False"
   ]
  },
  {
   "cell_type": "code",
   "execution_count": 21,
   "metadata": {
    "collapsed": false
   },
   "outputs": [],
   "source": [
    "_driver = es.get(index='driver', doc_type='rolling', id=1)\n"
   ]
  },
  {
   "cell_type": "code",
   "execution_count": 29,
   "metadata": {
    "collapsed": false
   },
   "outputs": [
    {
     "ename": "KeyError",
     "evalue": "'p1'",
     "output_type": "error",
     "traceback": [
      "\u001b[1;31m---------------------------------------------------------------------------\u001b[0m",
      "\u001b[1;31mKeyError\u001b[0m                                  Traceback (most recent call last)",
      "\u001b[1;32m<ipython-input-29-7d8a071d5b1d>\u001b[0m in \u001b[0;36m<module>\u001b[1;34m()\u001b[0m\n\u001b[1;32m----> 1\u001b[1;33m \u001b[0m_driver\u001b[0m\u001b[1;33m[\u001b[0m\u001b[1;34m'_source'\u001b[0m\u001b[1;33m]\u001b[0m\u001b[1;33m[\u001b[0m\u001b[1;34m'p1'\u001b[0m\u001b[1;33m]\u001b[0m\u001b[1;33m\u001b[0m\u001b[0m\n\u001b[0m",
      "\u001b[1;31mKeyError\u001b[0m: 'p1'"
     ]
    }
   ],
   "source": [
    "_driver['_source']['p1']"
   ]
  },
  {
   "cell_type": "code",
   "execution_count": null,
   "metadata": {
    "collapsed": true
   },
   "outputs": [],
   "source": []
  }
 ],
 "metadata": {
  "kernelspec": {
   "display_name": "Python 2",
   "language": "python",
   "name": "python2"
  },
  "language_info": {
   "codemirror_mode": {
    "name": "ipython",
    "version": 2
   },
   "file_extension": ".py",
   "mimetype": "text/x-python",
   "name": "python",
   "nbconvert_exporter": "python",
   "pygments_lexer": "ipython2",
   "version": "2.7.6"
  }
 },
 "nbformat": 4,
 "nbformat_minor": 0
}
