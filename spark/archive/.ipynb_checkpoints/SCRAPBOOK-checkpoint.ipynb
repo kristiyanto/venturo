{
 "cells": [
  {
   "cell_type": "code",
   "execution_count": 553,
   "metadata": {
    "collapsed": false
   },
   "outputs": [],
   "source": [
    "from elasticsearch import Elasticsearch\n",
    "from datetime import datetime, timedelta\n",
    "\n",
    "import json\n",
    "cluster = ['ip-172-31-0-107', 'ip-172-31-0-100', 'ip-172-31-0-105', 'ip-172-31-0-106']\n",
    "es = Elasticsearch(cluster, port=9200)"
   ]
  },
  {
   "cell_type": "code",
   "execution_count": 365,
   "metadata": {
    "collapsed": true
   },
   "outputs": [],
   "source": [
    "def dispatch(ctime, location, driver, name, p1=None, p2=None):\n",
    "        #d = retrieveDriver(driver, es)\n",
    "        \n",
    "        p = scanPassenger(location, es)\n",
    "        \n",
    "        dDoc = {\"ctime\": ctime, \"location\": location, \"status\": \"idle\"}\n",
    "        if p:\n",
    "            doc = {\"status\": \"pickup\", \"driver\": driver, \"ctime\": ctime}\n",
    "            updatePassenger(p['id'], doc, es)\n",
    "\n",
    "            if p1: \n",
    "                dDoc['p2'] = p['id']\n",
    "            else:\n",
    "                dDoc['p1'] = p['id']\n",
    "                \n",
    "            dDoc['status'] = \"pickup\"\n",
    "            dDoc['destination'] = p['location']\n",
    "            dDoc['altdest1'] = p['id']\n",
    "            \n",
    "\n",
    "        updateDriver(driver, dDoc, es)\n",
    "        \n",
    "        bulk = (1, '{{doc: {}}}'.format(json.dumps(dDoc)))\n",
    "        return (bulk)"
   ]
  },
  {
   "cell_type": "code",
   "execution_count": null,
   "metadata": {
    "collapsed": true
   },
   "outputs": [],
   "source": [
    "      'driver': {'type': 'string', \"include_in_all\": \"false\"},\n",
    "        'destination': {'type': 'geo_point', 'lat_lon': 'true', \"include_in_all\": \"false\"},\n",
    "        'destinationid':{'type': 'string', \"include_in_all\": \"false\"},                \n",
    "        'altdest1': {'type': 'geo_point', 'lat_lon': 'true', \"include_in_all\": \"false\"},\n",
    "        'altdestid1':{'type': 'string', \"include_in_all\": \"false\"},                    \n",
    "        'altdest2': {'type': 'geo_point', 'lat_lon': 'true', \"include_in_all\": \"false\"},\n",
    "        'altdestid2':{'type': 'string', \"include_in_all\": \"false\"}, \n",
    "        'origin': {'type': 'geo_point', 'lat_lon': 'true', \"include_in_all\": \"false\"},\n",
    "        'path': {'type': 'string', \"include_in_all\": \"false\"}\n"
   ]
  },
  {
   "cell_type": "code",
   "execution_count": 540,
   "metadata": {
    "collapsed": false
   },
   "outputs": [],
   "source": [
    "window = 'now-2h'\n",
    "location =[40.7589, -73.985]\n",
    "\n",
    "def retrievePassenger(pID, es):\n",
    "    p = es.get(index='passenger', doc_type='rolling', id=pID, \\\n",
    "                   ignore=[404, 400])\n",
    "    return p['_source'] if p['found'] else False\n",
    "\n",
    "\n",
    "p = retrievePassenger(44, es)\n",
    "if p: \n",
    "    shoulds = []\n",
    "    for i in [p['destinationid'],p['altdest1id'],p['altdest1id']]:\n",
    "        shoulds.append({'match': {'destinationid': i}})\n",
    "        shoulds.append({'match': {'altdest1id': i}}) \n",
    "        shoulds.append({'match': {'altdest1id': i}}) \n",
    "\n",
    "    destinations = [p['destinationid'], p['altdest1id'], p['altdest2id']]\n",
    "    geo_query = {\"size\": 1, \n",
    "         \"query\" : {\n",
    "          \"bool\" : {\n",
    "          \"must\" : { \"term\" : { \"status\" : \"arrived\" }},\n",
    "      \"must_not\" : { \"term\" : { \"id\" : p['id'] }},\n",
    "\n",
    "         \"filter\": {\n",
    "        \"geo_distance\": {\n",
    "            \"distance\": '3km',\n",
    "       \"distance_type\": \"plane\", \n",
    "            \"location\": location }},\n",
    "\n",
    "        \"should\" : shoulds,\n",
    "      \"minimum_should_match\" : 1,\n",
    "                     \"boost\" : 1.0\n",
    "            }},\n",
    "           \"sort\": [{\n",
    "  \"_geo_distance\": {\n",
    "       \"location\": location,\n",
    "          \"order\": \"asc\",\n",
    "           \"unit\": \"km\", \n",
    "  \"distance_type\": \"plane\" \n",
    "          }}],\n",
    "                }\n",
    "    \n",
    "res = es.search(index='passenger', doc_type='rolling', body=geo_query, ignore=[404, 400])\n",
    "\n"
   ]
  },
  {
   "cell_type": "code",
   "execution_count": 542,
   "metadata": {
    "collapsed": false
   },
   "outputs": [
    {
     "name": "stdout",
     "output_type": "stream",
     "text": [
      "{u'status': u'arrived', u'city': u'NYC', u'altdest2id': u'9/11 Memorial & Museum', u'altdest2': [40.7114, -74.0125], u'altdest1': [40.7794, -73.9632], u'altdest1id': u'The Metropolitan Museum of Art', u'destination': [40.7588, -73.9851], u'driver': 25, u'ctime': u'2016-10-11T05:31:24.189421Z', u'destinationid': u'Times Square', u'location': [40.7589, -73.985], u'ptime': 0, u'path': [[40.7887, -73.984], [40.8078, -73.9686], [40.7833, -73.9723], [40.7988, -73.9742], [40.7887, -73.984], [40.7887, -73.984], [40.7588, -73.9851], [40.7588, -73.9851], [40.7588, -73.9851]], u'id': 77, u'name': u'passenger_77'}\n"
     ]
    }
   ],
   "source": [
    "print res['hits']['hits'][0][\"_source\"] if res['hits']['hits'] else False\n"
   ]
  },
  {
   "cell_type": "code",
   "execution_count": 554,
   "metadata": {
    "collapsed": false
   },
   "outputs": [],
   "source": [
    "def retrievePassenger(pID, es):\n",
    "    p = es.get(index='passenger', doc_type='rolling', id=pID, \\\n",
    "                   ignore=[404, 400])\n",
    "    return p['_source'] if p['found'] else False\n"
   ]
  },
  {
   "cell_type": "code",
   "execution_count": 713,
   "metadata": {
    "collapsed": false
   },
   "outputs": [],
   "source": [
    "p1 = retrievePassenger(5, es)\n",
    "p2 = retrievePassenger(100, es)"
   ]
  },
  {
   "cell_type": "code",
   "execution_count": 723,
   "metadata": {
    "collapsed": false
   },
   "outputs": [],
   "source": [
    "p1Dest = [(p1['destination'], p1['destinationid']), (p1['altdest1'], p1['altdest1id']), \\\n",
    "              (p1['altdest2'], p1['altdest2id'])]\n",
    "p2Dest = [(p2['destination'], p2['destinationid']), (p2['altdest1'], p2['altdest1id']), \\\n",
    "              (p2['altdest2'], p2['altdest2id'])]\n",
    "\n",
    "dest1 = set([p1['destinationid'], p1['altdest1id'], p1['altdest2id']])  \n",
    "dest2 = set([p2['destinationid'], p2['altdest1id'], p2['altdest2id']])\n",
    "\n",
    "def distance(dest, location): \n",
    "    return vincenty(Point(dest), Point(location)).miles\n",
    "\n",
    "far = float(\"inf\")\n",
    "dest = False"
   ]
  },
  {
   "cell_type": "code",
   "execution_count": 724,
   "metadata": {
    "collapsed": false
   },
   "outputs": [],
   "source": [
    "\n",
    "for i in xrange(len(p1Dest)):\n",
    "    if (p1Dest[i][1] in list((dest1 & dest2))) and distance(p1Dest[i][0], location) < far:\n",
    "        far = distance(p1Dest[i][0], location)\n",
    "        dest = p1Dest[i]"
   ]
  },
  {
   "cell_type": "code",
   "execution_count": 725,
   "metadata": {
    "collapsed": false
   },
   "outputs": [
    {
     "data": {
      "text/plain": [
       "([41.8789, -87.6359], u'Skydeck Chicago')"
      ]
     },
     "execution_count": 725,
     "metadata": {},
     "output_type": "execute_result"
    }
   ],
   "source": [
    "dest"
   ]
  },
  {
   "cell_type": "code",
   "execution_count": 688,
   "metadata": {
    "collapsed": true
   },
   "outputs": [],
   "source": [
    "def distance(dest, location): \n",
    "        return vincenty(Point(dest), Point(location)).miles\n"
   ]
  },
  {
   "cell_type": "code",
   "execution_count": 727,
   "metadata": {
    "collapsed": false
   },
   "outputs": [
    {
     "ename": "KeyError",
     "evalue": "-1",
     "output_type": "error",
     "traceback": [
      "\u001b[1;31m---------------------------------------------------------------------------\u001b[0m",
      "\u001b[1;31mKeyError\u001b[0m                                  Traceback (most recent call last)",
      "\u001b[1;32m<ipython-input-727-d0a0eb47d316>\u001b[0m in \u001b[0;36m<module>\u001b[1;34m()\u001b[0m\n\u001b[1;32m----> 1\u001b[1;33m \u001b[0mdistance\u001b[0m \u001b[1;33m=\u001b[0m \u001b[0mdistance\u001b[0m\u001b[1;33m(\u001b[0m\u001b[0mlocation\u001b[0m\u001b[1;33m,\u001b[0m \u001b[0mres\u001b[0m\u001b[1;33m[\u001b[0m\u001b[1;33m-\u001b[0m\u001b[1;36m1\u001b[0m\u001b[1;33m]\u001b[0m\u001b[1;33m)\u001b[0m \u001b[1;33m+\u001b[0m \u001b[0mint\u001b[0m\u001b[1;33m(\u001b[0m\u001b[0mp1\u001b[0m\u001b[1;33m[\u001b[0m\u001b[1;34m'_source'\u001b[0m\u001b[1;33m]\u001b[0m\u001b[1;33m[\u001b[0m\u001b[1;34m'trip_distance'\u001b[0m\u001b[1;33m]\u001b[0m\u001b[1;33m)\u001b[0m\u001b[1;33m\u001b[0m\u001b[0m\n\u001b[0m",
      "\u001b[1;31mKeyError\u001b[0m: -1"
     ]
    }
   ],
   "source": [
    "distance = distance(location, res[-1]) + int(p1['_source']['trip_distance'])"
   ]
  },
  {
   "cell_type": "code",
   "execution_count": 728,
   "metadata": {
    "collapsed": false
   },
   "outputs": [
    {
     "data": {
      "text/plain": [
       "{u'_shards': {u'failed': 0, u'successful': 20, u'total': 20},\n",
       " u'hits': {u'hits': [{u'_id': u'77',\n",
       "    u'_index': u'passenger',\n",
       "    u'_score': None,\n",
       "    u'_source': {u'altdest1': [40.7794, -73.9632],\n",
       "     u'altdest1id': u'The Metropolitan Museum of Art',\n",
       "     u'altdest2': [40.7114, -74.0125],\n",
       "     u'altdest2id': u'9/11 Memorial & Museum',\n",
       "     u'city': u'NYC',\n",
       "     u'ctime': u'2016-10-11T05:31:24.189421Z',\n",
       "     u'destination': [40.7588, -73.9851],\n",
       "     u'destinationid': u'Times Square',\n",
       "     u'driver': 25,\n",
       "     u'id': 77,\n",
       "     u'location': [40.7589, -73.985],\n",
       "     u'name': u'passenger_77',\n",
       "     u'path': [[40.7887, -73.984],\n",
       "      [40.8078, -73.9686],\n",
       "      [40.7833, -73.9723],\n",
       "      [40.7988, -73.9742],\n",
       "      [40.7887, -73.984],\n",
       "      [40.7887, -73.984],\n",
       "      [40.7588, -73.9851],\n",
       "      [40.7588, -73.9851],\n",
       "      [40.7588, -73.9851]],\n",
       "     u'ptime': 0,\n",
       "     u'status': u'arrived'},\n",
       "    u'_type': u'rolling',\n",
       "    u'sort': [3.4199593266745287e-06]}],\n",
       "  u'max_score': None,\n",
       "  u'total': 8},\n",
       " u'timed_out': False,\n",
       " u'took': 6}"
      ]
     },
     "execution_count": 728,
     "metadata": {},
     "output_type": "execute_result"
    }
   ],
   "source": [
    "res"
   ]
  },
  {
   "cell_type": "code",
   "execution_count": 733,
   "metadata": {
    "collapsed": false
   },
   "outputs": [],
   "source": [
    "res = es.get(index='passenger', doc_type='rolling', id=3, ignore=[400,404])\n"
   ]
  },
  {
   "cell_type": "code",
   "execution_count": 781,
   "metadata": {
    "collapsed": false
   },
   "outputs": [
    {
     "ename": "KeyError",
     "evalue": "'aggregations'",
     "output_type": "error",
     "traceback": [
      "\u001b[1;31m---------------------------------------------------------------------------\u001b[0m",
      "\u001b[1;31mKeyError\u001b[0m                                  Traceback (most recent call last)",
      "\u001b[1;32m<ipython-input-781-c35b99fc2e81>\u001b[0m in \u001b[0;36m<module>\u001b[1;34m()\u001b[0m\n\u001b[0;32m      9\u001b[0m \u001b[1;33m\u001b[0m\u001b[0m\n\u001b[0;32m     10\u001b[0m \u001b[0mres\u001b[0m \u001b[1;33m=\u001b[0m \u001b[0mes\u001b[0m\u001b[1;33m.\u001b[0m\u001b[0msearch\u001b[0m\u001b[1;33m(\u001b[0m\u001b[0mindex\u001b[0m\u001b[1;33m=\u001b[0m\u001b[1;34m'passenger'\u001b[0m\u001b[1;33m,\u001b[0m \u001b[0mdoc_type\u001b[0m\u001b[1;33m=\u001b[0m\u001b[1;34m'rolling'\u001b[0m\u001b[1;33m,\u001b[0m \u001b[0mbody\u001b[0m\u001b[1;33m=\u001b[0m\u001b[0mq\u001b[0m\u001b[1;33m,\u001b[0m \u001b[0mignore\u001b[0m\u001b[1;33m=\u001b[0m\u001b[1;33m[\u001b[0m\u001b[1;36m404\u001b[0m\u001b[1;33m,\u001b[0m \u001b[1;36m400\u001b[0m\u001b[1;33m]\u001b[0m\u001b[1;33m)\u001b[0m\u001b[1;33m\u001b[0m\u001b[0m\n\u001b[1;32m---> 11\u001b[1;33m \u001b[1;32mif\u001b[0m \u001b[0mres\u001b[0m\u001b[1;33m[\u001b[0m\u001b[1;34m'aggregations'\u001b[0m\u001b[1;33m]\u001b[0m\u001b[1;33m[\u001b[0m\u001b[1;34m'avg_wait'\u001b[0m\u001b[1;33m]\u001b[0m\u001b[1;33m[\u001b[0m\u001b[1;34m'avg_wait'\u001b[0m\u001b[1;33m]\u001b[0m\u001b[1;33m[\u001b[0m\u001b[1;34m'value'\u001b[0m\u001b[1;33m]\u001b[0m\u001b[1;33m:\u001b[0m\u001b[1;33m\u001b[0m\u001b[0m\n\u001b[0m\u001b[0;32m     12\u001b[0m     \u001b[0mres\u001b[0m \u001b[1;33m=\u001b[0m \u001b[0mround\u001b[0m\u001b[1;33m(\u001b[0m\u001b[0mfloat\u001b[0m\u001b[1;33m(\u001b[0m\u001b[0mres\u001b[0m\u001b[1;33m[\u001b[0m\u001b[1;34m'aggregations'\u001b[0m\u001b[1;33m]\u001b[0m\u001b[1;33m[\u001b[0m\u001b[1;34m'avg_wait'\u001b[0m\u001b[1;33m]\u001b[0m\u001b[1;33m[\u001b[0m\u001b[1;34m'avg_wait'\u001b[0m\u001b[1;33m]\u001b[0m\u001b[1;33m[\u001b[0m\u001b[1;34m'value'\u001b[0m\u001b[1;33m]\u001b[0m\u001b[1;33m)\u001b[0m\u001b[1;33m,\u001b[0m \u001b[1;36m2\u001b[0m\u001b[1;33m)\u001b[0m\u001b[1;33m\u001b[0m\u001b[0m\n\u001b[0;32m     13\u001b[0m \u001b[1;32melse\u001b[0m\u001b[1;33m:\u001b[0m\u001b[1;33m\u001b[0m\u001b[0m\n",
      "\u001b[1;31mKeyError\u001b[0m: 'aggregations'"
     ]
    }
   ],
   "source": [
    "q = { 'size': 0,\n",
    "    \"aggs\" : {\n",
    "        \"avg_wait\" : { \"filter\" : {  \"range\" : { \"ctime\" : { \"gt\" : window,}}},\n",
    "        \"aggs\" : {\n",
    "            \"avg_wait\" : { \"avg\" : { \"field\" : \"trip_distance\" } }\n",
    "            }}}}\n",
    "\n",
    "res = es.search(index='passenger', doc_type='rolling', body=q, ignore=[404, 400])\n",
    "if res['aggregations']['avg_wait']['avg_wait']['value']:\n",
    "    res = round(float(res['aggregations']['avg_wait']['avg_wait']['value']), 2)\n",
    "else:\n",
    "    res = \"N/A\"\n",
    "print res\n"
   ]
  },
  {
   "cell_type": "code",
   "execution_count": 763,
   "metadata": {
    "collapsed": false
   },
   "outputs": [],
   "source": [
    "if res['aggregations']['avg_distance']['avg_distance']['value']:\n",
    "        res = round(float(res['aggregations']['avg_distance']['avg_distance']['value']), 2)\n",
    "else:\n",
    "        res = 0"
   ]
  },
  {
   "cell_type": "code",
   "execution_count": 799,
   "metadata": {
    "collapsed": false
   },
   "outputs": [],
   "source": [
    "q = {'size': 5,  \"fields\" : [\"id\", \"ptime\", \"path\"],\n",
    "        'query': { 'term': {'status': 'wait'} },\n",
    "        'filter': {'range': { 'ctime': { 'gt': window }} \n",
    "            }\n",
    "        }\n",
    "res = es.search(index='passenger', doc_type='rolling', body=q, ignore=[404, 400])"
   ]
  },
  {
   "cell_type": "code",
   "execution_count": 800,
   "metadata": {
    "collapsed": false
   },
   "outputs": [
    {
     "data": {
      "text/plain": [
       "{u'_shards': {u'failed': 0, u'successful': 20, u'total': 20},\n",
       " u'hits': {u'hits': [], u'max_score': 0.0, u'total': 6833},\n",
       " u'timed_out': False,\n",
       " u'took': 24}"
      ]
     },
     "execution_count": 800,
     "metadata": {},
     "output_type": "execute_result"
    }
   ],
   "source": [
    "res"
   ]
  },
  {
   "cell_type": "code",
   "execution_count": null,
   "metadata": {
    "collapsed": true
   },
   "outputs": [],
   "source": []
  }
 ],
 "metadata": {
  "kernelspec": {
   "display_name": "Python 2",
   "language": "python",
   "name": "python2"
  },
  "language_info": {
   "codemirror_mode": {
    "name": "ipython",
    "version": 2
   },
   "file_extension": ".py",
   "mimetype": "text/x-python",
   "name": "python",
   "nbconvert_exporter": "python",
   "pygments_lexer": "ipython2",
   "version": "2.7.6"
  }
 },
 "nbformat": 4,
 "nbformat_minor": 0
}
