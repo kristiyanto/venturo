{
 "cells": [
  {
   "cell_type": "code",
   "execution_count": 1,
   "metadata": {
    "collapsed": false
   },
   "outputs": [],
   "source": [
    "from elasticsearch import Elasticsearch\n",
    "from datetime import datetime\n",
    "\n",
    "import json\n",
    "cluster = ['ip-172-31-0-107', 'ip-172-31-0-100', 'ip-172-31-0-105', 'ip-172-31-0-106']\n",
    "es = Elasticsearch(cluster, port=9200)"
   ]
  },
  {
   "cell_type": "code",
   "execution_count": 408,
   "metadata": {
    "collapsed": false
   },
   "outputs": [],
   "source": [
    "I = json.dumps({'status': 'idle', 'origin': None, 'altdest2id': None, 'altdest2': None, 'altdest1': None, 'id': 1, 'name': 'driver_1', 'p2': None, 'p1': None, 'ctime': '2016-09-30 23:36:03.753770', 'altdest1id': None, 'destination': None, 'destinationid': None, 'location': [40.7778, -73.9448]})\n",
    "I = json.loads(I)\n",
    "ctime = I['ctime']\n",
    "driver = I ['id']\n",
    "status = I ['status']\n",
    "location = I['location']\n",
    "name = I [\"name\"]\n",
    "\n",
    "try:\n",
    "    tmp = datetime.strptime(\"{}\".format(ctime), '%Y-%m-%d %H:%M:%S.%f')\n",
    "    ctime = tmp.strftime('%Y-%m-%dT%H:%M:%S.%fZ')\n",
    "except:\n",
    "    pass\n"
   ]
  },
  {
   "cell_type": "code",
   "execution_count": 409,
   "metadata": {
    "collapsed": false
   },
   "outputs": [
    {
     "name": "stdout",
     "output_type": "stream",
     "text": [
      "{\"ctime\": \"2016-09-30T23:36:03.753770Z\", \"location\": [40.7778, -73.9448]}\n"
     ]
    }
   ],
   "source": [
    "geo_query = { \"from\" : 0, \"size\" : 1,\n",
    "                      \"query\": {\"filtered\": { \"filter\": { \"geo_distance\": \\\n",
    "                          { \"location\": location,  \"distance_type\": \"plane\", \"distance\": \"100km\" }}, \"query\": { \"query_string\": { \"query\": \"wait\" }}}}}\n",
    "\n",
    "res = es.search(index='passenger', doc_type='rolling', body=geo_query, ignore=[404, 400])\n",
    "\n",
    "if len(res['hits']['hits'])>0: \n",
    "    passenger = res['hits']['hits'][0][\"_source\"]\n",
    "    doc = json.dumps({\"status\": \"pickup\", \"driver\": driver})\n",
    "    q = '{{\"doc\": {}}}'.format(doc)\n",
    "    res = es.update(index='passenger', doc_type='rolling', id=passenger['id'], body=q, ignore=[400,404])\n",
    "    doc = {\"status\": \"pickup\", \"ctime\": ctime, \\\n",
    "           \"location\": location, 'name': name, \\\n",
    "           'destination':  passenger['location'], \\\n",
    "           'destinationid': passenger['id']}\n",
    "    if not p1:\n",
    "        doc['p1'] = passenger['id']\n",
    "    elif not p2:\n",
    "        doc['p2'] = passenger['id']\n",
    "    else:\n",
    "        pass # It's full!\n",
    "    doc = json.dumps(doc)\n",
    "    q = '{{\"doc\": {}, \"doc_as_upsert\": \"true\"}}'.format(doc)\n",
    "    res = es.update(index='driver', doc_type='rolling', id=driver, \\\n",
    "                    body=q)\n",
    "    doc = {\"status\": \"idle\", \"ctime\": ctime, \"location\": location, 'name': name}\n",
    "    doc = json.dumps(doc)\n",
    "    q = '{{\"doc\": {}, \"doc_as_upsert\": \"true\"}}'.format(doc)\n",
    "    res = es.update(index='driver', doc_type='rolling', id=driver, \\\n",
    "                    body=q)\n",
    "    print doc\n",
    "else:\n",
    "    doc = {\"ctime\": ctime, \"location\": location}\n",
    "    doc = json.dumps(doc)\n",
    "    q = '{{\"doc\": {}}}'.format(doc)\n",
    "    res = es.update(index='driver', doc_type='rolling', id=driver, \\\n",
    "                        body=q)\n",
    "    print(doc)"
   ]
  },
  {
   "cell_type": "code",
   "execution_count": 8,
   "metadata": {
    "collapsed": false
   },
   "outputs": [],
   "source": [
    "window = 'now-2h'\n",
    "\n",
    "\n",
    "q = {'size': 0,\n",
    "    \"aggs\" : {\n",
    "                    \"filter\" : { \"term\": { \"status\": \"arrived\" } },\n",
    "\n",
    "        \"avg_ptime\" : { \"avg\" : { \"field\" : \"ptime\" } }\n",
    "    }\n",
    "}\n",
    "\n",
    "q = {\n",
    "  \"query\": {\n",
    "    \"exists\": {\"field\": {\"match\"}}\n",
    "  },\n",
    "  \"size\": 1,\n",
    "  \"sort\": [\n",
    "    {\n",
    "      \"_timestamp\": {\n",
    "        \"order\": \"desc\"\n",
    "      }\n",
    "    }\n",
    "  ]\n",
    "}\n",
    "\n",
    "q = { 'size': 0,\n",
    "        \"aggs\" : {\n",
    "            \"avg_wait\" : { \"filter\" : {  \"range\" : { \"ctime\" : { \"gt\" : window,}}},\n",
    "            \"aggs\" : {\n",
    "                \"avg_wait\" : { \"avg\" : { \"field\" : \"ptime\" } }\n",
    "                }}}}\n",
    "\n",
    "res = es.search(index='passenger', doc_type='rolling', body=q, ignore=[404, 400])"
   ]
  },
  {
   "cell_type": "code",
   "execution_count": 10,
   "metadata": {
    "collapsed": false
   },
   "outputs": [
    {
     "data": {
      "text/plain": [
       "{u'_shards': {u'failed': 0, u'successful': 5, u'total': 5},\n",
       " u'aggregations': {u'avg_wait': {u'avg_wait': {u'value': 560.8333333333334},\n",
       "   u'doc_count': 194}},\n",
       " u'hits': {u'hits': [], u'max_score': 0.0, u'total': 194},\n",
       " u'timed_out': False,\n",
       " u'took': 1}"
      ]
     },
     "execution_count": 10,
     "metadata": {},
     "output_type": "execute_result"
    }
   ],
   "source": [
    "res"
   ]
  },
  {
   "cell_type": "code",
   "execution_count": 6,
   "metadata": {
    "collapsed": false
   },
   "outputs": [
    {
     "data": {
      "text/plain": [
       "0.0"
      ]
     },
     "execution_count": 6,
     "metadata": {},
     "output_type": "execute_result"
    }
   ],
   "source": [
    "res['aggregations']['avg_wait']['avg_wait']['value']"
   ]
  },
  {
   "cell_type": "code",
   "execution_count": 12,
   "metadata": {
    "collapsed": false
   },
   "outputs": [],
   "source": [
    "window = 'now-2h'\n",
    "\n",
    "q = { 'size': 1\n",
    "    'query' : {\n",
    "        'constant_score' : {\n",
    "            'query': {'exists' : { 'field' : 'match' }},\n",
    "            'filter' : {\n",
    "                'range': { 'ctime': { 'gt': window }}\n",
    "            }\n",
    "        }\n",
    "    }}\n",
    "res = es.search(index='passenger', doc_type='rolling', body=q, ignore=[404, 400])\n",
    "    \n",
    "#return res['hits']['total']"
   ]
  },
  {
   "cell_type": "code",
   "execution_count": 15,
   "metadata": {
    "collapsed": false
   },
   "outputs": [
    {
     "data": {
      "text/plain": [
       "{u'_shards': {u'failed': 0, u'successful': 5, u'total': 5},\n",
       " u'hits': {u'hits': [{u'_id': u'1267',\n",
       "    u'_index': u'passenger',\n",
       "    u'_score': 1.0,\n",
       "    u'_source': {u'altdest1': [41.8676, -87.6141],\n",
       "     u'altdest1id': u'Shedd Aquarium',\n",
       "     u'altdest2': [41.7923, -87.5804],\n",
       "     u'altdest2id': u'Museum of Science and Industry',\n",
       "     u'city': u'CHI',\n",
       "     u'ctime': u'2016-10-04T09:09:36.333526Z',\n",
       "     u'destination': [41.8663, -87.6068],\n",
       "     u'destinationid': u'Adler Planetarium',\n",
       "     u'id': 1267,\n",
       "     u'location': [41.9261, -87.7968],\n",
       "     u'name': u'passenger_1267',\n",
       "     u'path': [[41.9261, -87.7968]],\n",
       "     u'status': u'wait'},\n",
       "    u'_type': u'rolling'},\n",
       "   {u'_id': u'1274',\n",
       "    u'_index': u'passenger',\n",
       "    u'_score': 1.0,\n",
       "    u'_source': {u'altdest1': [41.8663, -87.6171],\n",
       "     u'altdest1id': u'The Field Museum',\n",
       "     u'altdest2': [41.8663, -87.6068],\n",
       "     u'altdest2id': u'Adler Planetarium',\n",
       "     u'city': u'CHI',\n",
       "     u'ctime': u'2016-10-04T09:09:36.347473Z',\n",
       "     u'destination': [41.7923, -87.5804],\n",
       "     u'destinationid': u'Museum of Science and Industry',\n",
       "     u'id': 1274,\n",
       "     u'location': [41.8466, -87.7355],\n",
       "     u'name': u'passenger_1274',\n",
       "     u'path': [[41.8466, -87.7355]],\n",
       "     u'status': u'wait'},\n",
       "    u'_type': u'rolling'},\n",
       "   {u'_id': u'1283',\n",
       "    u'_index': u'passenger',\n",
       "    u'_score': 1.0,\n",
       "    u'_source': {u'altdest1': [41.8663, -87.6171],\n",
       "     u'altdest1id': u'The Field Museum',\n",
       "     u'altdest2': [41.7923, -87.5804],\n",
       "     u'altdest2id': u'Museum of Science and Industry',\n",
       "     u'city': u'CHI',\n",
       "     u'ctime': u'2016-10-04T09:09:36.361735Z',\n",
       "     u'destination': [41.8789, -87.6359],\n",
       "     u'destinationid': u'Skydeck Chicago',\n",
       "     u'id': 1283,\n",
       "     u'location': [41.9022, -87.6795],\n",
       "     u'name': u'passenger_1283',\n",
       "     u'path': [[41.9022, -87.6795]],\n",
       "     u'status': u'wait'},\n",
       "    u'_type': u'rolling'},\n",
       "   {u'_id': u'1315',\n",
       "    u'_index': u'passenger',\n",
       "    u'_score': 1.0,\n",
       "    u'_source': {u'altdest1': [41.8663, -87.6171],\n",
       "     u'altdest1id': u'The Field Museum',\n",
       "     u'altdest2': [41.7923, -87.5804],\n",
       "     u'altdest2id': u'Museum of Science and Industry',\n",
       "     u'city': u'CHI',\n",
       "     u'ctime': u'2016-10-04T09:09:36.416559Z',\n",
       "     u'destination': [41.8789, -87.6359],\n",
       "     u'destinationid': u'Skydeck Chicago',\n",
       "     u'id': 1315,\n",
       "     u'location': [41.9562, -87.6988],\n",
       "     u'name': u'passenger_1315',\n",
       "     u'path': [[41.9562, -87.6988]],\n",
       "     u'status': u'wait'},\n",
       "    u'_type': u'rolling'},\n",
       "   {u'_id': u'1320',\n",
       "    u'_index': u'passenger',\n",
       "    u'_score': 1.0,\n",
       "    u'_source': {u'altdest1': [41.8789, -87.6359],\n",
       "     u'altdest1id': u'Skydeck Chicago',\n",
       "     u'altdest2': [41.7923, -87.5804],\n",
       "     u'altdest2id': u'Museum of Science and Industry',\n",
       "     u'city': u'CHI',\n",
       "     u'ctime': u'2016-10-04T09:09:36.423630Z',\n",
       "     u'destination': [41.8663, -87.6171],\n",
       "     u'destinationid': u'The Field Museum',\n",
       "     u'id': 1320,\n",
       "     u'location': [41.881, -87.7794],\n",
       "     u'name': u'passenger_1320',\n",
       "     u'path': [[41.881, -87.7794]],\n",
       "     u'status': u'wait'},\n",
       "    u'_type': u'rolling'},\n",
       "   {u'_id': u'1325',\n",
       "    u'_index': u'passenger',\n",
       "    u'_score': 1.0,\n",
       "    u'_source': {u'altdest1': [41.8789, -87.6359],\n",
       "     u'altdest1id': u'Skydeck Chicago',\n",
       "     u'altdest2': [41.8663, -87.6068],\n",
       "     u'altdest2id': u'Adler Planetarium',\n",
       "     u'city': u'CHI',\n",
       "     u'ctime': u'2016-10-04T09:09:36.429907Z',\n",
       "     u'destination': [41.7923, -87.5804],\n",
       "     u'destinationid': u'Museum of Science and Industry',\n",
       "     u'id': 1325,\n",
       "     u'location': [41.8643, -87.775],\n",
       "     u'name': u'passenger_1325',\n",
       "     u'path': [[41.8643, -87.775]],\n",
       "     u'status': u'wait'},\n",
       "    u'_type': u'rolling'},\n",
       "   {u'_id': u'1359',\n",
       "    u'_index': u'passenger',\n",
       "    u'_score': 1.0,\n",
       "    u'_source': {u'altdest1': [41.8663, -87.6068],\n",
       "     u'altdest1id': u'Adler Planetarium',\n",
       "     u'altdest2': [41.7923, -87.5804],\n",
       "     u'altdest2id': u'Museum of Science and Industry',\n",
       "     u'city': u'CHI',\n",
       "     u'ctime': u'2016-10-04T09:09:36.527936Z',\n",
       "     u'destination': [41.8676, -87.6141],\n",
       "     u'destinationid': u'Shedd Aquarium',\n",
       "     u'id': 1359,\n",
       "     u'location': [41.8492, -87.7069],\n",
       "     u'name': u'passenger_1359',\n",
       "     u'path': [[41.8492, -87.7069]],\n",
       "     u'status': u'wait'},\n",
       "    u'_type': u'rolling'},\n",
       "   {u'_id': u'1369',\n",
       "    u'_index': u'passenger',\n",
       "    u'_score': 1.0,\n",
       "    u'_source': {u'altdest1': [41.8676, -87.6141],\n",
       "     u'altdest1id': u'Shedd Aquarium',\n",
       "     u'altdest2': [41.8796, -87.6237],\n",
       "     u'altdest2id': u'Art Institute of Chicago',\n",
       "     u'city': u'CHI',\n",
       "     u'ctime': u'2016-10-04T09:09:36.544796Z',\n",
       "     u'destination': [41.7923, -87.5804],\n",
       "     u'destinationid': u'Museum of Science and Industry',\n",
       "     u'id': 1369,\n",
       "     u'location': [41.9191, -87.743],\n",
       "     u'name': u'passenger_1369',\n",
       "     u'path': [[41.9191, -87.743]],\n",
       "     u'status': u'wait'},\n",
       "    u'_type': u'rolling'},\n",
       "   {u'_id': u'1371',\n",
       "    u'_index': u'passenger',\n",
       "    u'_score': 1.0,\n",
       "    u'_source': {u'altdest1': [41.8663, -87.6171],\n",
       "     u'altdest1id': u'The Field Museum',\n",
       "     u'altdest2': [41.8676, -87.6141],\n",
       "     u'altdest2id': u'Shedd Aquarium',\n",
       "     u'city': u'CHI',\n",
       "     u'ctime': u'2016-10-04T09:09:36.547885Z',\n",
       "     u'destination': [41.7923, -87.5804],\n",
       "     u'destinationid': u'Museum of Science and Industry',\n",
       "     u'id': 1371,\n",
       "     u'location': [41.8405, -87.6811],\n",
       "     u'name': u'passenger_1371',\n",
       "     u'path': [[41.8405, -87.6811]],\n",
       "     u'status': u'wait'},\n",
       "    u'_type': u'rolling'},\n",
       "   {u'_id': u'1450',\n",
       "    u'_index': u'passenger',\n",
       "    u'_score': 1.0,\n",
       "    u'_source': {u'altdest1': [41.8796, -87.6237],\n",
       "     u'altdest1id': u'Art Institute of Chicago',\n",
       "     u'altdest2': [41.8663, -87.6068],\n",
       "     u'altdest2id': u'Adler Planetarium',\n",
       "     u'city': u'CHI',\n",
       "     u'ctime': u'2016-10-04T09:09:36.657584Z',\n",
       "     u'destination': [41.8676, -87.6141],\n",
       "     u'destinationid': u'Shedd Aquarium',\n",
       "     u'id': 1450,\n",
       "     u'location': [41.9796, -87.7183],\n",
       "     u'name': u'passenger_1450',\n",
       "     u'path': [[41.9796, -87.7183]],\n",
       "     u'status': u'wait'},\n",
       "    u'_type': u'rolling'}],\n",
       "  u'max_score': 1.0,\n",
       "  u'total': 408},\n",
       " u'timed_out': False,\n",
       " u'took': 2}"
      ]
     },
     "execution_count": 15,
     "metadata": {},
     "output_type": "execute_result"
    }
   ],
   "source": [
    "res"
   ]
  },
  {
   "cell_type": "code",
   "execution_count": null,
   "metadata": {
    "collapsed": true
   },
   "outputs": [],
   "source": []
  }
 ],
 "metadata": {
  "kernelspec": {
   "display_name": "Python 2",
   "language": "python",
   "name": "python2"
  },
  "language_info": {
   "codemirror_mode": {
    "name": "ipython",
    "version": 2
   },
   "file_extension": ".py",
   "mimetype": "text/x-python",
   "name": "python",
   "nbconvert_exporter": "python",
   "pygments_lexer": "ipython2",
   "version": "2.7.6"
  }
 },
 "nbformat": 4,
 "nbformat_minor": 0
}
