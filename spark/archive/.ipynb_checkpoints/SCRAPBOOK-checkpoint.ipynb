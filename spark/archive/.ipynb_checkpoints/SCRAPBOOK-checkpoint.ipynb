{
 "cells": [
  {
   "cell_type": "code",
   "execution_count": 2,
   "metadata": {
    "collapsed": false
   },
   "outputs": [],
   "source": [
    "from elasticsearch import Elasticsearch\n",
    "from datetime import datetime\n",
    "\n",
    "import json\n",
    "cluster = ['ip-172-31-0-107', 'ip-172-31-0-100', 'ip-172-31-0-105', 'ip-172-31-0-106']\n",
    "es = Elasticsearch(cluster, port=9200)"
   ]
  },
  {
   "cell_type": "code",
   "execution_count": 408,
   "metadata": {
    "collapsed": false
   },
   "outputs": [],
   "source": [
    "I = json.dumps({'status': 'idle', 'origin': None, 'altdest2id': None, 'altdest2': None, 'altdest1': None, 'id': 1, 'name': 'driver_1', 'p2': None, 'p1': None, 'ctime': '2016-09-30 23:36:03.753770', 'altdest1id': None, 'destination': None, 'destinationid': None, 'location': [40.7778, -73.9448]})\n",
    "I = json.loads(I)\n",
    "ctime = I['ctime']\n",
    "driver = I ['id']\n",
    "status = I ['status']\n",
    "location = I['location']\n",
    "name = I [\"name\"]\n",
    "\n",
    "try:\n",
    "    tmp = datetime.strptime(\"{}\".format(ctime), '%Y-%m-%d %H:%M:%S.%f')\n",
    "    ctime = tmp.strftime('%Y-%m-%dT%H:%M:%S.%fZ')\n",
    "except:\n",
    "    pass\n"
   ]
  },
  {
   "cell_type": "code",
   "execution_count": 409,
   "metadata": {
    "collapsed": false
   },
   "outputs": [
    {
     "name": "stdout",
     "output_type": "stream",
     "text": [
      "{\"ctime\": \"2016-09-30T23:36:03.753770Z\", \"location\": [40.7778, -73.9448]}\n"
     ]
    }
   ],
   "source": [
    "geo_query = { \"from\" : 0, \"size\" : 1,\n",
    "                      \"query\": {\"filtered\": { \"filter\": { \"geo_distance\": \\\n",
    "                          { \"location\": location,  \"distance_type\": \"plane\", \"distance\": \"100km\" }}, \"query\": { \"query_string\": { \"query\": \"wait\" }}}}}\n",
    "\n",
    "res = es.search(index='passenger', doc_type='rolling', body=geo_query, ignore=[404, 400])\n",
    "\n",
    "if len(res['hits']['hits'])>0: \n",
    "    passenger = res['hits']['hits'][0][\"_source\"]\n",
    "    doc = json.dumps({\"status\": \"pickup\", \"driver\": driver})\n",
    "    q = '{{\"doc\": {}}}'.format(doc)\n",
    "    res = es.update(index='passenger', doc_type='rolling', id=passenger['id'], body=q, ignore=[400,404])\n",
    "    doc = {\"status\": \"pickup\", \"ctime\": ctime, \\\n",
    "           \"location\": location, 'name': name, \\\n",
    "           'destination':  passenger['location'], \\\n",
    "           'destinationid': passenger['id']}\n",
    "    if not p1:\n",
    "        doc['p1'] = passenger['id']\n",
    "    elif not p2:\n",
    "        doc['p2'] = passenger['id']\n",
    "    else:\n",
    "        pass # It's full!\n",
    "    doc = json.dumps(doc)\n",
    "    q = '{{\"doc\": {}, \"doc_as_upsert\": \"true\"}}'.format(doc)\n",
    "    res = es.update(index='driver', doc_type='rolling', id=driver, \\\n",
    "                    body=q)\n",
    "    doc = {\"status\": \"idle\", \"ctime\": ctime, \"location\": location, 'name': name}\n",
    "    doc = json.dumps(doc)\n",
    "    q = '{{\"doc\": {}, \"doc_as_upsert\": \"true\"}}'.format(doc)\n",
    "    res = es.update(index='driver', doc_type='rolling', id=driver, \\\n",
    "                    body=q)\n",
    "    print doc\n",
    "else:\n",
    "    doc = {\"ctime\": ctime, \"location\": location}\n",
    "    doc = json.dumps(doc)\n",
    "    q = '{{\"doc\": {}}}'.format(doc)\n",
    "    res = es.update(index='driver', doc_type='rolling', id=driver, \\\n",
    "                        body=q)\n",
    "    print(doc)"
   ]
  },
  {
   "cell_type": "code",
   "execution_count": 48,
   "metadata": {
    "collapsed": false
   },
   "outputs": [],
   "source": [
    "window = 'now-2h'\n",
    "\n",
    "\n",
    "q = {'size': 0,\n",
    "    \"aggs\" : {\n",
    "                    \"filter\" : { \"term\": { \"status\": \"arrived\" } },\n",
    "\n",
    "        \"avg_ptime\" : { \"avg\" : { \"field\" : \"ptime\" } }\n",
    "    }\n",
    "}\n",
    "\n",
    "q = { 'size': 0,\n",
    "    \"aggs\" : {\n",
    "        \"avg_wait\" : { \"filter\" : {  \"range\" : {\n",
    "        \"ptime\" : {\n",
    "            \"gte\" : '0',\n",
    "            }}},\n",
    "        \"aggs\" : {\n",
    "            \"avg_price\" : { \"max\" : { \"field\" : \"ptime\" } }\n",
    "            }}}}\n",
    "\n",
    "res = es.search(index='passenger', doc_type='rolling', body=q, ignore=[404, 400])\n",
    "    "
   ]
  },
  {
   "cell_type": "code",
   "execution_count": 49,
   "metadata": {
    "collapsed": false
   },
   "outputs": [
    {
     "data": {
      "text/plain": [
       "{u'_shards': {u'failed': 0, u'successful': 5, u'total': 5},\n",
       " u'aggregations': {u'avg_wait': {u'avg_price': {u'value': 0.0},\n",
       "   u'doc_count': 98}},\n",
       " u'hits': {u'hits': [{u'_id': u'734',\n",
       "    u'_index': u'passenger',\n",
       "    u'_score': 1.0,\n",
       "    u'_source': {u'altdest1': [40.7114, -74.0125],\n",
       "     u'altdest1id': u'9/11 Memorial & Museum',\n",
       "     u'altdest2': [40.7794, -73.9632],\n",
       "     u'altdest2id': u'The Metropolitan Museum of Art',\n",
       "     u'ctime': u'2016-10-03T04:43:05.097199Z',\n",
       "     u'destination': [40.7488, -73.9854],\n",
       "     u'destinationid': u'Empire Building',\n",
       "     u'id': 734,\n",
       "     u'location': [40.8169, -73.9755],\n",
       "     u'name': u'passenger_734',\n",
       "     u'path': [[40.8169, -73.9755]],\n",
       "     u'status': u'wait'},\n",
       "    u'_type': u'rolling'},\n",
       "   {u'_id': u'742',\n",
       "    u'_index': u'passenger',\n",
       "    u'_score': 1.0,\n",
       "    u'_source': {u'altdest1': [40.7644, -73.9993],\n",
       "     u'altdest1id': u'Intrepid Sea, Air & Space Museum',\n",
       "     u'altdest2': [40.7488, -73.9854],\n",
       "     u'altdest2id': u'Empire Building',\n",
       "     u'ctime': u'2016-10-03T04:43:05.121312Z',\n",
       "     u'destination': [40.7831, -73.9592],\n",
       "     u'destinationid': u'Solomon R. Guggenheim Museum',\n",
       "     u'id': 742,\n",
       "     u'location': [40.7562, -73.9534],\n",
       "     u'name': u'passenger_742',\n",
       "     u'path': [[40.7562, -73.9534]],\n",
       "     u'status': u'wait'},\n",
       "    u'_type': u'rolling'},\n",
       "   {u'_id': u'754',\n",
       "    u'_index': u'passenger',\n",
       "    u'_score': 1.0,\n",
       "    u'_source': {u'altdest1': [40.7727, -73.9842],\n",
       "     u'altdest1id': u'Metropolitan Opera House',\n",
       "     u'altdest2': [40.7644, -73.9993],\n",
       "     u'altdest2id': u'Intrepid Sea, Air & Space Museum',\n",
       "     u'ctime': u'2016-10-03T04:43:05.315135Z',\n",
       "     u'destination': [40.7488, -73.9854],\n",
       "     u'destinationid': u'Empire Building',\n",
       "     u'id': 754,\n",
       "     u'location': [40.7718, -74.0068],\n",
       "     u'name': u'passenger_754',\n",
       "     u'path': [[40.7718, -74.0068]],\n",
       "     u'status': u'wait'},\n",
       "    u'_type': u'rolling'},\n",
       "   {u'_id': u'782',\n",
       "    u'_index': u'passenger',\n",
       "    u'_score': 1.0,\n",
       "    u'_source': {u'altdest1': [40.7794, -73.9632],\n",
       "     u'altdest1id': u'The Metropolitan Museum of Art',\n",
       "     u'altdest2': [40.7727, -73.9842],\n",
       "     u'altdest2id': u'Metropolitan Opera House',\n",
       "     u'ctime': u'2016-10-03T04:43:05.444210Z',\n",
       "     u'destination': [40.7488, -73.9854],\n",
       "     u'destinationid': u'Empire Building',\n",
       "     u'id': 782,\n",
       "     u'location': [40.8052, -73.9258],\n",
       "     u'name': u'passenger_782',\n",
       "     u'path': [[40.8052, -73.9258]],\n",
       "     u'status': u'wait'},\n",
       "    u'_type': u'rolling'},\n",
       "   {u'_id': u'785',\n",
       "    u'_index': u'passenger',\n",
       "    u'_score': 1.0,\n",
       "    u'_source': {u'altdest1': [40.7831, -73.9592],\n",
       "     u'altdest1id': u'Solomon R. Guggenheim Museum',\n",
       "     u'altdest2': [40.7808, -73.974],\n",
       "     u'altdest2id': u'American Museum of Natural History',\n",
       "     u'ctime': u'2016-10-03T04:43:05.473570Z',\n",
       "     u'destination': [40.7488, -73.9854],\n",
       "     u'destinationid': u'Empire Building',\n",
       "     u'id': 785,\n",
       "     u'location': [40.8141, -73.9824],\n",
       "     u'name': u'passenger_785',\n",
       "     u'path': [[40.8141, -73.9824]],\n",
       "     u'status': u'wait'},\n",
       "    u'_type': u'rolling'},\n",
       "   {u'_id': u'830',\n",
       "    u'_index': u'passenger',\n",
       "    u'_score': 1.0,\n",
       "    u'_source': {u'altdest1': [40.7831, -73.9592],\n",
       "     u'altdest1id': u'Solomon R. Guggenheim Museum',\n",
       "     u'altdest2': [40.7114, -74.0125],\n",
       "     u'altdest2id': u'9/11 Memorial & Museum',\n",
       "     u'ctime': u'2016-10-03T04:43:05.664630Z',\n",
       "     u'destination': [40.7794, -73.9632],\n",
       "     u'destinationid': u'The Metropolitan Museum of Art',\n",
       "     u'id': 830,\n",
       "     u'location': [40.7204, -73.9468],\n",
       "     u'name': u'passenger_830',\n",
       "     u'path': [[40.7204, -73.9468]],\n",
       "     u'status': u'wait'},\n",
       "    u'_type': u'rolling'},\n",
       "   {u'_id': u'840',\n",
       "    u'_index': u'passenger',\n",
       "    u'_score': 1.0,\n",
       "    u'_source': {u'altdest1': [40.7488, -73.9854],\n",
       "     u'altdest1id': u'Empire Building',\n",
       "     u'altdest2': [40.7794, -73.9632],\n",
       "     u'altdest2id': u'The Metropolitan Museum of Art',\n",
       "     u'ctime': u'2016-10-03T04:43:05.700115Z',\n",
       "     u'destination': [40.7831, -73.9592],\n",
       "     u'destinationid': u'Solomon R. Guggenheim Museum',\n",
       "     u'id': 840,\n",
       "     u'location': [40.8073, -74.0039],\n",
       "     u'name': u'passenger_840',\n",
       "     u'path': [[40.8073, -74.0039]],\n",
       "     u'status': u'wait'},\n",
       "    u'_type': u'rolling'},\n",
       "   {u'_id': u'865',\n",
       "    u'_index': u'passenger',\n",
       "    u'_score': 1.0,\n",
       "    u'_source': {u'altdest1': [40.7644, -73.9993],\n",
       "     u'altdest1id': u'Intrepid Sea, Air & Space Museum',\n",
       "     u'altdest2': [40.7114, -74.0125],\n",
       "     u'altdest2id': u'9/11 Memorial & Museum',\n",
       "     u'ctime': u'2016-10-03T04:43:05.840317Z',\n",
       "     u'destination': [40.7588, -73.9851],\n",
       "     u'destinationid': u'Times Square',\n",
       "     u'id': 865,\n",
       "     u'location': [40.8017, -73.9366],\n",
       "     u'name': u'passenger_865',\n",
       "     u'path': [[40.8017, -73.9366]],\n",
       "     u'status': u'wait'},\n",
       "    u'_type': u'rolling'},\n",
       "   {u'_id': u'41',\n",
       "    u'_index': u'passenger',\n",
       "    u'_score': 1.0,\n",
       "    u'_source': {u'altdest1': [40.7794, -73.9632],\n",
       "     u'altdest1id': u'The Metropolitan Museum of Art',\n",
       "     u'altdest2': [40.7808, -73.974],\n",
       "     u'altdest2id': u'American Museum of Natural History',\n",
       "     u'ctime': u'2016-10-03T04:43:01.837020Z',\n",
       "     u'destination': [40.7488, -73.9854],\n",
       "     u'destinationid': u'Empire Building',\n",
       "     u'id': 41,\n",
       "     u'location': [40.7225, -73.9547],\n",
       "     u'name': u'passenger_41',\n",
       "     u'path': [[40.7225, -73.9547]],\n",
       "     u'status': u'wait'},\n",
       "    u'_type': u'rolling'},\n",
       "   {u'_id': u'44',\n",
       "    u'_index': u'passenger',\n",
       "    u'_score': 1.0,\n",
       "    u'_source': {u'altdest1': [40.7644, -73.9993],\n",
       "     u'altdest1id': u'Intrepid Sea, Air & Space Museum',\n",
       "     u'altdest2': [40.7808, -73.974],\n",
       "     u'altdest2id': u'American Museum of Natural History',\n",
       "     u'ctime': u'2016-10-03T04:43:01.853481Z',\n",
       "     u'destination': [40.7727, -73.9842],\n",
       "     u'destinationid': u'Metropolitan Opera House',\n",
       "     u'id': 44,\n",
       "     u'location': [40.7693, -73.9283],\n",
       "     u'name': u'passenger_44',\n",
       "     u'path': [[40.7693, -73.9283]],\n",
       "     u'status': u'wait'},\n",
       "    u'_type': u'rolling'}],\n",
       "  u'max_score': 1.0,\n",
       "  u'total': 1026},\n",
       " u'timed_out': False,\n",
       " u'took': 17}"
      ]
     },
     "execution_count": 49,
     "metadata": {},
     "output_type": "execute_result"
    }
   ],
   "source": [
    "res"
   ]
  },
  {
   "cell_type": "code",
   "execution_count": 47,
   "metadata": {
    "collapsed": false
   },
   "outputs": [
    {
     "data": {
      "text/plain": [
       "{u'avg_wait': {u'avg_price': {u'value': 0.0}, u'doc_count': 98}}"
      ]
     },
     "execution_count": 47,
     "metadata": {},
     "output_type": "execute_result"
    }
   ],
   "source": [
    "res['aggregations']"
   ]
  },
  {
   "cell_type": "code",
   "execution_count": null,
   "metadata": {
    "collapsed": true
   },
   "outputs": [],
   "source": []
  }
 ],
 "metadata": {
  "kernelspec": {
   "display_name": "Python 2",
   "language": "python",
   "name": "python2"
  },
  "language_info": {
   "codemirror_mode": {
    "name": "ipython",
    "version": 2
   },
   "file_extension": ".py",
   "mimetype": "text/x-python",
   "name": "python",
   "nbconvert_exporter": "python",
   "pygments_lexer": "ipython2",
   "version": "2.7.6"
  }
 },
 "nbformat": 4,
 "nbformat_minor": 0
}
